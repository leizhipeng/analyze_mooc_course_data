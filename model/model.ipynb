{
 "cells": [
  {
   "cell_type": "code",
   "execution_count": 1,
   "metadata": {
    "collapsed": true
   },
   "outputs": [
    {
     "name": "stderr",
     "output_type": "stream",
     "text": [
      "C:\\Users\\zhipe\\Anaconda3\\envs\\glda\\lib\\site-packages\\scipy\\sparse\\sparsetools.py:21: DeprecationWarning: `scipy.sparse.sparsetools` is deprecated!\n",
      "scipy.sparse.sparsetools is a private module for scipy.sparse, and should not be used.\n",
      "  _deprecated()\n"
     ]
    }
   ],
   "source": [
    "import pandas as pd\n",
    "import matplotlib.pyplot as plt\n",
    "import pyLDAvis.gensim\n",
    "import re\n",
    "import nltk\n",
    "from nltk.stem.porter import *\n",
    "from stop_words import get_stop_words\n",
    "from nltk.tokenize import word_tokenize\n",
    "from wordcloud import WordCloud\n",
    "import gensim\n",
    "from gensim import corpora, models\n",
    "import pickle\n",
    "\n",
    "%matplotlib inline\n"
   ]
  },
  {
   "cell_type": "code",
   "execution_count": 2,
   "outputs": [
    {
     "name": "stderr",
     "output_type": "stream",
     "text": [
      "C:\\Users\\zhipe\\Anaconda3\\envs\\glda\\lib\\site-packages\\ipykernel\\ipkernel.py:287: DeprecationWarning: `should_run_async` will not call `transform_cell` automatically in the future. Please pass the result to `transformed_cell` argument and any exception that happen during thetransform in `preprocessing_exc_tuple` in IPython 7.17 and above.\n",
      "  and should_run_async(code)\n"
     ]
    }
   ],
   "source": [
    "data = pd.read_pickle(\"../ETL/data.pkl\")\n",
    "review_pd = pd.read_pickle(\"../ETL/review_pd.pkl\")"
   ],
   "metadata": {
    "collapsed": false,
    "pycharm": {
     "name": "#%%\n"
    }
   }
  },
  {
   "cell_type": "code",
   "execution_count": 3,
   "outputs": [
    {
     "name": "stderr",
     "output_type": "stream",
     "text": [
      "C:\\Users\\zhipe\\Anaconda3\\envs\\glda\\lib\\site-packages\\ipykernel\\ipkernel.py:287: DeprecationWarning: `should_run_async` will not call `transform_cell` automatically in the future. Please pass the result to `transformed_cell` argument and any exception that happen during thetransform in `preprocessing_exc_tuple` in IPython 7.17 and above.\n",
      "  and should_run_async(code)\n"
     ]
    },
    {
     "data": {
      "text/plain": "   id                                               name  \\\n0   1                         the-complete-sql-bootcamp/   \n1   2                                         tableau10/   \n2   3                     powerbi-complete-introduction/   \n3   4  microsoft-power-bi-up-running-with-power-bi-de...   \n4   5     the-business-intelligence-analyst-course-2018/   \n\n                                              seller  price  original_price  \\\n0                                      Jose Portilla  25.99          179.99   \n1             Kirill Eremenko  SuperDataScience Team  16.99          124.99   \n2  Manuel Lorenz  Academind by Maximilian Schwarz...  12.99           94.99   \n3         Maven Analytics  Chris Dutton  Aaron Parry  19.99          139.99   \n4                                        365 Careers  12.99           94.99   \n\n   lectures  hours       level  enrollment  rating  ...  \\\n0        83    9.0  All Levels    342288.0     4.7  ...   \n1        82    9.0  All Levels    231631.0     4.6  ...   \n2       275   23.5    Beginner    148077.0     4.6  ...   \n3       117   11.0  All Levels    109303.0     4.6  ...   \n4       413   20.5  All Levels    136869.0     4.5  ...   \n\n   downloadable_resources  last_update_date          instructor_title  \\\n0                    14.0        2020-10-01             Jose Portilla   \n1                     6.0        2021-02-01              Ligency Team   \n2                    26.0        2020-11-01  Maximilian Schwarzmüller   \n3                    14.0        2021-02-01               Aaron Parry   \n4                   151.0        2020-11-01               365 Careers   \n\n                                instructor_job_title  \\\n0            Head of Data Science, Pierian Data Inc.   \n1                    Helping Data Scientists Succeed   \n2          Professional Web Developer and Instructor   \n3  Professional Business Intelligence Trainer & C...   \n4  Creating opportunities for Business & Finance ...   \n\n                                     instructor_info instructor_rating  \\\n0    Jose Marcial Portilla has a BS and MS in Mec...               4.6   \n1  Hi there, We are the Ligency PR and Marketing ...               4.5   \n2  Experience as (Web) Developer Starting out at ...               4.6   \n3  Aaron is a professional analytics consultant a...               4.6   \n4  365 Careers is the #1 best-selling provider of...               4.5   \n\n   instructor_no_reviews  instructor_no_students instructor_no_courses  \\\n0               712729.0               2179902.0                  31.0   \n1               429183.0               1472140.0                  48.0   \n2               564184.0               1335299.0                  35.0   \n3                34377.0                438163.0                   3.0   \n4               385370.0               1322640.0                  68.0   \n\n                                       review_index  \n0            [0, 1, 2, 3, 4, 5, 6, 7, 8, 9, 10, 11]  \n1  [12, 13, 14, 15, 16, 17, 18, 19, 20, 21, 22, 23]  \n2  [24, 25, 26, 27, 28, 29, 30, 31, 32, 33, 34, 35]  \n3  [36, 37, 38, 39, 40, 41, 42, 43, 44, 45, 46, 47]  \n4  [48, 49, 50, 51, 52, 53, 54, 55, 56, 57, 58, 59]  \n\n[5 rows x 27 columns]",
      "text/html": "<div>\n<style scoped>\n    .dataframe tbody tr th:only-of-type {\n        vertical-align: middle;\n    }\n\n    .dataframe tbody tr th {\n        vertical-align: top;\n    }\n\n    .dataframe thead th {\n        text-align: right;\n    }\n</style>\n<table border=\"1\" class=\"dataframe\">\n  <thead>\n    <tr style=\"text-align: right;\">\n      <th></th>\n      <th>id</th>\n      <th>name</th>\n      <th>seller</th>\n      <th>price</th>\n      <th>original_price</th>\n      <th>lectures</th>\n      <th>hours</th>\n      <th>level</th>\n      <th>enrollment</th>\n      <th>rating</th>\n      <th>...</th>\n      <th>downloadable_resources</th>\n      <th>last_update_date</th>\n      <th>instructor_title</th>\n      <th>instructor_job_title</th>\n      <th>instructor_info</th>\n      <th>instructor_rating</th>\n      <th>instructor_no_reviews</th>\n      <th>instructor_no_students</th>\n      <th>instructor_no_courses</th>\n      <th>review_index</th>\n    </tr>\n  </thead>\n  <tbody>\n    <tr>\n      <th>0</th>\n      <td>1</td>\n      <td>the-complete-sql-bootcamp/</td>\n      <td>Jose Portilla</td>\n      <td>25.99</td>\n      <td>179.99</td>\n      <td>83</td>\n      <td>9.0</td>\n      <td>All Levels</td>\n      <td>342288.0</td>\n      <td>4.7</td>\n      <td>...</td>\n      <td>14.0</td>\n      <td>2020-10-01</td>\n      <td>Jose Portilla</td>\n      <td>Head of Data Science, Pierian Data Inc.</td>\n      <td>Jose Marcial Portilla has a BS and MS in Mec...</td>\n      <td>4.6</td>\n      <td>712729.0</td>\n      <td>2179902.0</td>\n      <td>31.0</td>\n      <td>[0, 1, 2, 3, 4, 5, 6, 7, 8, 9, 10, 11]</td>\n    </tr>\n    <tr>\n      <th>1</th>\n      <td>2</td>\n      <td>tableau10/</td>\n      <td>Kirill Eremenko  SuperDataScience Team</td>\n      <td>16.99</td>\n      <td>124.99</td>\n      <td>82</td>\n      <td>9.0</td>\n      <td>All Levels</td>\n      <td>231631.0</td>\n      <td>4.6</td>\n      <td>...</td>\n      <td>6.0</td>\n      <td>2021-02-01</td>\n      <td>Ligency Team</td>\n      <td>Helping Data Scientists Succeed</td>\n      <td>Hi there, We are the Ligency PR and Marketing ...</td>\n      <td>4.5</td>\n      <td>429183.0</td>\n      <td>1472140.0</td>\n      <td>48.0</td>\n      <td>[12, 13, 14, 15, 16, 17, 18, 19, 20, 21, 22, 23]</td>\n    </tr>\n    <tr>\n      <th>2</th>\n      <td>3</td>\n      <td>powerbi-complete-introduction/</td>\n      <td>Manuel Lorenz  Academind by Maximilian Schwarz...</td>\n      <td>12.99</td>\n      <td>94.99</td>\n      <td>275</td>\n      <td>23.5</td>\n      <td>Beginner</td>\n      <td>148077.0</td>\n      <td>4.6</td>\n      <td>...</td>\n      <td>26.0</td>\n      <td>2020-11-01</td>\n      <td>Maximilian Schwarzmüller</td>\n      <td>Professional Web Developer and Instructor</td>\n      <td>Experience as (Web) Developer Starting out at ...</td>\n      <td>4.6</td>\n      <td>564184.0</td>\n      <td>1335299.0</td>\n      <td>35.0</td>\n      <td>[24, 25, 26, 27, 28, 29, 30, 31, 32, 33, 34, 35]</td>\n    </tr>\n    <tr>\n      <th>3</th>\n      <td>4</td>\n      <td>microsoft-power-bi-up-running-with-power-bi-de...</td>\n      <td>Maven Analytics  Chris Dutton  Aaron Parry</td>\n      <td>19.99</td>\n      <td>139.99</td>\n      <td>117</td>\n      <td>11.0</td>\n      <td>All Levels</td>\n      <td>109303.0</td>\n      <td>4.6</td>\n      <td>...</td>\n      <td>14.0</td>\n      <td>2021-02-01</td>\n      <td>Aaron Parry</td>\n      <td>Professional Business Intelligence Trainer &amp; C...</td>\n      <td>Aaron is a professional analytics consultant a...</td>\n      <td>4.6</td>\n      <td>34377.0</td>\n      <td>438163.0</td>\n      <td>3.0</td>\n      <td>[36, 37, 38, 39, 40, 41, 42, 43, 44, 45, 46, 47]</td>\n    </tr>\n    <tr>\n      <th>4</th>\n      <td>5</td>\n      <td>the-business-intelligence-analyst-course-2018/</td>\n      <td>365 Careers</td>\n      <td>12.99</td>\n      <td>94.99</td>\n      <td>413</td>\n      <td>20.5</td>\n      <td>All Levels</td>\n      <td>136869.0</td>\n      <td>4.5</td>\n      <td>...</td>\n      <td>151.0</td>\n      <td>2020-11-01</td>\n      <td>365 Careers</td>\n      <td>Creating opportunities for Business &amp; Finance ...</td>\n      <td>365 Careers is the #1 best-selling provider of...</td>\n      <td>4.5</td>\n      <td>385370.0</td>\n      <td>1322640.0</td>\n      <td>68.0</td>\n      <td>[48, 49, 50, 51, 52, 53, 54, 55, 56, 57, 58, 59]</td>\n    </tr>\n  </tbody>\n</table>\n<p>5 rows × 27 columns</p>\n</div>"
     },
     "execution_count": 3,
     "metadata": {},
     "output_type": "execute_result"
    }
   ],
   "source": [
    "data.head()\n"
   ],
   "metadata": {
    "collapsed": false,
    "pycharm": {
     "name": "#%%\n"
    }
   }
  },
  {
   "cell_type": "code",
   "execution_count": 4,
   "outputs": [
    {
     "name": "stderr",
     "output_type": "stream",
     "text": [
      "C:\\Users\\zhipe\\Anaconda3\\envs\\glda\\lib\\site-packages\\ipykernel\\ipkernel.py:287: DeprecationWarning: `should_run_async` will not call `transform_cell` automatically in the future. Please pass the result to `transformed_cell` argument and any exception that happen during thetransform in `preprocessing_exc_tuple` in IPython 7.17 and above.\n",
      "  and should_run_async(code)\n"
     ]
    },
    {
     "name": "stdout",
     "output_type": "stream",
     "text": [
      "Index(['id', 'name', 'seller', 'price', 'original_price', 'lectures', 'hours',\n",
      "       'level', 'enrollment', 'rating', 'num_ratings', 'five_stars',\n",
      "       'four_stars', 'three_stars', 'two_stars', 'description',\n",
      "       'hours_ondemand_video', 'downloadable_resources', 'last_update_date',\n",
      "       'instructor_title', 'instructor_job_title', 'instructor_info',\n",
      "       'instructor_rating', 'instructor_no_reviews', 'instructor_no_students',\n",
      "       'instructor_no_courses', 'review_index'],\n",
      "      dtype='object')\n"
     ]
    }
   ],
   "source": [
    "print(data.columns)\n"
   ],
   "metadata": {
    "collapsed": false,
    "pycharm": {
     "name": "#%%\n"
    }
   }
  },
  {
   "cell_type": "markdown",
   "source": [
    "## LDA for course description"
   ],
   "metadata": {
    "collapsed": false,
    "pycharm": {
     "name": "#%% md\n"
    }
   }
  },
  {
   "cell_type": "code",
   "execution_count": 9,
   "outputs": [
    {
     "name": "stdout",
     "output_type": "stream",
     "text": [
      "1009 course descriptions are collected.\n"
     ]
    },
    {
     "name": "stderr",
     "output_type": "stream",
     "text": [
      "C:\\Users\\zhipe\\Anaconda3\\envs\\glda\\lib\\site-packages\\ipykernel\\ipkernel.py:287: DeprecationWarning: `should_run_async` will not call `transform_cell` automatically in the future. Please pass the result to `transformed_cell` argument and any exception that happen during thetransform in `preprocessing_exc_tuple` in IPython 7.17 and above.\n",
      "  and should_run_async(code)\n"
     ]
    }
   ],
   "source": [
    "docs = data[\"description\"].to_list()\n",
    "print(len(docs), \"course descriptions are collected.\")"
   ],
   "metadata": {
    "collapsed": false,
    "pycharm": {
     "name": "#%%\n"
    }
   }
  },
  {
   "cell_type": "code",
   "execution_count": 12,
   "outputs": [
    {
     "name": "stderr",
     "output_type": "stream",
     "text": [
      "C:\\Users\\zhipe\\Anaconda3\\envs\\glda\\lib\\site-packages\\ipykernel\\ipkernel.py:287: DeprecationWarning: `should_run_async` will not call `transform_cell` automatically in the future. Please pass the result to `transformed_cell` argument and any exception that happen during thetransform in `preprocessing_exc_tuple` in IPython 7.17 and above.\n",
      "  and should_run_async(code)\n"
     ]
    },
    {
     "data": {
      "text/plain": "\"Use SQL to query a database Use SQL to perform data analysis Be comfortable putting SQL and PostgreSQL on their resume Learn to perform GROUP BY statements Replicate real world situations and query reports Requirements No prior technical experience is required  All you need a computer  Description Learn how to use SQL quickly and effectively with this course! You'll learn how to read and write complex queries to a database using one of the most in demand skills - PostgreSQL. These skills are also applicable to any other major SQL database, such as MySQL, Microsoft SQL Server, Amazon Redshift, Oracle, and much more. Learning SQL is one of the fastest ways to improve your career prospects as it is one of the most in demand tech skills! In this course you'll learn quickly and receive challenges and tests along the way to improve your understanding! In this course you will learn everything you need to become a SQL Pro! Including: Get started with PostgreSQL and PgAdmin , two of the world's most popular SQL tools Learn he basics of SQL syntax Show more\""
     },
     "execution_count": 12,
     "metadata": {},
     "output_type": "execute_result"
    }
   ],
   "source": [
    "docs[0]"
   ],
   "metadata": {
    "collapsed": false,
    "pycharm": {
     "name": "#%%\n"
    }
   }
  },
  {
   "cell_type": "code",
   "execution_count": 14,
   "outputs": [
    {
     "name": "stderr",
     "output_type": "stream",
     "text": [
      "C:\\Users\\zhipe\\Anaconda3\\envs\\glda\\lib\\site-packages\\ipykernel\\ipkernel.py:287: DeprecationWarning: `should_run_async` will not call `transform_cell` automatically in the future. Please pass the result to `transformed_cell` argument and any exception that happen during thetransform in `preprocessing_exc_tuple` in IPython 7.17 and above.\n",
      "  and should_run_async(code)\n"
     ]
    },
    {
     "ename": "TypeError",
     "evalue": "expected string or bytes-like object",
     "output_type": "error",
     "traceback": [
      "\u001B[1;31m---------------------------------------------------------------------------\u001B[0m",
      "\u001B[1;31mTypeError\u001B[0m                                 Traceback (most recent call last)",
      "\u001B[1;32m<ipython-input-14-3b06e6f21f62>\u001B[0m in \u001B[0;36m<module>\u001B[1;34m\u001B[0m\n\u001B[0;32m     25\u001B[0m     \u001B[1;32mreturn\u001B[0m \u001B[0ms\u001B[0m\u001B[1;33m.\u001B[0m\u001B[0mstrip\u001B[0m\u001B[1;33m(\u001B[0m\u001B[1;33m)\u001B[0m\u001B[1;33m\u001B[0m\u001B[1;33m\u001B[0m\u001B[0m\n\u001B[0;32m     26\u001B[0m \u001B[1;33m\u001B[0m\u001B[0m\n\u001B[1;32m---> 27\u001B[1;33m \u001B[0mtext_lists\u001B[0m \u001B[1;33m=\u001B[0m \u001B[1;33m[\u001B[0m\u001B[0mpreprocess_sent\u001B[0m\u001B[1;33m(\u001B[0m\u001B[0mtext\u001B[0m\u001B[1;33m)\u001B[0m \u001B[1;32mfor\u001B[0m \u001B[0mtext\u001B[0m \u001B[1;32min\u001B[0m \u001B[0mdocs\u001B[0m\u001B[1;33m]\u001B[0m\u001B[1;33m\u001B[0m\u001B[1;33m\u001B[0m\u001B[0m\n\u001B[0m\u001B[0;32m     28\u001B[0m \u001B[1;33m\u001B[0m\u001B[0m\n",
      "\u001B[1;32m<ipython-input-14-3b06e6f21f62>\u001B[0m in \u001B[0;36m<listcomp>\u001B[1;34m(.0)\u001B[0m\n\u001B[0;32m     25\u001B[0m     \u001B[1;32mreturn\u001B[0m \u001B[0ms\u001B[0m\u001B[1;33m.\u001B[0m\u001B[0mstrip\u001B[0m\u001B[1;33m(\u001B[0m\u001B[1;33m)\u001B[0m\u001B[1;33m\u001B[0m\u001B[1;33m\u001B[0m\u001B[0m\n\u001B[0;32m     26\u001B[0m \u001B[1;33m\u001B[0m\u001B[0m\n\u001B[1;32m---> 27\u001B[1;33m \u001B[0mtext_lists\u001B[0m \u001B[1;33m=\u001B[0m \u001B[1;33m[\u001B[0m\u001B[0mpreprocess_sent\u001B[0m\u001B[1;33m(\u001B[0m\u001B[0mtext\u001B[0m\u001B[1;33m)\u001B[0m \u001B[1;32mfor\u001B[0m \u001B[0mtext\u001B[0m \u001B[1;32min\u001B[0m \u001B[0mdocs\u001B[0m\u001B[1;33m]\u001B[0m\u001B[1;33m\u001B[0m\u001B[1;33m\u001B[0m\u001B[0m\n\u001B[0m\u001B[0;32m     28\u001B[0m \u001B[1;33m\u001B[0m\u001B[0m\n",
      "\u001B[1;32m<ipython-input-14-3b06e6f21f62>\u001B[0m in \u001B[0;36mpreprocess_sent\u001B[1;34m(text)\u001B[0m\n\u001B[0;32m      6\u001B[0m     \"\"\"\n\u001B[0;32m      7\u001B[0m     \u001B[1;31m# Add missing delimiter: xxxThis is a --> xxx.\u001B[0m\u001B[1;33m\u001B[0m\u001B[1;33m\u001B[0m\u001B[1;33m\u001B[0m\u001B[0m\n\u001B[1;32m----> 8\u001B[1;33m     \u001B[0ms\u001B[0m \u001B[1;33m=\u001B[0m \u001B[0mre\u001B[0m\u001B[1;33m.\u001B[0m\u001B[0msub\u001B[0m\u001B[1;33m(\u001B[0m\u001B[1;34mr'([a-z])([A-Z])'\u001B[0m\u001B[1;33m,\u001B[0m \u001B[1;34mr'\\1\\. \\2'\u001B[0m\u001B[1;33m,\u001B[0m \u001B[0mtext\u001B[0m\u001B[1;33m)\u001B[0m  \u001B[1;31m# before lower case\u001B[0m\u001B[1;33m\u001B[0m\u001B[1;33m\u001B[0m\u001B[0m\n\u001B[0m\u001B[0;32m      9\u001B[0m     \u001B[1;31m# Make words all lower case.\u001B[0m\u001B[1;33m\u001B[0m\u001B[1;33m\u001B[0m\u001B[1;33m\u001B[0m\u001B[0m\n\u001B[0;32m     10\u001B[0m     \u001B[0ms\u001B[0m \u001B[1;33m=\u001B[0m \u001B[0ms\u001B[0m\u001B[1;33m.\u001B[0m\u001B[0mlower\u001B[0m\u001B[1;33m(\u001B[0m\u001B[1;33m)\u001B[0m\u001B[1;33m\u001B[0m\u001B[1;33m\u001B[0m\u001B[0m\n",
      "\u001B[1;32m~\\Anaconda3\\envs\\glda\\lib\\re.py\u001B[0m in \u001B[0;36msub\u001B[1;34m(pattern, repl, string, count, flags)\u001B[0m\n\u001B[0;32m    208\u001B[0m     \u001B[0ma\u001B[0m \u001B[0mcallable\u001B[0m\u001B[1;33m,\u001B[0m \u001B[0mit\u001B[0m\u001B[0;31m'\u001B[0m\u001B[0ms\u001B[0m \u001B[0mpassed\u001B[0m \u001B[0mthe\u001B[0m \u001B[0mMatch\u001B[0m \u001B[0mobject\u001B[0m \u001B[1;32mand\u001B[0m \u001B[0mmust\u001B[0m \u001B[1;32mreturn\u001B[0m\u001B[1;33m\u001B[0m\u001B[1;33m\u001B[0m\u001B[0m\n\u001B[0;32m    209\u001B[0m     a replacement string to be used.\"\"\"\n\u001B[1;32m--> 210\u001B[1;33m     \u001B[1;32mreturn\u001B[0m \u001B[0m_compile\u001B[0m\u001B[1;33m(\u001B[0m\u001B[0mpattern\u001B[0m\u001B[1;33m,\u001B[0m \u001B[0mflags\u001B[0m\u001B[1;33m)\u001B[0m\u001B[1;33m.\u001B[0m\u001B[0msub\u001B[0m\u001B[1;33m(\u001B[0m\u001B[0mrepl\u001B[0m\u001B[1;33m,\u001B[0m \u001B[0mstring\u001B[0m\u001B[1;33m,\u001B[0m \u001B[0mcount\u001B[0m\u001B[1;33m)\u001B[0m\u001B[1;33m\u001B[0m\u001B[1;33m\u001B[0m\u001B[0m\n\u001B[0m\u001B[0;32m    211\u001B[0m \u001B[1;33m\u001B[0m\u001B[0m\n\u001B[0;32m    212\u001B[0m \u001B[1;32mdef\u001B[0m \u001B[0msubn\u001B[0m\u001B[1;33m(\u001B[0m\u001B[0mpattern\u001B[0m\u001B[1;33m,\u001B[0m \u001B[0mrepl\u001B[0m\u001B[1;33m,\u001B[0m \u001B[0mstring\u001B[0m\u001B[1;33m,\u001B[0m \u001B[0mcount\u001B[0m\u001B[1;33m=\u001B[0m\u001B[1;36m0\u001B[0m\u001B[1;33m,\u001B[0m \u001B[0mflags\u001B[0m\u001B[1;33m=\u001B[0m\u001B[1;36m0\u001B[0m\u001B[1;33m)\u001B[0m\u001B[1;33m:\u001B[0m\u001B[1;33m\u001B[0m\u001B[1;33m\u001B[0m\u001B[0m\n",
      "\u001B[1;31mTypeError\u001B[0m: expected string or bytes-like object"
     ]
    }
   ],
   "source": [
    "def preprocess_sent(text):\n",
    "    \"\"\"\n",
    "    Get sentence level preprocessed data from raw texts\n",
    "    :param rw: review to be processed\n",
    "    :return: sentence level pre-processed review\n",
    "    \"\"\"\n",
    "    # Add missing delimiter: xxxThis is a --> xxx.\n",
    "    s = re.sub(r'([a-z])([A-Z])', r'\\1\\. \\2', text)  # before lower case\n",
    "    # Make words all lower case.\n",
    "    s = s.lower()\n",
    "    # Remove < and >\n",
    "    s = re.sub(r'&gt|&lt', ' ', s)\n",
    "    # Remove letters that repeat more than 2 time.\n",
    "    s = re.sub(r'([a-z])\\1{2,}', r'\\1', s)\n",
    "    # Remove non-word characters that repeat more than 1 time.\n",
    "    s = re.sub(r'([\\W+])\\1{1,}', r'\\1', s)\n",
    "    # Use string * as delimiter\n",
    "    s = re.sub(r'\\*|\\W\\*|\\*\\W', '. ', s)\n",
    "    # Remove words in parenthesis, which are assumed less informal\n",
    "    s = re.sub(r'\\(.*?\\)', '. ', s)\n",
    "    # xxx[?!]. -- > xxx.\n",
    "    s = re.sub(r'\\W+?\\.', '.', s)\n",
    "    # [.?!]xxx --> [.?!] xxx\n",
    "    s = re.sub(r'(\\.|\\?|!)(\\w)', r'\\1 \\2', s)\n",
    "    return s.strip()\n",
    "\n",
    "text_lists = [preprocess_sent(text) for text in docs]"
   ],
   "metadata": {
    "collapsed": false,
    "pycharm": {
     "name": "#%%\n"
    }
   }
  },
  {
   "cell_type": "code",
   "execution_count": null,
   "outputs": [],
   "source": [
    "\n"
   ],
   "metadata": {
    "collapsed": false,
    "pycharm": {
     "name": "#%%\n"
    }
   }
  }
 ],
 "metadata": {
  "kernelspec": {
   "display_name": "Python 3",
   "language": "python",
   "name": "python3"
  },
  "language_info": {
   "codemirror_mode": {
    "name": "ipython",
    "version": 2
   },
   "file_extension": ".py",
   "mimetype": "text/x-python",
   "name": "python",
   "nbconvert_exporter": "python",
   "pygments_lexer": "ipython2",
   "version": "2.7.6"
  }
 },
 "nbformat": 4,
 "nbformat_minor": 0
}