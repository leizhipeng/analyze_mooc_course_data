{
 "cells": [
  {
   "cell_type": "markdown",
   "metadata": {
    "collapsed": true,
    "pycharm": {
     "name": "#%% md\n"
    }
   },
   "source": [
    "# How Do We Design a Good Online Course for Business Analytics\n",
    "***\n",
    "## 1. Introduction"
   ]
  },
  {
   "cell_type": "markdown",
   "metadata": {},
   "source": [
    "### Background\n",
    "\n",
    "Websites for a massive open online course (MOOC), such as Udacity, Udemy, and Coursera, provide learners a low-cost, highly efficient way to acquire knowledge. Business analytics, which relies mainly on computer coding, is a popular topic in MOOC websites. Considering the impact of the COVID-19 pandemic on online learning and the job market where plenty of job openings on business analytics, we can foresee that the demand for business analytics online courses will continuously rise. \n",
    "\n",
    "In this blog, we aim to discover the secrete of designing an excellent online course for business analytics. We study the business analytics courses on the MOOC website, Udemy. Compared with MOOC websites like Udacity and Coursera, Udemy has many courses because it allows everyone to upload courses. The cost of learning Udemy courses is low as Udemy gives the $10 per course promotion regularly. \n",
    "\n",
    "### Objective\n",
    "\n",
    "In this project, we web scrap data of business analytics courses from Udemy and analyze to find insight on designing a good online course for business analytics. \n",
    "\n",
    "### Business Questions\n",
    "\n",
    "* What are the features of Business Analytics online course?\n",
    "* How are the course content introduced?\n",
    "* How are the instructor introduced?\n",
    "* What are the factors impacting the enrollments of the Business Analytics online course?\n",
    "\n",
    "### Dataset\n",
    "We use the package Selenium with Python to perform web scraping on the Udemy website.  The list of 1005 courses is obtained from Udemy's webpage for Business Analytics & Intelligence Courses. The information, such as enrollment number, course rating, and course description, is scrapped on each course's web page. \n",
    "\n",
    "* The preprosess of the non-text data is implemented in notebook ***ETL/ETL_nonText.ipynb***. \n",
    "* The preprosess of the text data is implemented in notebook ***ETL/ETL_Text.ipynb***. \n",
    "\n",
    "### Evaluation Metrics\n",
    "We set the enrollment number as the depedent variable and use other variables to predict the enrollment number. \n",
    "\n",
    "We define the Root Mean Squared Logarithmic Error (RMSLE) as the evaluation metrics. \n",
    "\n",
    "$RMSLE=\\sqrt{\\frac{1}{n}\\sum\\limits_{i=1}^{n}{{{(\\log ({{p}_{i}}+1)-\\log ({{a}_{i}}+1))}^{2}}}}$\n",
    "* $n$: number of sample courses\n",
    "* ${p}_{i}$: the prediction of the enrollment number of the $i$ course.\n",
    "* ${a}_{i}$: the actural value of the enrollment number of the $i$ course.\n"
   ]
  },
  {
   "cell_type": "markdown",
   "metadata": {},
   "source": [
    "## 2. Load Dataset"
   ]
  },
  {
   "cell_type": "code",
   "execution_count": 1,
   "metadata": {
    "pycharm": {
     "name": "#%%\n"
    }
   },
   "outputs": [],
   "source": [
    "import numpy as np\n",
    "import pandas as pd\n",
    "import math\n",
    "import matplotlib.pyplot as plt\n",
    "from sklearn.preprocessing import LabelEncoder, MinMaxScaler, StandardScaler\n",
    "%matplotlib inline"
   ]
  },
  {
   "cell_type": "markdown",
   "metadata": {},
   "source": [
    "* The data is preprocessed in ***ETL/ETL_nonText.ipynb*** and ***ETL/ETL_Text.ipynb***.  "
   ]
  },
  {
   "cell_type": "code",
   "execution_count": 2,
   "metadata": {
    "pycharm": {
     "name": "#%%\n"
    }
   },
   "outputs": [
    {
     "data": {
      "text/html": [
       "<div>\n",
       "<style scoped>\n",
       "    .dataframe tbody tr th:only-of-type {\n",
       "        vertical-align: middle;\n",
       "    }\n",
       "\n",
       "    .dataframe tbody tr th {\n",
       "        vertical-align: top;\n",
       "    }\n",
       "\n",
       "    .dataframe thead th {\n",
       "        text-align: right;\n",
       "    }\n",
       "</style>\n",
       "<table border=\"1\" class=\"dataframe\">\n",
       "  <thead>\n",
       "    <tr style=\"text-align: right;\">\n",
       "      <th></th>\n",
       "      <th>price</th>\n",
       "      <th>original_price</th>\n",
       "      <th>lectures</th>\n",
       "      <th>hours</th>\n",
       "      <th>level</th>\n",
       "      <th>enrollment</th>\n",
       "      <th>rating</th>\n",
       "      <th>num_ratings</th>\n",
       "      <th>five_stars</th>\n",
       "      <th>four_stars</th>\n",
       "      <th>three_stars</th>\n",
       "      <th>two_stars</th>\n",
       "      <th>downloadable_resources</th>\n",
       "      <th>instructor_no_courses</th>\n",
       "      <th>descr_LDA_0</th>\n",
       "      <th>descr_LDA_1</th>\n",
       "      <th>descr_LDA_2</th>\n",
       "      <th>descr_LDA_3</th>\n",
       "      <th>descr_LDA_4</th>\n",
       "      <th>descr_LDA_5</th>\n",
       "      <th>descr_LDA_6</th>\n",
       "      <th>descr_LDA_7</th>\n",
       "      <th>descr_LDA_8</th>\n",
       "      <th>descr_LDA_9</th>\n",
       "      <th>instr_LDA_0</th>\n",
       "      <th>instr_LDA_1</th>\n",
       "      <th>instr_LDA_2</th>\n",
       "      <th>instr_LDA_3</th>\n",
       "      <th>instr_LDA_4</th>\n",
       "      <th>instr_LDA_5</th>\n",
       "      <th>instr_LDA_6</th>\n",
       "      <th>instr_LDA_7</th>\n",
       "      <th>instr_LDA_8</th>\n",
       "      <th>instr_LDA_9</th>\n",
       "    </tr>\n",
       "  </thead>\n",
       "  <tbody>\n",
       "    <tr>\n",
       "      <th>0</th>\n",
       "      <td>25.99</td>\n",
       "      <td>179.99</td>\n",
       "      <td>83</td>\n",
       "      <td>9.0</td>\n",
       "      <td>All Levels</td>\n",
       "      <td>342288.0</td>\n",
       "      <td>4.7</td>\n",
       "      <td>91772.0</td>\n",
       "      <td>0.60</td>\n",
       "      <td>0.33</td>\n",
       "      <td>0.06</td>\n",
       "      <td>0.01</td>\n",
       "      <td>14.0</td>\n",
       "      <td>31.0</td>\n",
       "      <td>0.034318</td>\n",
       "      <td>0.950584</td>\n",
       "      <td>0.000000</td>\n",
       "      <td>0.000000</td>\n",
       "      <td>0.0</td>\n",
       "      <td>0.0</td>\n",
       "      <td>0.0</td>\n",
       "      <td>0.0</td>\n",
       "      <td>0.0</td>\n",
       "      <td>0.0</td>\n",
       "      <td>0.140185</td>\n",
       "      <td>0.703021</td>\n",
       "      <td>0.073783</td>\n",
       "      <td>0.071684</td>\n",
       "      <td>0.0</td>\n",
       "      <td>0.0</td>\n",
       "      <td>0.0</td>\n",
       "      <td>0.0</td>\n",
       "      <td>0.0</td>\n",
       "      <td>0.0</td>\n",
       "    </tr>\n",
       "    <tr>\n",
       "      <th>1</th>\n",
       "      <td>16.99</td>\n",
       "      <td>124.99</td>\n",
       "      <td>82</td>\n",
       "      <td>9.0</td>\n",
       "      <td>All Levels</td>\n",
       "      <td>231631.0</td>\n",
       "      <td>4.6</td>\n",
       "      <td>61533.0</td>\n",
       "      <td>0.60</td>\n",
       "      <td>0.33</td>\n",
       "      <td>0.06</td>\n",
       "      <td>0.01</td>\n",
       "      <td>6.0</td>\n",
       "      <td>48.0</td>\n",
       "      <td>0.078587</td>\n",
       "      <td>0.907617</td>\n",
       "      <td>0.000000</td>\n",
       "      <td>0.000000</td>\n",
       "      <td>0.0</td>\n",
       "      <td>0.0</td>\n",
       "      <td>0.0</td>\n",
       "      <td>0.0</td>\n",
       "      <td>0.0</td>\n",
       "      <td>0.0</td>\n",
       "      <td>0.943746</td>\n",
       "      <td>0.000000</td>\n",
       "      <td>0.000000</td>\n",
       "      <td>0.000000</td>\n",
       "      <td>0.0</td>\n",
       "      <td>0.0</td>\n",
       "      <td>0.0</td>\n",
       "      <td>0.0</td>\n",
       "      <td>0.0</td>\n",
       "      <td>0.0</td>\n",
       "    </tr>\n",
       "    <tr>\n",
       "      <th>2</th>\n",
       "      <td>12.99</td>\n",
       "      <td>94.99</td>\n",
       "      <td>275</td>\n",
       "      <td>23.5</td>\n",
       "      <td>Beginner</td>\n",
       "      <td>148077.0</td>\n",
       "      <td>4.6</td>\n",
       "      <td>43339.0</td>\n",
       "      <td>0.54</td>\n",
       "      <td>0.38</td>\n",
       "      <td>0.07</td>\n",
       "      <td>0.01</td>\n",
       "      <td>26.0</td>\n",
       "      <td>35.0</td>\n",
       "      <td>0.986360</td>\n",
       "      <td>0.000000</td>\n",
       "      <td>0.000000</td>\n",
       "      <td>0.000000</td>\n",
       "      <td>0.0</td>\n",
       "      <td>0.0</td>\n",
       "      <td>0.0</td>\n",
       "      <td>0.0</td>\n",
       "      <td>0.0</td>\n",
       "      <td>0.0</td>\n",
       "      <td>0.130506</td>\n",
       "      <td>0.834705</td>\n",
       "      <td>0.000000</td>\n",
       "      <td>0.000000</td>\n",
       "      <td>0.0</td>\n",
       "      <td>0.0</td>\n",
       "      <td>0.0</td>\n",
       "      <td>0.0</td>\n",
       "      <td>0.0</td>\n",
       "      <td>0.0</td>\n",
       "    </tr>\n",
       "    <tr>\n",
       "      <th>3</th>\n",
       "      <td>19.99</td>\n",
       "      <td>139.99</td>\n",
       "      <td>117</td>\n",
       "      <td>11.0</td>\n",
       "      <td>All Levels</td>\n",
       "      <td>109303.0</td>\n",
       "      <td>4.6</td>\n",
       "      <td>30899.0</td>\n",
       "      <td>0.61</td>\n",
       "      <td>0.33</td>\n",
       "      <td>0.06</td>\n",
       "      <td>0.01</td>\n",
       "      <td>14.0</td>\n",
       "      <td>3.0</td>\n",
       "      <td>0.036034</td>\n",
       "      <td>0.180143</td>\n",
       "      <td>0.774481</td>\n",
       "      <td>0.000000</td>\n",
       "      <td>0.0</td>\n",
       "      <td>0.0</td>\n",
       "      <td>0.0</td>\n",
       "      <td>0.0</td>\n",
       "      <td>0.0</td>\n",
       "      <td>0.0</td>\n",
       "      <td>0.233460</td>\n",
       "      <td>0.740728</td>\n",
       "      <td>0.000000</td>\n",
       "      <td>0.000000</td>\n",
       "      <td>0.0</td>\n",
       "      <td>0.0</td>\n",
       "      <td>0.0</td>\n",
       "      <td>0.0</td>\n",
       "      <td>0.0</td>\n",
       "      <td>0.0</td>\n",
       "    </tr>\n",
       "    <tr>\n",
       "      <th>4</th>\n",
       "      <td>12.99</td>\n",
       "      <td>94.99</td>\n",
       "      <td>413</td>\n",
       "      <td>20.5</td>\n",
       "      <td>All Levels</td>\n",
       "      <td>136869.0</td>\n",
       "      <td>4.5</td>\n",
       "      <td>28595.0</td>\n",
       "      <td>0.52</td>\n",
       "      <td>0.37</td>\n",
       "      <td>0.10</td>\n",
       "      <td>0.01</td>\n",
       "      <td>151.0</td>\n",
       "      <td>68.0</td>\n",
       "      <td>0.436678</td>\n",
       "      <td>0.136041</td>\n",
       "      <td>0.194326</td>\n",
       "      <td>0.224129</td>\n",
       "      <td>0.0</td>\n",
       "      <td>0.0</td>\n",
       "      <td>0.0</td>\n",
       "      <td>0.0</td>\n",
       "      <td>0.0</td>\n",
       "      <td>0.0</td>\n",
       "      <td>0.978047</td>\n",
       "      <td>0.000000</td>\n",
       "      <td>0.000000</td>\n",
       "      <td>0.000000</td>\n",
       "      <td>0.0</td>\n",
       "      <td>0.0</td>\n",
       "      <td>0.0</td>\n",
       "      <td>0.0</td>\n",
       "      <td>0.0</td>\n",
       "      <td>0.0</td>\n",
       "    </tr>\n",
       "  </tbody>\n",
       "</table>\n",
       "</div>"
      ],
      "text/plain": [
       "   price  original_price  lectures  hours       level  enrollment  rating  \\\n",
       "0  25.99          179.99        83    9.0  All Levels    342288.0     4.7   \n",
       "1  16.99          124.99        82    9.0  All Levels    231631.0     4.6   \n",
       "2  12.99           94.99       275   23.5    Beginner    148077.0     4.6   \n",
       "3  19.99          139.99       117   11.0  All Levels    109303.0     4.6   \n",
       "4  12.99           94.99       413   20.5  All Levels    136869.0     4.5   \n",
       "\n",
       "   num_ratings  five_stars  four_stars  three_stars  two_stars  \\\n",
       "0      91772.0        0.60        0.33         0.06       0.01   \n",
       "1      61533.0        0.60        0.33         0.06       0.01   \n",
       "2      43339.0        0.54        0.38         0.07       0.01   \n",
       "3      30899.0        0.61        0.33         0.06       0.01   \n",
       "4      28595.0        0.52        0.37         0.10       0.01   \n",
       "\n",
       "   downloadable_resources  instructor_no_courses  descr_LDA_0  descr_LDA_1  \\\n",
       "0                    14.0                   31.0     0.034318     0.950584   \n",
       "1                     6.0                   48.0     0.078587     0.907617   \n",
       "2                    26.0                   35.0     0.986360     0.000000   \n",
       "3                    14.0                    3.0     0.036034     0.180143   \n",
       "4                   151.0                   68.0     0.436678     0.136041   \n",
       "\n",
       "   descr_LDA_2  descr_LDA_3  descr_LDA_4  descr_LDA_5  descr_LDA_6  \\\n",
       "0     0.000000     0.000000          0.0          0.0          0.0   \n",
       "1     0.000000     0.000000          0.0          0.0          0.0   \n",
       "2     0.000000     0.000000          0.0          0.0          0.0   \n",
       "3     0.774481     0.000000          0.0          0.0          0.0   \n",
       "4     0.194326     0.224129          0.0          0.0          0.0   \n",
       "\n",
       "   descr_LDA_7  descr_LDA_8  descr_LDA_9  instr_LDA_0  instr_LDA_1  \\\n",
       "0          0.0          0.0          0.0     0.140185     0.703021   \n",
       "1          0.0          0.0          0.0     0.943746     0.000000   \n",
       "2          0.0          0.0          0.0     0.130506     0.834705   \n",
       "3          0.0          0.0          0.0     0.233460     0.740728   \n",
       "4          0.0          0.0          0.0     0.978047     0.000000   \n",
       "\n",
       "   instr_LDA_2  instr_LDA_3  instr_LDA_4  instr_LDA_5  instr_LDA_6  \\\n",
       "0     0.073783     0.071684          0.0          0.0          0.0   \n",
       "1     0.000000     0.000000          0.0          0.0          0.0   \n",
       "2     0.000000     0.000000          0.0          0.0          0.0   \n",
       "3     0.000000     0.000000          0.0          0.0          0.0   \n",
       "4     0.000000     0.000000          0.0          0.0          0.0   \n",
       "\n",
       "   instr_LDA_7  instr_LDA_8  instr_LDA_9  \n",
       "0          0.0          0.0          0.0  \n",
       "1          0.0          0.0          0.0  \n",
       "2          0.0          0.0          0.0  \n",
       "3          0.0          0.0          0.0  \n",
       "4          0.0          0.0          0.0  "
      ]
     },
     "execution_count": 2,
     "metadata": {},
     "output_type": "execute_result"
    }
   ],
   "source": [
    "pd.options.display.max_columns = None\n",
    "data = pd.read_pickle(\"../ETL/data_final.pkl\")\n",
    "data.head()"
   ]
  },
  {
   "cell_type": "code",
   "execution_count": 3,
   "metadata": {
    "pycharm": {
     "name": "#%%\n"
    }
   },
   "outputs": [
    {
     "data": {
      "text/html": [
       "<div>\n",
       "<style scoped>\n",
       "    .dataframe tbody tr th:only-of-type {\n",
       "        vertical-align: middle;\n",
       "    }\n",
       "\n",
       "    .dataframe tbody tr th {\n",
       "        vertical-align: top;\n",
       "    }\n",
       "\n",
       "    .dataframe thead th {\n",
       "        text-align: right;\n",
       "    }\n",
       "</style>\n",
       "<table border=\"1\" class=\"dataframe\">\n",
       "  <thead>\n",
       "    <tr style=\"text-align: right;\">\n",
       "      <th></th>\n",
       "      <th>price</th>\n",
       "      <th>original_price</th>\n",
       "      <th>lectures</th>\n",
       "      <th>hours</th>\n",
       "      <th>enrollment</th>\n",
       "      <th>rating</th>\n",
       "      <th>num_ratings</th>\n",
       "      <th>five_stars</th>\n",
       "      <th>four_stars</th>\n",
       "      <th>three_stars</th>\n",
       "      <th>two_stars</th>\n",
       "      <th>downloadable_resources</th>\n",
       "      <th>instructor_no_courses</th>\n",
       "      <th>descr_LDA_0</th>\n",
       "      <th>descr_LDA_1</th>\n",
       "      <th>descr_LDA_2</th>\n",
       "      <th>descr_LDA_3</th>\n",
       "      <th>descr_LDA_4</th>\n",
       "      <th>descr_LDA_5</th>\n",
       "      <th>descr_LDA_6</th>\n",
       "      <th>descr_LDA_7</th>\n",
       "      <th>descr_LDA_8</th>\n",
       "      <th>descr_LDA_9</th>\n",
       "      <th>instr_LDA_0</th>\n",
       "      <th>instr_LDA_1</th>\n",
       "      <th>instr_LDA_2</th>\n",
       "      <th>instr_LDA_3</th>\n",
       "      <th>instr_LDA_4</th>\n",
       "      <th>instr_LDA_5</th>\n",
       "      <th>instr_LDA_6</th>\n",
       "      <th>instr_LDA_7</th>\n",
       "      <th>instr_LDA_8</th>\n",
       "      <th>instr_LDA_9</th>\n",
       "    </tr>\n",
       "  </thead>\n",
       "  <tbody>\n",
       "    <tr>\n",
       "      <th>count</th>\n",
       "      <td>1005.000000</td>\n",
       "      <td>1005.000000</td>\n",
       "      <td>1005.000000</td>\n",
       "      <td>1005.000000</td>\n",
       "      <td>1005.000000</td>\n",
       "      <td>1005.000000</td>\n",
       "      <td>1005.000000</td>\n",
       "      <td>1005.000000</td>\n",
       "      <td>1005.000000</td>\n",
       "      <td>1005.000000</td>\n",
       "      <td>1005.000000</td>\n",
       "      <td>1005.000000</td>\n",
       "      <td>1005.000000</td>\n",
       "      <td>1005.000000</td>\n",
       "      <td>1005.000000</td>\n",
       "      <td>1005.000000</td>\n",
       "      <td>1005.000000</td>\n",
       "      <td>1005.000000</td>\n",
       "      <td>1005.000000</td>\n",
       "      <td>1005.000000</td>\n",
       "      <td>1005.000000</td>\n",
       "      <td>1005.000000</td>\n",
       "      <td>1005.000000</td>\n",
       "      <td>1005.000000</td>\n",
       "      <td>1005.000000</td>\n",
       "      <td>1005.000000</td>\n",
       "      <td>1005.000000</td>\n",
       "      <td>1005.000000</td>\n",
       "      <td>1005.000000</td>\n",
       "      <td>1005.000000</td>\n",
       "      <td>1005.000000</td>\n",
       "      <td>1005.000000</td>\n",
       "      <td>1005.000000</td>\n",
       "    </tr>\n",
       "    <tr>\n",
       "      <th>mean</th>\n",
       "      <td>15.971403</td>\n",
       "      <td>66.950507</td>\n",
       "      <td>52.036816</td>\n",
       "      <td>5.485572</td>\n",
       "      <td>5784.926368</td>\n",
       "      <td>4.071940</td>\n",
       "      <td>805.666667</td>\n",
       "      <td>0.420139</td>\n",
       "      <td>0.308716</td>\n",
       "      <td>0.138448</td>\n",
       "      <td>0.038736</td>\n",
       "      <td>7.475622</td>\n",
       "      <td>102.334328</td>\n",
       "      <td>0.518564</td>\n",
       "      <td>0.313582</td>\n",
       "      <td>0.095021</td>\n",
       "      <td>0.018787</td>\n",
       "      <td>0.006306</td>\n",
       "      <td>0.004120</td>\n",
       "      <td>0.003920</td>\n",
       "      <td>0.021706</td>\n",
       "      <td>0.002288</td>\n",
       "      <td>0.003109</td>\n",
       "      <td>0.726618</td>\n",
       "      <td>0.141167</td>\n",
       "      <td>0.041422</td>\n",
       "      <td>0.019147</td>\n",
       "      <td>0.007411</td>\n",
       "      <td>0.005788</td>\n",
       "      <td>0.006010</td>\n",
       "      <td>0.005528</td>\n",
       "      <td>0.010371</td>\n",
       "      <td>0.006542</td>\n",
       "    </tr>\n",
       "    <tr>\n",
       "      <th>std</th>\n",
       "      <td>17.074501</td>\n",
       "      <td>38.322610</td>\n",
       "      <td>50.944052</td>\n",
       "      <td>5.888027</td>\n",
       "      <td>21278.709134</td>\n",
       "      <td>0.849577</td>\n",
       "      <td>4410.404111</td>\n",
       "      <td>0.203599</td>\n",
       "      <td>0.159422</td>\n",
       "      <td>0.116401</td>\n",
       "      <td>0.072657</td>\n",
       "      <td>14.553126</td>\n",
       "      <td>339.187340</td>\n",
       "      <td>0.365521</td>\n",
       "      <td>0.313047</td>\n",
       "      <td>0.193330</td>\n",
       "      <td>0.085440</td>\n",
       "      <td>0.048661</td>\n",
       "      <td>0.036304</td>\n",
       "      <td>0.039994</td>\n",
       "      <td>0.109733</td>\n",
       "      <td>0.016074</td>\n",
       "      <td>0.029978</td>\n",
       "      <td>0.336015</td>\n",
       "      <td>0.235873</td>\n",
       "      <td>0.116980</td>\n",
       "      <td>0.086771</td>\n",
       "      <td>0.046049</td>\n",
       "      <td>0.033199</td>\n",
       "      <td>0.032669</td>\n",
       "      <td>0.026474</td>\n",
       "      <td>0.059923</td>\n",
       "      <td>0.036541</td>\n",
       "    </tr>\n",
       "    <tr>\n",
       "      <th>min</th>\n",
       "      <td>0.000000</td>\n",
       "      <td>0.000000</td>\n",
       "      <td>5.000000</td>\n",
       "      <td>1.000000</td>\n",
       "      <td>0.000000</td>\n",
       "      <td>0.000000</td>\n",
       "      <td>0.000000</td>\n",
       "      <td>0.000000</td>\n",
       "      <td>0.000000</td>\n",
       "      <td>0.000000</td>\n",
       "      <td>0.000000</td>\n",
       "      <td>0.000000</td>\n",
       "      <td>0.000000</td>\n",
       "      <td>0.010004</td>\n",
       "      <td>0.000000</td>\n",
       "      <td>0.000000</td>\n",
       "      <td>0.000000</td>\n",
       "      <td>0.000000</td>\n",
       "      <td>0.000000</td>\n",
       "      <td>0.000000</td>\n",
       "      <td>0.000000</td>\n",
       "      <td>0.000000</td>\n",
       "      <td>0.000000</td>\n",
       "      <td>0.011118</td>\n",
       "      <td>0.000000</td>\n",
       "      <td>0.000000</td>\n",
       "      <td>0.000000</td>\n",
       "      <td>0.000000</td>\n",
       "      <td>0.000000</td>\n",
       "      <td>0.000000</td>\n",
       "      <td>0.000000</td>\n",
       "      <td>0.000000</td>\n",
       "      <td>0.000000</td>\n",
       "    </tr>\n",
       "    <tr>\n",
       "      <th>25%</th>\n",
       "      <td>12.990000</td>\n",
       "      <td>24.990000</td>\n",
       "      <td>22.000000</td>\n",
       "      <td>2.000000</td>\n",
       "      <td>101.000000</td>\n",
       "      <td>3.900000</td>\n",
       "      <td>17.000000</td>\n",
       "      <td>0.320000</td>\n",
       "      <td>0.250000</td>\n",
       "      <td>0.070000</td>\n",
       "      <td>0.000000</td>\n",
       "      <td>1.000000</td>\n",
       "      <td>2.000000</td>\n",
       "      <td>0.160904</td>\n",
       "      <td>0.000000</td>\n",
       "      <td>0.000000</td>\n",
       "      <td>0.000000</td>\n",
       "      <td>0.000000</td>\n",
       "      <td>0.000000</td>\n",
       "      <td>0.000000</td>\n",
       "      <td>0.000000</td>\n",
       "      <td>0.000000</td>\n",
       "      <td>0.000000</td>\n",
       "      <td>0.439308</td>\n",
       "      <td>0.000000</td>\n",
       "      <td>0.000000</td>\n",
       "      <td>0.000000</td>\n",
       "      <td>0.000000</td>\n",
       "      <td>0.000000</td>\n",
       "      <td>0.000000</td>\n",
       "      <td>0.000000</td>\n",
       "      <td>0.000000</td>\n",
       "      <td>0.000000</td>\n",
       "    </tr>\n",
       "    <tr>\n",
       "      <th>50%</th>\n",
       "      <td>12.990000</td>\n",
       "      <td>79.990000</td>\n",
       "      <td>37.000000</td>\n",
       "      <td>3.500000</td>\n",
       "      <td>663.000000</td>\n",
       "      <td>4.300000</td>\n",
       "      <td>64.000000</td>\n",
       "      <td>0.440000</td>\n",
       "      <td>0.330000</td>\n",
       "      <td>0.120000</td>\n",
       "      <td>0.020000</td>\n",
       "      <td>3.000000</td>\n",
       "      <td>7.000000</td>\n",
       "      <td>0.482334</td>\n",
       "      <td>0.220140</td>\n",
       "      <td>0.000000</td>\n",
       "      <td>0.000000</td>\n",
       "      <td>0.000000</td>\n",
       "      <td>0.000000</td>\n",
       "      <td>0.000000</td>\n",
       "      <td>0.000000</td>\n",
       "      <td>0.000000</td>\n",
       "      <td>0.000000</td>\n",
       "      <td>0.957128</td>\n",
       "      <td>0.000000</td>\n",
       "      <td>0.000000</td>\n",
       "      <td>0.000000</td>\n",
       "      <td>0.000000</td>\n",
       "      <td>0.000000</td>\n",
       "      <td>0.000000</td>\n",
       "      <td>0.000000</td>\n",
       "      <td>0.000000</td>\n",
       "      <td>0.000000</td>\n",
       "    </tr>\n",
       "    <tr>\n",
       "      <th>75%</th>\n",
       "      <td>13.990000</td>\n",
       "      <td>94.990000</td>\n",
       "      <td>64.000000</td>\n",
       "      <td>6.500000</td>\n",
       "      <td>3145.000000</td>\n",
       "      <td>4.500000</td>\n",
       "      <td>277.000000</td>\n",
       "      <td>0.540000</td>\n",
       "      <td>0.390000</td>\n",
       "      <td>0.190000</td>\n",
       "      <td>0.050000</td>\n",
       "      <td>8.000000</td>\n",
       "      <td>24.000000</td>\n",
       "      <td>0.967842</td>\n",
       "      <td>0.558224</td>\n",
       "      <td>0.066409</td>\n",
       "      <td>0.000000</td>\n",
       "      <td>0.000000</td>\n",
       "      <td>0.000000</td>\n",
       "      <td>0.000000</td>\n",
       "      <td>0.000000</td>\n",
       "      <td>0.000000</td>\n",
       "      <td>0.000000</td>\n",
       "      <td>0.969991</td>\n",
       "      <td>0.214471</td>\n",
       "      <td>0.000000</td>\n",
       "      <td>0.000000</td>\n",
       "      <td>0.000000</td>\n",
       "      <td>0.000000</td>\n",
       "      <td>0.000000</td>\n",
       "      <td>0.000000</td>\n",
       "      <td>0.000000</td>\n",
       "      <td>0.000000</td>\n",
       "    </tr>\n",
       "    <tr>\n",
       "      <th>max</th>\n",
       "      <td>199.990000</td>\n",
       "      <td>199.990000</td>\n",
       "      <td>525.000000</td>\n",
       "      <td>67.500000</td>\n",
       "      <td>342288.000000</td>\n",
       "      <td>5.000000</td>\n",
       "      <td>91772.000000</td>\n",
       "      <td>1.000000</td>\n",
       "      <td>1.000000</td>\n",
       "      <td>1.000000</td>\n",
       "      <td>1.000000</td>\n",
       "      <td>154.000000</td>\n",
       "      <td>1420.000000</td>\n",
       "      <td>0.995311</td>\n",
       "      <td>0.977247</td>\n",
       "      <td>0.915600</td>\n",
       "      <td>0.871914</td>\n",
       "      <td>0.819914</td>\n",
       "      <td>0.774944</td>\n",
       "      <td>0.819959</td>\n",
       "      <td>0.887470</td>\n",
       "      <td>0.423173</td>\n",
       "      <td>0.699913</td>\n",
       "      <td>0.992436</td>\n",
       "      <td>0.935048</td>\n",
       "      <td>0.773070</td>\n",
       "      <td>0.887480</td>\n",
       "      <td>0.871393</td>\n",
       "      <td>0.849961</td>\n",
       "      <td>0.628528</td>\n",
       "      <td>0.549750</td>\n",
       "      <td>0.549992</td>\n",
       "      <td>0.819829</td>\n",
       "    </tr>\n",
       "  </tbody>\n",
       "</table>\n",
       "</div>"
      ],
      "text/plain": [
       "             price  original_price     lectures        hours     enrollment  \\\n",
       "count  1005.000000     1005.000000  1005.000000  1005.000000    1005.000000   \n",
       "mean     15.971403       66.950507    52.036816     5.485572    5784.926368   \n",
       "std      17.074501       38.322610    50.944052     5.888027   21278.709134   \n",
       "min       0.000000        0.000000     5.000000     1.000000       0.000000   \n",
       "25%      12.990000       24.990000    22.000000     2.000000     101.000000   \n",
       "50%      12.990000       79.990000    37.000000     3.500000     663.000000   \n",
       "75%      13.990000       94.990000    64.000000     6.500000    3145.000000   \n",
       "max     199.990000      199.990000   525.000000    67.500000  342288.000000   \n",
       "\n",
       "            rating   num_ratings   five_stars   four_stars  three_stars  \\\n",
       "count  1005.000000   1005.000000  1005.000000  1005.000000  1005.000000   \n",
       "mean      4.071940    805.666667     0.420139     0.308716     0.138448   \n",
       "std       0.849577   4410.404111     0.203599     0.159422     0.116401   \n",
       "min       0.000000      0.000000     0.000000     0.000000     0.000000   \n",
       "25%       3.900000     17.000000     0.320000     0.250000     0.070000   \n",
       "50%       4.300000     64.000000     0.440000     0.330000     0.120000   \n",
       "75%       4.500000    277.000000     0.540000     0.390000     0.190000   \n",
       "max       5.000000  91772.000000     1.000000     1.000000     1.000000   \n",
       "\n",
       "         two_stars  downloadable_resources  instructor_no_courses  \\\n",
       "count  1005.000000             1005.000000            1005.000000   \n",
       "mean      0.038736                7.475622             102.334328   \n",
       "std       0.072657               14.553126             339.187340   \n",
       "min       0.000000                0.000000               0.000000   \n",
       "25%       0.000000                1.000000               2.000000   \n",
       "50%       0.020000                3.000000               7.000000   \n",
       "75%       0.050000                8.000000              24.000000   \n",
       "max       1.000000              154.000000            1420.000000   \n",
       "\n",
       "       descr_LDA_0  descr_LDA_1  descr_LDA_2  descr_LDA_3  descr_LDA_4  \\\n",
       "count  1005.000000  1005.000000  1005.000000  1005.000000  1005.000000   \n",
       "mean      0.518564     0.313582     0.095021     0.018787     0.006306   \n",
       "std       0.365521     0.313047     0.193330     0.085440     0.048661   \n",
       "min       0.010004     0.000000     0.000000     0.000000     0.000000   \n",
       "25%       0.160904     0.000000     0.000000     0.000000     0.000000   \n",
       "50%       0.482334     0.220140     0.000000     0.000000     0.000000   \n",
       "75%       0.967842     0.558224     0.066409     0.000000     0.000000   \n",
       "max       0.995311     0.977247     0.915600     0.871914     0.819914   \n",
       "\n",
       "       descr_LDA_5  descr_LDA_6  descr_LDA_7  descr_LDA_8  descr_LDA_9  \\\n",
       "count  1005.000000  1005.000000  1005.000000  1005.000000  1005.000000   \n",
       "mean      0.004120     0.003920     0.021706     0.002288     0.003109   \n",
       "std       0.036304     0.039994     0.109733     0.016074     0.029978   \n",
       "min       0.000000     0.000000     0.000000     0.000000     0.000000   \n",
       "25%       0.000000     0.000000     0.000000     0.000000     0.000000   \n",
       "50%       0.000000     0.000000     0.000000     0.000000     0.000000   \n",
       "75%       0.000000     0.000000     0.000000     0.000000     0.000000   \n",
       "max       0.774944     0.819959     0.887470     0.423173     0.699913   \n",
       "\n",
       "       instr_LDA_0  instr_LDA_1  instr_LDA_2  instr_LDA_3  instr_LDA_4  \\\n",
       "count  1005.000000  1005.000000  1005.000000  1005.000000  1005.000000   \n",
       "mean      0.726618     0.141167     0.041422     0.019147     0.007411   \n",
       "std       0.336015     0.235873     0.116980     0.086771     0.046049   \n",
       "min       0.011118     0.000000     0.000000     0.000000     0.000000   \n",
       "25%       0.439308     0.000000     0.000000     0.000000     0.000000   \n",
       "50%       0.957128     0.000000     0.000000     0.000000     0.000000   \n",
       "75%       0.969991     0.214471     0.000000     0.000000     0.000000   \n",
       "max       0.992436     0.935048     0.773070     0.887480     0.871393   \n",
       "\n",
       "       instr_LDA_5  instr_LDA_6  instr_LDA_7  instr_LDA_8  instr_LDA_9  \n",
       "count  1005.000000  1005.000000  1005.000000  1005.000000  1005.000000  \n",
       "mean      0.005788     0.006010     0.005528     0.010371     0.006542  \n",
       "std       0.033199     0.032669     0.026474     0.059923     0.036541  \n",
       "min       0.000000     0.000000     0.000000     0.000000     0.000000  \n",
       "25%       0.000000     0.000000     0.000000     0.000000     0.000000  \n",
       "50%       0.000000     0.000000     0.000000     0.000000     0.000000  \n",
       "75%       0.000000     0.000000     0.000000     0.000000     0.000000  \n",
       "max       0.849961     0.628528     0.549750     0.549992     0.819829  "
      ]
     },
     "execution_count": 3,
     "metadata": {},
     "output_type": "execute_result"
    }
   ],
   "source": [
    "data.describe()\n"
   ]
  },
  {
   "cell_type": "markdown",
   "metadata": {
    "pycharm": {
     "name": "#%% md\n"
    }
   },
   "source": [
    "***\n",
    "Comment:\n",
    "* In the dataset, several varaible is highly screwed. \n",
    "* The enrollment numbers has the maximum 342288, mean 5785, and standard deviation 21279. The 75% enrollment number is 3145, implying that most courses have enrollment numbers between 0 and 4000.\n",
    "* Because Udemy regularly has the $10 per course promotion, the price variable does not have a significant variance. Meanwhile, the original price variable has a big variance with the maximum 199.99, the mean 15.97, and the standard deviation of 17.07. \n",
    "* Hence, we need to perform a data exploration and feature transformation. \n",
    "\n",
    "***"
   ]
  },
  {
   "cell_type": "markdown",
   "metadata": {},
   "source": [
    "## 3. Data Exploration\n",
    "\n",
    "### Enrollment"
   ]
  },
  {
   "cell_type": "code",
   "execution_count": 4,
   "metadata": {
    "pycharm": {
     "name": "#%%\n"
    },
    "scrolled": true
   },
   "outputs": [
    {
     "data": {
      "text/plain": [
       "Text(0.5, 0, 'Enrolloment')"
      ]
     },
     "execution_count": 4,
     "metadata": {},
     "output_type": "execute_result"
    },
    {
     "data": {
      "image/png": "[encoded data removed]",
      "text/plain": [
       "<Figure size 432x288 with 1 Axes>"
      ]
     },
     "metadata": {
      "needs_background": "light"
     },
     "output_type": "display_data"
    }
   ],
   "source": [
    "plt.hist(data[\"enrollment\"],  bins=10)\n",
    "plt.ylabel(\"Number of courses\")\n",
    "plt.xlabel('Enrolloment')"
   ]
  },
  {
   "cell_type": "markdown",
   "metadata": {},
   "source": [
    "***\n",
    "* As the dependent variable, the enrollment variable should be close to normal distributin. \n",
    "* Hence, a log-transform is performed. As shown in the plot, the log-transformed enrollment variable is close to normal distribution. \n",
    "***"
   ]
  },
  {
   "cell_type": "code",
   "execution_count": 5,
   "metadata": {
    "pycharm": {
     "name": "#%%\n"
    }
   },
   "outputs": [
    {
     "data": {
      "text/plain": [
       "Text(0.5, 0, 'Enrollments (Log-transformed)')"
      ]
     },
     "execution_count": 5,
     "metadata": {},
     "output_type": "execute_result"
    },
    {
     "data": {
      "image/png": "[encoded data removed]",
      "text/plain": [
       "<Figure size 432x288 with 1 Axes>"
      ]
     },
     "metadata": {
      "needs_background": "light"
     },
     "output_type": "display_data"
    }
   ],
   "source": [
    "data[\"enrollment\"] = data[\"enrollment\"].apply(lambda x: np.log(x+1))\n",
    "plt.hist(data[\"enrollment\"], bins=10)\n",
    "plt.ylabel('Number of courses')\n",
    "plt.xlabel('Enrollments (Log-transformed)')"
   ]
  },
  {
   "cell_type": "markdown",
   "metadata": {},
   "source": [
    "### Price"
   ]
  },
  {
   "cell_type": "code",
   "execution_count": 6,
   "metadata": {
    "pycharm": {
     "name": "#%%\n"
    },
    "scrolled": true
   },
   "outputs": [
    {
     "data": {
      "text/plain": [
       "(array([959.,  19.,   8.,   3.,   8.,   0.,   2.,   1.,   1.,   4.]),\n",
       " array([  0.   ,  19.999,  39.998,  59.997,  79.996,  99.995, 119.994,\n",
       "        139.993, 159.992, 179.991, 199.99 ]),\n",
       " <BarContainer object of 10 artists>)"
      ]
     },
     "execution_count": 6,
     "metadata": {},
     "output_type": "execute_result"
    },
    {
     "data": {
      "image/png": "[encoded data removed]",
      "text/plain": [
       "<Figure size 432x288 with 1 Axes>"
      ]
     },
     "metadata": {
      "needs_background": "light"
     },
     "output_type": "display_data"
    }
   ],
   "source": [
    "plt.hist(data[\"price\"],  bins=10)"
   ]
  },
  {
   "cell_type": "markdown",
   "metadata": {},
   "source": [
    "***\n",
    "* As one of the independent variable, the price variable should be close to normal distributin. \n",
    "* Hence, a log-transform and scaling are performed. As shown in the plot, the log-transformed and scaled price variable is less skewed. \n",
    "***"
   ]
  },
  {
   "cell_type": "code",
   "execution_count": 7,
   "metadata": {
    "pycharm": {
     "name": "#%%\n"
    }
   },
   "outputs": [
    {
     "data": {
      "text/plain": [
       "(array([ 31.,   0.,   0.,   0., 687., 244.,  14.,  11.,  10.,   8.]),\n",
       " array([-1. , -0.8, -0.6, -0.4, -0.2,  0. ,  0.2,  0.4,  0.6,  0.8,  1. ]),\n",
       " <BarContainer object of 10 artists>)"
      ]
     },
     "execution_count": 7,
     "metadata": {},
     "output_type": "execute_result"
    },
    {
     "data": {
      "image/png": "[encoded data removed]",
      "text/plain": [
       "<Figure size 432x288 with 1 Axes>"
      ]
     },
     "metadata": {
      "needs_background": "light"
     },
     "output_type": "display_data"
    }
   ],
   "source": [
    "data[\"price\"] = data[\"price\"].apply(lambda x: np.log(x+1))\n",
    "data[\"price\"] = MinMaxScaler(feature_range=(-1, 1)).fit_transform(data[\"price\"].values.reshape(-1,1))\n",
    "plt.hist(data[\"price\"], bins=10)"
   ]
  },
  {
   "cell_type": "markdown",
   "metadata": {},
   "source": [
    "### Original_price"
   ]
  },
  {
   "cell_type": "code",
   "execution_count": 8,
   "metadata": {
    "pycharm": {
     "name": "#%%\n"
    }
   },
   "outputs": [
    {
     "data": {
      "text/plain": [
       "(array([211., 143., 105.,  51., 375.,  73.,  37.,   4.,   2.,   4.]),\n",
       " array([  0.   ,  19.999,  39.998,  59.997,  79.996,  99.995, 119.994,\n",
       "        139.993, 159.992, 179.991, 199.99 ]),\n",
       " <BarContainer object of 10 artists>)"
      ]
     },
     "execution_count": 8,
     "metadata": {},
     "output_type": "execute_result"
    },
    {
     "data": {
      "image/png": "[encoded data removed]",
      "text/plain": [
       "<Figure size 432x288 with 1 Axes>"
      ]
     },
     "metadata": {
      "needs_background": "light"
     },
     "output_type": "display_data"
    }
   ],
   "source": [
    "plt.hist(data[\"original_price\"],  bins=10)"
   ]
  },
  {
   "cell_type": "markdown",
   "metadata": {},
   "source": [
    "***\n",
    "* As one of the independent variable, the original_price variable should be close to normal distributin. \n",
    "* Hence, a log-transform and scaling are performed. As shown in the plot, the log-transformed and scaled original_price variable is less skewed. \n",
    "***"
   ]
  },
  {
   "cell_type": "code",
   "execution_count": 9,
   "metadata": {
    "pycharm": {
     "name": "#%%\n"
    },
    "scrolled": true
   },
   "outputs": [
    {
     "data": {
      "text/plain": [
       "(array([ 31.,   0.,   0.,   0., 687., 244.,  14.,  11.,  10.,   8.]),\n",
       " array([-1. , -0.8, -0.6, -0.4, -0.2,  0. ,  0.2,  0.4,  0.6,  0.8,  1. ]),\n",
       " <BarContainer object of 10 artists>)"
      ]
     },
     "execution_count": 9,
     "metadata": {},
     "output_type": "execute_result"
    },
    {
     "data": {
      "image/png": "[encoded data removed]",
      "text/plain": [
       "<Figure size 432x288 with 1 Axes>"
      ]
     },
     "metadata": {
      "needs_background": "light"
     },
     "output_type": "display_data"
    }
   ],
   "source": [
    "# data[\"original_price\"] = data[\"original_price\"].apply(lambda x: np.log(x+1))\n",
    "data[\"original_price\"] = MinMaxScaler(feature_range=(-1, 1)).fit_transform(data[\"original_price\"].values.reshape(-1,1))\n",
    "plt.hist(data[\"price\"], bins=10)"
   ]
  },
  {
   "cell_type": "markdown",
   "metadata": {
    "pycharm": {
     "name": "#%% md\n"
    }
   },
   "source": [
    "### lectures"
   ]
  },
  {
   "cell_type": "code",
   "execution_count": 10,
   "metadata": {
    "pycharm": {
     "name": "#%%\n"
    },
    "scrolled": false
   },
   "outputs": [
    {
     "data": {
      "text/plain": [
       "(array([701., 213.,  56.,  16.,   8.,   6.,   1.,   2.,   1.,   1.]),\n",
       " array([  5.,  57., 109., 161., 213., 265., 317., 369., 421., 473., 525.]),\n",
       " <BarContainer object of 10 artists>)"
      ]
     },
     "execution_count": 10,
     "metadata": {},
     "output_type": "execute_result"
    },
    {
     "data": {
      "image/png": "[encoded data removed]",
      "text/plain": [
       "<Figure size 432x288 with 1 Axes>"
      ]
     },
     "metadata": {
      "needs_background": "light"
     },
     "output_type": "display_data"
    }
   ],
   "source": [
    "plt.hist(data[\"lectures\"],  bins=10)"
   ]
  },
  {
   "cell_type": "markdown",
   "metadata": {},
   "source": [
    "***\n",
    "* As one of the independent variable, the lectures variable should be close to normal distributin. \n",
    "* Hence, a log-transform and scaling are performed. As shown in the plot, the log-transformed and scaled lectures variable is close to normal distribution. \n",
    "***"
   ]
  },
  {
   "cell_type": "code",
   "execution_count": 11,
   "metadata": {
    "pycharm": {
     "name": "#%%\n"
    }
   },
   "outputs": [
    {
     "data": {
      "text/plain": [
       "(array([ 31.,  73., 138., 211., 243., 160.,  95.,  35.,  14.,   5.]),\n",
       " array([-1. , -0.8, -0.6, -0.4, -0.2,  0. ,  0.2,  0.4,  0.6,  0.8,  1. ]),\n",
       " <BarContainer object of 10 artists>)"
      ]
     },
     "execution_count": 11,
     "metadata": {},
     "output_type": "execute_result"
    },
    {
     "data": {
      "image/png": "[encoded data removed]",
      "text/plain": [
       "<Figure size 432x288 with 1 Axes>"
      ]
     },
     "metadata": {
      "needs_background": "light"
     },
     "output_type": "display_data"
    }
   ],
   "source": [
    "data[\"lectures\"] = data[\"lectures\"].apply(lambda x: np.log(x+1))\n",
    "data[\"lectures\"] = MinMaxScaler(feature_range=(-1, 1)).fit_transform(data[\"lectures\"].values.reshape(-1,1))\n",
    "plt.hist(data[\"lectures\"], bins=10)\n"
   ]
  },
  {
   "cell_type": "markdown",
   "metadata": {},
   "source": [
    "## hours"
   ]
  },
  {
   "cell_type": "code",
   "execution_count": 12,
   "metadata": {
    "pycharm": {
     "name": "#%%\n"
    },
    "scrolled": true
   },
   "outputs": [
    {
     "data": {
      "text/plain": [
       "(array([802., 135.,  45.,  10.,   6.,   4.,   1.,   1.,   0.,   1.]),\n",
       " array([ 1.  ,  7.65, 14.3 , 20.95, 27.6 , 34.25, 40.9 , 47.55, 54.2 ,\n",
       "        60.85, 67.5 ]),\n",
       " <BarContainer object of 10 artists>)"
      ]
     },
     "execution_count": 12,
     "metadata": {},
     "output_type": "execute_result"
    },
    {
     "data": {
      "image/png": "[encoded data removed]",
      "text/plain": [
       "<Figure size 432x288 with 1 Axes>"
      ]
     },
     "metadata": {
      "needs_background": "light"
     },
     "output_type": "display_data"
    }
   ],
   "source": [
    "plt.hist(data[\"hours\"],  bins=10)"
   ]
  },
  {
   "cell_type": "markdown",
   "metadata": {},
   "source": [
    "***\n",
    "* As one of the independent variable, the hours variable should be close to normal distributin. \n",
    "* Hence, a log-transform and scaling are performed. As shown in the plot, the log-transformed and scaled hours variable is less skewed. \n",
    "***"
   ]
  },
  {
   "cell_type": "code",
   "execution_count": 13,
   "metadata": {
    "pycharm": {
     "name": "#%%\n"
    }
   },
   "outputs": [
    {
     "data": {
      "text/plain": [
       "(array([193., 266., 156., 164., 115.,  55.,  37.,  12.,   5.,   2.]),\n",
       " array([-1.00000000e+00, -8.00000000e-01, -6.00000000e-01, -4.00000000e-01,\n",
       "        -2.00000000e-01, -1.11022302e-16,  2.00000000e-01,  4.00000000e-01,\n",
       "         6.00000000e-01,  8.00000000e-01,  1.00000000e+00]),\n",
       " <BarContainer object of 10 artists>)"
      ]
     },
     "execution_count": 13,
     "metadata": {},
     "output_type": "execute_result"
    },
    {
     "data": {
      "image/png": "[encoded data removed]",
      "text/plain": [
       "<Figure size 432x288 with 1 Axes>"
      ]
     },
     "metadata": {
      "needs_background": "light"
     },
     "output_type": "display_data"
    }
   ],
   "source": [
    "data[\"hours\"] = data[\"hours\"].apply(lambda x: np.log(x+1))\n",
    "data[\"hours\"] = MinMaxScaler(feature_range=(-1, 1)).fit_transform(data[\"hours\"].values.reshape(-1,1))\n",
    "plt.hist(data[\"hours\"], bins=10)"
   ]
  },
  {
   "cell_type": "markdown",
   "metadata": {},
   "source": [
    "### rating"
   ]
  },
  {
   "cell_type": "code",
   "execution_count": 14,
   "metadata": {
    "pycharm": {
     "name": "#%%\n"
    },
    "scrolled": true
   },
   "outputs": [
    {
     "data": {
      "text/plain": [
       "(array([ 30.,   0.,   0.,   3.,   2.,  18.,  43., 172., 417., 320.]),\n",
       " array([0. , 0.5, 1. , 1.5, 2. , 2.5, 3. , 3.5, 4. , 4.5, 5. ]),\n",
       " <BarContainer object of 10 artists>)"
      ]
     },
     "execution_count": 14,
     "metadata": {},
     "output_type": "execute_result"
    },
    {
     "data": {
      "image/png": "[encoded data removed]",
      "text/plain": [
       "<Figure size 432x288 with 1 Axes>"
      ]
     },
     "metadata": {
      "needs_background": "light"
     },
     "output_type": "display_data"
    }
   ],
   "source": [
    "plt.hist(data[\"rating\"],  bins=10)"
   ]
  },
  {
   "cell_type": "markdown",
   "metadata": {},
   "source": [
    "***\n",
    "* As one of the independent variable, the rating variable should be close to normal distributin. \n",
    "* Hence, a scaling is performed. As shown in the plot, the log-transformed and scaled rating variable is less skewed. \n",
    "***"
   ]
  },
  {
   "cell_type": "code",
   "execution_count": 15,
   "metadata": {
    "pycharm": {
     "name": "#%%\n"
    }
   },
   "outputs": [
    {
     "data": {
      "text/plain": [
       "(array([ 30.,   0.,   0.,   3.,   2.,  18.,  43., 172., 417., 320.]),\n",
       " array([-1. , -0.8, -0.6, -0.4, -0.2,  0. ,  0.2,  0.4,  0.6,  0.8,  1. ]),\n",
       " <BarContainer object of 10 artists>)"
      ]
     },
     "execution_count": 15,
     "metadata": {},
     "output_type": "execute_result"
    },
    {
     "data": {
      "image/png": "[encoded data removed]",
      "text/plain": [
       "<Figure size 432x288 with 1 Axes>"
      ]
     },
     "metadata": {
      "needs_background": "light"
     },
     "output_type": "display_data"
    }
   ],
   "source": [
    "# data[\"rating\"] = data[\"rating\"].apply(lambda x: np.log(x+1))\n",
    "data[\"rating\"] = MinMaxScaler(feature_range=(-1, 1)).fit_transform(data[\"rating\"].values.reshape(-1,1))\n",
    "plt.hist(data[\"rating\"], bins=10)"
   ]
  },
  {
   "cell_type": "markdown",
   "metadata": {},
   "source": [
    "### downloadable_resources"
   ]
  },
  {
   "cell_type": "code",
   "execution_count": 16,
   "metadata": {
    "pycharm": {
     "name": "#%%\n"
    }
   },
   "outputs": [
    {
     "data": {
      "text/plain": [
       "(array([877.,  78.,  31.,   7.,   2.,   2.,   4.,   0.,   2.,   2.]),\n",
       " array([  0. ,  15.4,  30.8,  46.2,  61.6,  77. ,  92.4, 107.8, 123.2,\n",
       "        138.6, 154. ]),\n",
       " <BarContainer object of 10 artists>)"
      ]
     },
     "execution_count": 16,
     "metadata": {},
     "output_type": "execute_result"
    },
    {
     "data": {
      "image/png": "[encoded data removed]",
      "text/plain": [
       "<Figure size 432x288 with 1 Axes>"
      ]
     },
     "metadata": {
      "needs_background": "light"
     },
     "output_type": "display_data"
    }
   ],
   "source": [
    "plt.hist(data[\"downloadable_resources\"],  bins=10)"
   ]
  },
  {
   "cell_type": "markdown",
   "metadata": {},
   "source": [
    "***\n",
    "* As one of the independent variable, the downloadable_resources variable should be close to normal distributin. \n",
    "* Hence, a log-transform and scaling are performed. As shown in the plot, the log-transformed and scaled downloadable_resources variable is less skewed. \n",
    "***"
   ]
  },
  {
   "cell_type": "code",
   "execution_count": 17,
   "metadata": {
    "pycharm": {
     "name": "#%%\n"
    }
   },
   "outputs": [
    {
     "data": {
      "text/plain": [
       "(array([155., 231., 179., 147., 102.,  94.,  61.,  24.,   4.,   8.]),\n",
       " array([-1. , -0.8, -0.6, -0.4, -0.2,  0. ,  0.2,  0.4,  0.6,  0.8,  1. ]),\n",
       " <BarContainer object of 10 artists>)"
      ]
     },
     "execution_count": 17,
     "metadata": {},
     "output_type": "execute_result"
    },
    {
     "data": {
      "image/png": "[encoded data removed]",
      "text/plain": [
       "<Figure size 432x288 with 1 Axes>"
      ]
     },
     "metadata": {
      "needs_background": "light"
     },
     "output_type": "display_data"
    }
   ],
   "source": [
    "data[\"downloadable_resources\"] = data[\"downloadable_resources\"].apply(lambda x: np.log(x+1))\n",
    "data[\"downloadable_resources\"] = MinMaxScaler(feature_range=(-1, 1)).fit_transform(data[\"downloadable_resources\"].values.reshape(-1,1))\n",
    "plt.hist(data[\"downloadable_resources\"], bins=10)"
   ]
  },
  {
   "cell_type": "markdown",
   "metadata": {},
   "source": [
    "### instructor_no_courses"
   ]
  },
  {
   "cell_type": "code",
   "execution_count": 18,
   "metadata": {
    "pycharm": {
     "name": "#%%\n"
    },
    "scrolled": true
   },
   "outputs": [
    {
     "data": {
      "text/plain": [
       "(array([937.,   1.,   5.,   0.,   0.,   0.,   0.,   0.,   0.,  62.]),\n",
       " array([   0.,  142.,  284.,  426.,  568.,  710.,  852.,  994., 1136.,\n",
       "        1278., 1420.]),\n",
       " <BarContainer object of 10 artists>)"
      ]
     },
     "execution_count": 18,
     "metadata": {},
     "output_type": "execute_result"
    },
    {
     "data": {
      "image/png": "[encoded data removed]",
      "text/plain": [
       "<Figure size 432x288 with 1 Axes>"
      ]
     },
     "metadata": {
      "needs_background": "light"
     },
     "output_type": "display_data"
    }
   ],
   "source": [
    "plt.hist(data[\"instructor_no_courses\"],  bins=10)"
   ]
  },
  {
   "cell_type": "markdown",
   "metadata": {},
   "source": [
    "***\n",
    "* As one of the independent variable, the instructor_no_courses variable should be close to normal distributin. \n",
    "* Hence, a log-transform and scaling are performed. As shown in the plot, the log-transformed and scaled instructor_no_courses variable is less skewed. \n",
    "***"
   ]
  },
  {
   "cell_type": "code",
   "execution_count": 19,
   "metadata": {
    "pycharm": {
     "name": "#%%\n"
    }
   },
   "outputs": [
    {
     "data": {
      "text/plain": [
       "(array([192., 156., 188., 174., 117.,  93.,  17.,   6.,   0.,  62.]),\n",
       " array([-1. , -0.8, -0.6, -0.4, -0.2,  0. ,  0.2,  0.4,  0.6,  0.8,  1. ]),\n",
       " <BarContainer object of 10 artists>)"
      ]
     },
     "execution_count": 19,
     "metadata": {},
     "output_type": "execute_result"
    },
    {
     "data": {
      "image/png": "[encoded data removed]",
      "text/plain": [
       "<Figure size 432x288 with 1 Axes>"
      ]
     },
     "metadata": {
      "needs_background": "light"
     },
     "output_type": "display_data"
    }
   ],
   "source": [
    "data[\"instructor_no_courses\"] = data[\"instructor_no_courses\"].apply(lambda x: np.log(x+1))\n",
    "data[\"instructor_no_courses\"] = MinMaxScaler(feature_range=(-1, 1)).fit_transform(data[\"instructor_no_courses\"].values.reshape(-1,1))\n",
    "plt.hist(data[\"instructor_no_courses\"], bins=10)"
   ]
  },
  {
   "cell_type": "markdown",
   "metadata": {
    "pycharm": {
     "name": "#%% md\n"
    }
   },
   "source": [
    "## 4. Process categorical data\n"
   ]
  },
  {
   "cell_type": "code",
   "execution_count": 20,
   "metadata": {
    "pycharm": {
     "name": "#%%\n"
    }
   },
   "outputs": [],
   "source": [
    "dummy = pd.get_dummies(data[\"level\"])"
   ]
  },
  {
   "cell_type": "code",
   "execution_count": 21,
   "metadata": {
    "pycharm": {
     "name": "#%%\n"
    }
   },
   "outputs": [],
   "source": [
    "data = pd.concat([data,dummy],axis = 1)\n",
    "data.drop([\"level\"],axis = 1, inplace=True)\n"
   ]
  },
  {
   "cell_type": "markdown",
   "metadata": {},
   "source": [
    "## 5. Regression Models\n",
    "\n",
    "### The dependent variable and independent variables\n",
    "* The enrollment number is set as the dependent variables, and other variables are set as independent. \n",
    "* We drop the num_ratings variable, because the rating number obviously follows the enrollment. We can not obtain useful information from the variable.   "
   ]
  },
  {
   "cell_type": "code",
   "execution_count": 22,
   "metadata": {
    "pycharm": {
     "name": "#%%\n"
    }
   },
   "outputs": [],
   "source": [
    "y = data[\"enrollment\"]\n",
    "X = data.drop([\"enrollment\",\"num_ratings\"],axis = 1)"
   ]
  },
  {
   "cell_type": "markdown",
   "metadata": {},
   "source": [
    "### Split dataset\n",
    "* The dataset is splitted into training and testing dataset for validating the prediction model."
   ]
  },
  {
   "cell_type": "code",
   "execution_count": 23,
   "metadata": {
    "pycharm": {
     "name": "#%%\n"
    }
   },
   "outputs": [],
   "source": [
    "from sklearn.model_selection import train_test_split\n",
    "X_train, X_test, y_train, y_test = train_test_split(X, y, test_size=0.2, random_state=99)"
   ]
  },
  {
   "cell_type": "markdown",
   "metadata": {
    "pycharm": {
     "name": "#%% md\n"
    }
   },
   "source": [
    "### RMSLE\n",
    "\n",
    "* We define a function to calculate Root Mean Squared Logarithmic Error (RMSLE)\n"
   ]
  },
  {
   "cell_type": "code",
   "execution_count": 24,
   "metadata": {
    "pycharm": {
     "name": "#%%\n"
    }
   },
   "outputs": [],
   "source": [
    "def rmsle(y, y_pred):\n",
    "    assert len(y) == len(y_pred)\n",
    "    to_sum = [(math.log(y_pred[i] + 1) - math.log(y[i] + 1)) ** 2.0 for i,pred in enumerate(y_pred)]\n",
    "    return (sum(to_sum) * (1.0/len(y))) ** 0.5"
   ]
  },
  {
   "cell_type": "markdown",
   "metadata": {
    "pycharm": {
     "name": "#%% md\n"
    }
   },
   "source": [
    "### Ridge Regression\n",
    "\n",
    "* Ridge regression model is to use linear least squares with l2 regularization.\n",
    "* The model is to minimized the objective function, $||y - Xw||^2_2 + alpha * ||w||^2_2 $ \n",
    "* The Ridge regression is good for analyzing multiple regression data with multicollinearity. The multicollinearity is a situation in which more than two explanatory variables in a multiple regression model are highly linearly related. It makes least squares estimates have large variances are large.\n"
   ]
  },
  {
   "cell_type": "code",
   "execution_count": 36,
   "metadata": {
    "pycharm": {
     "name": "#%%\n"
    }
   },
   "outputs": [
    {
     "data": {
      "text/plain": [
       "Ridge(alpha=0.9, max_iter=1000, random_state=666, tol=1e-05)"
      ]
     },
     "execution_count": 36,
     "metadata": {},
     "output_type": "execute_result"
    }
   ],
   "source": [
    "from sklearn.linear_model import Ridge\n",
    "model = Ridge(alpha=0.9, fit_intercept=True, max_iter=1000,\n",
    "   normalize=False, random_state=666, tol=0.00001)\n",
    "model.fit(X_train, y_train)"
   ]
  },
  {
   "cell_type": "code",
   "execution_count": 37,
   "metadata": {
    "pycharm": {
     "name": "#%%\n"
    }
   },
   "outputs": [
    {
     "name": "stdout",
     "output_type": "stream",
     "text": [
      "Ridge- RMSLE error on test dataset: 2.021496763033342\n"
     ]
    }
   ],
   "source": [
    "y_pred = model.predict(X=X_test)\n",
    "y_pred = np.expm1(y_pred)\n",
    "y_true = np.expm1(y_test)\n",
    "v_rmsle = rmsle(y_true.values, y_pred)\n",
    "print(\"Ridge- RMSLE error on test dataset: \"+str(v_rmsle))"
   ]
  },
  {
   "cell_type": "markdown",
   "metadata": {},
   "source": [
    "***\n",
    "* The hyperparameter of the Ridge regression is alpha.\n",
    "* We use four values of alpha, 0.05, 0.1, 0.3, and 0.9. Among them, alpha of 0.9 gives the minimum RMSLE error on test dataset.\n",
    "***"
   ]
  },
  {
   "cell_type": "code",
   "execution_count": 38,
   "metadata": {},
   "outputs": [
    {
     "data": {
      "image/png": "[encoded data removed]",
      "text/plain": [
       "<Figure size 432x288 with 1 Axes>"
      ]
     },
     "metadata": {
      "needs_background": "light"
     },
     "output_type": "display_data"
    }
   ],
   "source": [
    "plt.scatter(y_true.values, y_pred, color = \"red\")\n",
    "plt.title(\"True vs Prediction (Test dataset)\")\n",
    "plt.xlabel(\"True Value of Enrollment\")\n",
    "plt.ylabel(\"Prediction of Enrollment\")\n",
    "plt.show()"
   ]
  },
  {
   "cell_type": "markdown",
   "metadata": {},
   "source": [
    "### Lasso Regression\n",
    "\n",
    "* Lasso regression model is to use linear least squares with l1 regularization.\n",
    "* The model is to minimized the objective function, $(1 / (2 * n_samples)) * ||y - Xw||^2_2 + alpha * ||w||_1$ \n",
    "* Lasso regression analysis is a shrinkage and variable selection method. \n",
    "* Shrinkage is where data values are shrunk towards a central point, like the mean. The lasso procedure obtain the subset of predictors."
   ]
  },
  {
   "cell_type": "code",
   "execution_count": 47,
   "metadata": {
    "pycharm": {
     "name": "#%%\n"
    }
   },
   "outputs": [
    {
     "data": {
      "text/plain": [
       "Lasso(alpha=0.05, max_iter=10000, random_state=666, selection='random',\n",
       "      tol=1e-05)"
      ]
     },
     "execution_count": 47,
     "metadata": {},
     "output_type": "execute_result"
    }
   ],
   "source": [
    "from sklearn.linear_model import Ridge, Lasso\n",
    "model = Lasso(alpha=0.05, fit_intercept=True, max_iter=10000,\n",
    "   normalize=False, precompute=False, random_state=666,\n",
    "   selection='random', tol=0.00001)\n",
    "model.fit(X_train, y_train)"
   ]
  },
  {
   "cell_type": "code",
   "execution_count": 48,
   "metadata": {
    "pycharm": {
     "name": "#%%\n"
    }
   },
   "outputs": [
    {
     "name": "stdout",
     "output_type": "stream",
     "text": [
      "Lasso- RMSLE error on test dataset: 2.06452758703387\n"
     ]
    }
   ],
   "source": [
    "y_pred = model.predict(X=X_test)\n",
    "y_pred = np.expm1(y_pred)\n",
    "y_true = np.expm1(y_test)\n",
    "v_rmsle = rmsle(y_true.values, y_pred)\n",
    "print(\"Lasso- RMSLE error on test dataset: \"+str(v_rmsle))"
   ]
  },
  {
   "cell_type": "markdown",
   "metadata": {},
   "source": [
    "***\n",
    "* The hyperparameter of the Lasso regression is alpha.\n",
    "* We use four values of alpha, 0.05, 0.1, 0.3, and 0.9. Among them, alpha of 0.05 gives the minimum RMSLE error on test dataset.\n",
    "***"
   ]
  },
  {
   "cell_type": "code",
   "execution_count": 49,
   "metadata": {},
   "outputs": [
    {
     "data": {
      "image/png": "[encoded data removed]",
      "text/plain": [
       "<Figure size 432x288 with 1 Axes>"
      ]
     },
     "metadata": {
      "needs_background": "light"
     },
     "output_type": "display_data"
    }
   ],
   "source": [
    "plt.scatter(y_true.values, y_pred, color = \"red\")\n",
    "plt.title(\"True vs Prediction (Test dataset)\")\n",
    "plt.xlabel(\"True Value of Enrollment\")\n",
    "plt.ylabel(\"Prediction of Enrollment\")\n",
    "plt.show()"
   ]
  },
  {
   "cell_type": "markdown",
   "metadata": {},
   "source": [
    "### Decision Tree Regression\n",
    "\n",
    "* Decision Tree model is to predicts the value of a target variable by learning simple decision rules inferred from the data features.\n",
    "* It breaks down a dataset into smaller and smaller subsets while at the same time an associated decision tree is incrementally developed."
   ]
  },
  {
   "cell_type": "code",
   "execution_count": 58,
   "metadata": {
    "pycharm": {
     "name": "#%%\n"
    }
   },
   "outputs": [
    {
     "data": {
      "text/plain": [
       "DecisionTreeRegressor(max_depth=4)"
      ]
     },
     "execution_count": 58,
     "metadata": {},
     "output_type": "execute_result"
    }
   ],
   "source": [
    "from sklearn.tree import DecisionTreeRegressor\n",
    "model = DecisionTreeRegressor(max_depth=4)\n",
    "model.fit(X_train, y_train)"
   ]
  },
  {
   "cell_type": "code",
   "execution_count": 59,
   "metadata": {
    "pycharm": {
     "name": "#%%\n"
    }
   },
   "outputs": [
    {
     "name": "stdout",
     "output_type": "stream",
     "text": [
      "Decision Tree Regression- RMSLE error on test dataset: 1.5875228458514539\n"
     ]
    }
   ],
   "source": [
    "y_pred = model.predict(X=X_test)\n",
    "y_pred = np.expm1(y_pred)\n",
    "y_true = np.expm1(y_test)\n",
    "v_rmsle = rmsle(y_true.values, y_pred)\n",
    "print(\"Decision Tree Regression- RMSLE error on test dataset: \"+str(v_rmsle))"
   ]
  },
  {
   "cell_type": "markdown",
   "metadata": {},
   "source": [
    "***\n",
    "* The hyperparameter of the decision tree regression is max_depth.\n",
    "* We use four values of max_depth, 2, 4, 6, and 8. Among them, max_depth of 4 gives the minimum RMSLE error on test dataset.\n",
    "***"
   ]
  },
  {
   "cell_type": "code",
   "execution_count": 60,
   "metadata": {
    "scrolled": true
   },
   "outputs": [
    {
     "data": {
      "image/png": "[encoded data removed]",
      "text/plain": [
       "<Figure size 432x288 with 1 Axes>"
      ]
     },
     "metadata": {
      "needs_background": "light"
     },
     "output_type": "display_data"
    }
   ],
   "source": [
    "plt.scatter(y_true.values, y_pred, color = \"red\")\n",
    "plt.title(\"True vs Prediction (Test dataset)\")\n",
    "plt.xlabel(\"True Value of Enrollment\")\n",
    "plt.ylabel(\"Prediction of Enrollment\")\n",
    "plt.show()"
   ]
  },
  {
   "cell_type": "markdown",
   "metadata": {},
   "source": [
    "* Plot feature importance"
   ]
  },
  {
   "cell_type": "code",
   "execution_count": 61,
   "metadata": {
    "pycharm": {
     "name": "#%%\n"
    }
   },
   "outputs": [
    {
     "name": "stdout",
     "output_type": "stream",
     "text": [
      "price 0.0\n",
      "original_price 0.0\n",
      "lectures 0.02914103102085937\n",
      "hours 0.0\n",
      "rating 0.0\n",
      "five_stars 0.06699101518945215\n",
      "four_stars 0.006111870442173789\n",
      "three_stars 0.6356907963109857\n",
      "two_stars 0.22888016127690103\n",
      "downloadable_resources 0.0055633764925381015\n",
      "instructor_no_courses 0.00483408015008962\n",
      "descr_LDA_0 0.0\n",
      "descr_LDA_1 0.00012595410699399614\n",
      "descr_LDA_2 0.001318428927052887\n",
      "descr_LDA_3 0.0\n",
      "descr_LDA_4 0.0\n",
      "descr_LDA_5 0.0\n",
      "descr_LDA_6 0.0\n",
      "descr_LDA_7 0.0\n",
      "descr_LDA_8 0.0\n",
      "descr_LDA_9 0.0\n",
      "instr_LDA_0 0.01711448827730642\n",
      "instr_LDA_1 0.0\n",
      "instr_LDA_2 0.0\n",
      "instr_LDA_3 0.0\n",
      "instr_LDA_4 0.0\n",
      "instr_LDA_5 0.0\n",
      "instr_LDA_6 0.0\n",
      "instr_LDA_7 0.0\n",
      "instr_LDA_8 0.004228797805646816\n",
      "instr_LDA_9 0.0\n",
      "All Levels 0.0\n",
      "Beginner 0.0\n",
      "Expert 0.0\n",
      "Intermediate 0.0\n"
     ]
    }
   ],
   "source": [
    "for feature, importance in zip(X.columns,model.feature_importances_):\n",
    "    print(feature, importance)"
   ]
  },
  {
   "cell_type": "markdown",
   "metadata": {
    "pycharm": {
     "name": "#%% md\n"
    }
   },
   "source": [
    "***\n",
    "Model Comparision\n",
    "* Among the three regressions used in this study, the decision tree regression model shows the highest accuracy.\n",
    "* The three regreesion models are provided by the python package Scikit-learn. They are easy to use but can not indicate significant values of independent variables. \n",
    "* The decision tree regression model in Scikit-learn shows the feature importance of each independent variables. However, it can not show how the independent variable impact the dependent variable, such as positive or negative impact.  \n",
    "\n",
    "Feature importance\n",
    "* The variables that have importance in the regression are lectures, five_stars, four_stars, three_stars, two stars, downloadable_resources, instructor_no_courses, descr_LDA_1, descr_LDA_2, instr_LDA_0, and instr_LDA_8.\n",
    "* Key words of descr_LDA 1: curso, power, bi, descript, requir, show, dato, aprend, b, sico\n",
    "* Key words of descr_LDA 2: report, sql, pentaho, power, json, bi, postgr, use, server, gi\n",
    "* Key words of instr_LDA_0: scienc, cours, univers, show, market, technolog, analyt, experi, team, year\n",
    "* Key words of instr_LDA_8: jeff, year, step, program, technolog, workforc, industri, null, analyt, time\n",
    "* The above four topics can be interpreted as: power bi and visulization, project report involving sql, instructor in university, and many years of experience of instructor.\n",
    "***"
   ]
  },
  {
   "cell_type": "markdown",
   "metadata": {
    "pycharm": {
     "name": "#%% md\n"
    }
   },
   "source": [
    "### OLS Regression\n",
    "\n",
    "* Here we use ordinary least squares (OLS) model to check the impacts of independent variables on the dependent variable (enrollment number).\n",
    "* The OLS model is one of the simplest regression model, but is good to exame the correlation between independent variable and dependent variable. \n",
    "* In the use of OLS model, we don't care about the acuracy of the prediction model. Hence, we don't split the dataset into train and test for validation, but use the whole dataset to fit the model. "
   ]
  },
  {
   "cell_type": "code",
   "execution_count": 62,
   "metadata": {
    "pycharm": {
     "name": "#%%\n"
    }
   },
   "outputs": [],
   "source": [
    "import statsmodels.api as sm"
   ]
  },
  {
   "cell_type": "code",
   "execution_count": 63,
   "metadata": {
    "pycharm": {
     "name": "#%%\n"
    }
   },
   "outputs": [],
   "source": [
    "mod = sm.OLS(y,X)\n",
    "fii = mod.fit()\n",
    "p_values = fii.summary2().tables[1]['P>|t|']"
   ]
  },
  {
   "cell_type": "code",
   "execution_count": 64,
   "metadata": {
    "pycharm": {
     "name": "#%%\n"
    }
   },
   "outputs": [
    {
     "name": "stdout",
     "output_type": "stream",
     "text": [
      "                                 OLS Regression Results                                \n",
      "=======================================================================================\n",
      "Dep. Variable:             enrollment   R-squared (uncentered):                   0.916\n",
      "Model:                            OLS   Adj. R-squared (uncentered):              0.913\n",
      "Method:                 Least Squares   F-statistic:                              302.8\n",
      "Date:                Sat, 27 Feb 2021   Prob (F-statistic):                        0.00\n",
      "Time:                        12:27:33   Log-Likelihood:                         -2100.1\n",
      "No. Observations:                1005   AIC:                                      4270.\n",
      "Df Residuals:                     970   BIC:                                      4442.\n",
      "Df Model:                          35                                                  \n",
      "Covariance Type:            nonrobust                                                  \n",
      "==========================================================================================\n",
      "                             coef    std err          t      P>|t|      [0.025      0.975]\n",
      "------------------------------------------------------------------------------------------\n",
      "price                      0.3253      0.447      0.728      0.467      -0.552       1.203\n",
      "original_price             0.7203      0.196      3.667      0.000       0.335       1.106\n",
      "lectures                   1.0378      0.322      3.225      0.001       0.406       1.669\n",
      "hours                      0.4318      0.304      1.422      0.155      -0.164       1.028\n",
      "rating                    -0.0630      0.424     -0.149      0.882      -0.894       0.768\n",
      "five_stars                 4.6049      0.833      5.529      0.000       2.971       6.239\n",
      "four_stars                 5.6287      0.746      7.545      0.000       4.165       7.093\n",
      "three_stars                4.1758      0.755      5.531      0.000       2.694       5.657\n",
      "two_stars                  2.9373      0.968      3.035      0.002       1.038       4.836\n",
      "downloadable_resources     0.4690      0.162      2.887      0.004       0.150       0.788\n",
      "instructor_no_courses     -0.0540      0.153     -0.352      0.725      -0.355       0.247\n",
      "descr_LDA_0               -1.3861      5.253     -0.264      0.792     -11.694       8.922\n",
      "descr_LDA_1               -1.3013      5.247     -0.248      0.804     -11.598       8.995\n",
      "descr_LDA_2               -1.1933      5.254     -0.227      0.820     -11.503       9.117\n",
      "descr_LDA_3               -0.9871      5.245     -0.188      0.851     -11.280       9.306\n",
      "descr_LDA_4               -1.7431      5.417     -0.322      0.748     -12.374       8.888\n",
      "descr_LDA_5                0.6868      5.990      0.115      0.909     -11.068      12.442\n",
      "descr_LDA_6               -1.8470      5.405     -0.342      0.733     -12.453       8.759\n",
      "descr_LDA_7               -0.8322      5.204     -0.160      0.873     -11.045       9.380\n",
      "descr_LDA_8               -6.7721      7.681     -0.882      0.378     -21.845       8.301\n",
      "descr_LDA_9               -1.8502      5.818     -0.318      0.751     -13.268       9.567\n",
      "instr_LDA_0                5.8226      5.082      1.146      0.252      -4.151      15.797\n",
      "instr_LDA_1                5.4793      5.058      1.083      0.279      -4.447      15.406\n",
      "instr_LDA_2                5.0639      5.052      1.002      0.316      -4.850      14.978\n",
      "instr_LDA_3                6.3189      4.950      1.276      0.202      -3.396      16.033\n",
      "instr_LDA_4                6.3052      5.148      1.225      0.221      -3.798      16.408\n",
      "instr_LDA_5                0.5951      5.170      0.115      0.908      -9.550      10.740\n",
      "instr_LDA_6                4.8494      5.248      0.924      0.356      -5.449      15.147\n",
      "instr_LDA_7                2.3840      7.084      0.337      0.737     -11.517      16.285\n",
      "instr_LDA_8                6.7312      5.108      1.318      0.188      -3.292      16.755\n",
      "instr_LDA_9                7.6769      5.541      1.386      0.166      -3.196      18.550\n",
      "All Levels                -1.3892      1.962     -0.708      0.479      -5.240       2.462\n",
      "Beginner                  -1.6165      1.962     -0.824      0.410      -5.467       2.234\n",
      "Expert                    -1.8671      2.018     -0.925      0.355      -5.827       2.092\n",
      "Intermediate              -1.7813      1.967     -0.905      0.365      -5.642       2.079\n",
      "==============================================================================\n",
      "Omnibus:                        2.208   Durbin-Watson:                   1.013\n",
      "Prob(Omnibus):                  0.332   Jarque-Bera (JB):                2.268\n",
      "Skew:                          -0.017   Prob(JB):                        0.322\n",
      "Kurtosis:                       3.230   Cond. No.                         585.\n",
      "==============================================================================\n",
      "\n",
      "Notes:\n",
      "[1] R² is computed without centering (uncentered) since the model does not contain a constant.\n",
      "[2] Standard Errors assume that the covariance matrix of the errors is correctly specified.\n"
     ]
    }
   ],
   "source": [
    "print(fii.summary())"
   ]
  },
  {
   "cell_type": "markdown",
   "metadata": {
    "pycharm": {
     "name": "#%% md\n"
    }
   },
   "source": [
    "***\n",
    "* The variables, including original_price, lectures, five_stars, four_stars, three_stars, two stars, and downloadable_resources, show significant impact on the dependent variable.\n",
    "* The significant variables are partially different from the important variables in the decision tree regression model.\n",
    "* From the coefficients of the independent variables, the original_price, lectures, five_stars, four_stars, three_stars, two stars, and downloadable_resources all have positive impact on the enrollment number.\n",
    "***\n",
    "\n"
   ]
  },
  {
   "cell_type": "markdown",
   "metadata": {},
   "source": [
    "## 6. Discussion\n",
    "\n",
    "Through the above analysis, we try to achieve guidelines on designing a bussiness analytics online course. \n",
    "\n",
    "### Original Price\n",
    "* Udemy has regularly \\$10 per course promotion, so learners prefer to puchase course during the promotion instead of paying the original price. \n",
    "* The regression analysis shows that the original price has a positive impact on the enrolment number. \n",
    "* It can be explained that a high original price gives the learners an impression that this course is valuable. \n",
    "* Hence, we suggest the instructors set the course's original price as $199.99, which is the maximun value of the original price in the dataset. \n",
    "\n",
    "### Lecture numbers\n",
    "* The lecture number has a positive impact on the enrollment number. \n",
    "* It can be explained that learner favor the course with a big number of short lectures. \n",
    "* The mean of course hours is 5 hours, and the mean of lecture number is 52. \n",
    "* Hence, we suggest the instructors set the lecture nubmer as round 100 and each lecture length as 3 minutes. \n",
    "\n",
    "### Downloadable Resources\n",
    "* The number of Downloadable Resources has a positive impact on the enrollment number.\n",
    "* Considering the distribution of Downloadable Resources in the dataset, in which the mean value is 7, we suggest the instructors provide around 15 downloadable resources in the course. \n",
    "\n",
    "### Course Description\n",
    "* The analysis above shows that the two topics in course descripiton, power bi visulization and project report involving sql, have an impact on the enrollment number. \n",
    "* This implies that the visulization content such as power bi and tableau should be highlighted in the course description. Learners are looking for the visulization skills. \n",
    "* The course projects that are set close to real-world industrial projects involving SQL database and formal reporting strategies should also be highlighted in the course description. \n",
    "\n",
    "### Instructor Introduction\n",
    "* The analysis above shows that the two topics in instructor introduction, instructor in university and many years of experience, have an impact on the enrollment number. \n",
    "* This implies that learners emphasize on the instructor's educational background and teaching and researching experience in University, which should be highlighted in the instructor introduction. Does the instructor have a CS or business advance degree? Does the instructor teaching or researching business analytics in University?\n",
    "* The instructor's long-time experience in bussiness analytics should also be highlighted in the course description. How many year does the instructor involving business analytics? How many year does the instructor use Python, machine learning, SQL, or Tableau?\n",
    "\n"
   ]
  },
  {
   "cell_type": "markdown",
   "metadata": {},
   "source": [
    "## 7. Conclusion\n",
    "\n",
    "* This project analyzes data of Udemy bussiness analytics course. \n",
    "* The challenge of the project is to web scrap data from Udemy website. Popular websites including Udemy have anti-scraping techniques to detect web scrapping and block ip. We try different web scrapping tools and find Selenium being the best for anti-anti-scraping. The Selenium can simulate human behaviors of opening websites, waiting, and closing websites. \n",
    "* This project does not only create an accurate predictive model but also determine the impact of independent variables on the depependent variable. Hence, the results from the predictive can be explored for business insights. \n",
    "\n",
    "## 8. Future\n",
    "\n",
    "* The dataset containing information of 1005 courses is small. Future study may include more course information. \n",
    "* Future study may be extended to other MOOC subject, such as machine learning and Artificial intelligence.\n",
    "* This project uses OLS, Ridge, Lasso, and decision tree regression models. More advanced regression model can be used, such as General linear model, Bayesian methods, and nonlinear regression model. \n"
   ]
  },
  {
   "cell_type": "code",
   "execution_count": null,
   "metadata": {},
   "outputs": [],
   "source": []
  }
 ],
 "metadata": {
  "kernelspec": {
   "display_name": "Python 3",
   "language": "python",
   "name": "python3"
  },
  "language_info": {
   "codemirror_mode": {
    "name": "ipython",
    "version": 3
   },
   "file_extension": ".py",
   "mimetype": "text/x-python",
   "name": "python",
   "nbconvert_exporter": "python",
   "pygments_lexer": "ipython3",
   "version": "3.8.5"
  }
 },
 "nbformat": 4,
 "nbformat_minor": 1
}
