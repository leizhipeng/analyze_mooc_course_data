{
 "cells": [
  {
   "cell_type": "code",
   "execution_count": 1,
   "metadata": {
    "collapsed": true
   },
   "outputs": [
    {
     "name": "stderr",
     "output_type": "stream",
     "text": [
      "C:\\Users\\zhipe\\Anaconda3\\envs\\glda\\lib\\site-packages\\scipy\\sparse\\sparsetools.py:21: DeprecationWarning: `scipy.sparse.sparsetools` is deprecated!\n",
      "scipy.sparse.sparsetools is a private module for scipy.sparse, and should not be used.\n",
      "  _deprecated()\n"
     ]
    }
   ],
   "source": [
    "import pandas as pd\n",
    "import matplotlib.pyplot as plt\n",
    "import pyLDAvis.gensim\n",
    "import re\n",
    "import nltk\n",
    "from nltk.stem.porter import *\n",
    "from stop_words import get_stop_words\n",
    "from nltk.tokenize import word_tokenize\n",
    "from wordcloud import WordCloud\n",
    "import gensim\n",
    "from gensim import corpora, models\n",
    "import pickle\n",
    "from sklearn.feature_extraction.text import CountVectorizer\n",
    "from lda import guidedlda as glda\n",
    "import numpy as np\n",
    "%matplotlib inline\n"
   ]
  },
  {
   "cell_type": "code",
   "execution_count": 2,
   "outputs": [
    {
     "name": "stderr",
     "output_type": "stream",
     "text": [
      "C:\\Users\\zhipe\\Anaconda3\\envs\\glda\\lib\\site-packages\\ipykernel\\ipkernel.py:287: DeprecationWarning: `should_run_async` will not call `transform_cell` automatically in the future. Please pass the result to `transformed_cell` argument and any exception that happen during thetransform in `preprocessing_exc_tuple` in IPython 7.17 and above.\n",
      "  and should_run_async(code)\n"
     ]
    }
   ],
   "source": [
    "data = pd.read_pickle(\"../ETL/data.pkl\")\n",
    "review_pd = pd.read_pickle(\"../ETL/review_pd.pkl\")"
   ],
   "metadata": {
    "collapsed": false,
    "pycharm": {
     "name": "#%%\n"
    }
   }
  },
  {
   "cell_type": "code",
   "execution_count": 3,
   "outputs": [
    {
     "name": "stderr",
     "output_type": "stream",
     "text": [
      "C:\\Users\\zhipe\\Anaconda3\\envs\\glda\\lib\\site-packages\\ipykernel\\ipkernel.py:287: DeprecationWarning: `should_run_async` will not call `transform_cell` automatically in the future. Please pass the result to `transformed_cell` argument and any exception that happen during thetransform in `preprocessing_exc_tuple` in IPython 7.17 and above.\n",
      "  and should_run_async(code)\n"
     ]
    },
    {
     "data": {
      "text/plain": "   id                                               name  \\\n0   1                         the-complete-sql-bootcamp/   \n1   2                                         tableau10/   \n2   3                     powerbi-complete-introduction/   \n3   4  microsoft-power-bi-up-running-with-power-bi-de...   \n4   5     the-business-intelligence-analyst-course-2018/   \n\n                                              seller  price  original_price  \\\n0                                      Jose Portilla  25.99          179.99   \n1             Kirill Eremenko  SuperDataScience Team  16.99          124.99   \n2  Manuel Lorenz  Academind by Maximilian Schwarz...  12.99           94.99   \n3         Maven Analytics  Chris Dutton  Aaron Parry  19.99          139.99   \n4                                        365 Careers  12.99           94.99   \n\n   lectures  hours       level  enrollment  rating  ...  \\\n0        83    9.0  All Levels    342288.0     4.7  ...   \n1        82    9.0  All Levels    231631.0     4.6  ...   \n2       275   23.5    Beginner    148077.0     4.6  ...   \n3       117   11.0  All Levels    109303.0     4.6  ...   \n4       413   20.5  All Levels    136869.0     4.5  ...   \n\n   downloadable_resources  last_update_date          instructor_title  \\\n0                    14.0        2020-10-01             Jose Portilla   \n1                     6.0        2021-02-01              Ligency Team   \n2                    26.0        2020-11-01  Maximilian Schwarzmüller   \n3                    14.0        2021-02-01               Aaron Parry   \n4                   151.0        2020-11-01               365 Careers   \n\n                                instructor_job_title  \\\n0            Head of Data Science, Pierian Data Inc.   \n1                    Helping Data Scientists Succeed   \n2          Professional Web Developer and Instructor   \n3  Professional Business Intelligence Trainer & C...   \n4  Creating opportunities for Business & Finance ...   \n\n                                     instructor_info instructor_rating  \\\n0    Jose Marcial Portilla has a BS and MS in Mec...               4.6   \n1  Hi there, We are the Ligency PR and Marketing ...               4.5   \n2  Experience as (Web) Developer Starting out at ...               4.6   \n3  Aaron is a professional analytics consultant a...               4.6   \n4  365 Careers is the #1 best-selling provider of...               4.5   \n\n   instructor_no_reviews  instructor_no_students instructor_no_courses  \\\n0               712729.0               2179902.0                  31.0   \n1               429183.0               1472140.0                  48.0   \n2               564184.0               1335299.0                  35.0   \n3                34377.0                438163.0                   3.0   \n4               385370.0               1322640.0                  68.0   \n\n                                       review_index  \n0            [0, 1, 2, 3, 4, 5, 6, 7, 8, 9, 10, 11]  \n1  [12, 13, 14, 15, 16, 17, 18, 19, 20, 21, 22, 23]  \n2  [24, 25, 26, 27, 28, 29, 30, 31, 32, 33, 34, 35]  \n3  [36, 37, 38, 39, 40, 41, 42, 43, 44, 45, 46, 47]  \n4  [48, 49, 50, 51, 52, 53, 54, 55, 56, 57, 58, 59]  \n\n[5 rows x 27 columns]",
      "text/html": "<div>\n<style scoped>\n    .dataframe tbody tr th:only-of-type {\n        vertical-align: middle;\n    }\n\n    .dataframe tbody tr th {\n        vertical-align: top;\n    }\n\n    .dataframe thead th {\n        text-align: right;\n    }\n</style>\n<table border=\"1\" class=\"dataframe\">\n  <thead>\n    <tr style=\"text-align: right;\">\n      <th></th>\n      <th>id</th>\n      <th>name</th>\n      <th>seller</th>\n      <th>price</th>\n      <th>original_price</th>\n      <th>lectures</th>\n      <th>hours</th>\n      <th>level</th>\n      <th>enrollment</th>\n      <th>rating</th>\n      <th>...</th>\n      <th>downloadable_resources</th>\n      <th>last_update_date</th>\n      <th>instructor_title</th>\n      <th>instructor_job_title</th>\n      <th>instructor_info</th>\n      <th>instructor_rating</th>\n      <th>instructor_no_reviews</th>\n      <th>instructor_no_students</th>\n      <th>instructor_no_courses</th>\n      <th>review_index</th>\n    </tr>\n  </thead>\n  <tbody>\n    <tr>\n      <th>0</th>\n      <td>1</td>\n      <td>the-complete-sql-bootcamp/</td>\n      <td>Jose Portilla</td>\n      <td>25.99</td>\n      <td>179.99</td>\n      <td>83</td>\n      <td>9.0</td>\n      <td>All Levels</td>\n      <td>342288.0</td>\n      <td>4.7</td>\n      <td>...</td>\n      <td>14.0</td>\n      <td>2020-10-01</td>\n      <td>Jose Portilla</td>\n      <td>Head of Data Science, Pierian Data Inc.</td>\n      <td>Jose Marcial Portilla has a BS and MS in Mec...</td>\n      <td>4.6</td>\n      <td>712729.0</td>\n      <td>2179902.0</td>\n      <td>31.0</td>\n      <td>[0, 1, 2, 3, 4, 5, 6, 7, 8, 9, 10, 11]</td>\n    </tr>\n    <tr>\n      <th>1</th>\n      <td>2</td>\n      <td>tableau10/</td>\n      <td>Kirill Eremenko  SuperDataScience Team</td>\n      <td>16.99</td>\n      <td>124.99</td>\n      <td>82</td>\n      <td>9.0</td>\n      <td>All Levels</td>\n      <td>231631.0</td>\n      <td>4.6</td>\n      <td>...</td>\n      <td>6.0</td>\n      <td>2021-02-01</td>\n      <td>Ligency Team</td>\n      <td>Helping Data Scientists Succeed</td>\n      <td>Hi there, We are the Ligency PR and Marketing ...</td>\n      <td>4.5</td>\n      <td>429183.0</td>\n      <td>1472140.0</td>\n      <td>48.0</td>\n      <td>[12, 13, 14, 15, 16, 17, 18, 19, 20, 21, 22, 23]</td>\n    </tr>\n    <tr>\n      <th>2</th>\n      <td>3</td>\n      <td>powerbi-complete-introduction/</td>\n      <td>Manuel Lorenz  Academind by Maximilian Schwarz...</td>\n      <td>12.99</td>\n      <td>94.99</td>\n      <td>275</td>\n      <td>23.5</td>\n      <td>Beginner</td>\n      <td>148077.0</td>\n      <td>4.6</td>\n      <td>...</td>\n      <td>26.0</td>\n      <td>2020-11-01</td>\n      <td>Maximilian Schwarzmüller</td>\n      <td>Professional Web Developer and Instructor</td>\n      <td>Experience as (Web) Developer Starting out at ...</td>\n      <td>4.6</td>\n      <td>564184.0</td>\n      <td>1335299.0</td>\n      <td>35.0</td>\n      <td>[24, 25, 26, 27, 28, 29, 30, 31, 32, 33, 34, 35]</td>\n    </tr>\n    <tr>\n      <th>3</th>\n      <td>4</td>\n      <td>microsoft-power-bi-up-running-with-power-bi-de...</td>\n      <td>Maven Analytics  Chris Dutton  Aaron Parry</td>\n      <td>19.99</td>\n      <td>139.99</td>\n      <td>117</td>\n      <td>11.0</td>\n      <td>All Levels</td>\n      <td>109303.0</td>\n      <td>4.6</td>\n      <td>...</td>\n      <td>14.0</td>\n      <td>2021-02-01</td>\n      <td>Aaron Parry</td>\n      <td>Professional Business Intelligence Trainer &amp; C...</td>\n      <td>Aaron is a professional analytics consultant a...</td>\n      <td>4.6</td>\n      <td>34377.0</td>\n      <td>438163.0</td>\n      <td>3.0</td>\n      <td>[36, 37, 38, 39, 40, 41, 42, 43, 44, 45, 46, 47]</td>\n    </tr>\n    <tr>\n      <th>4</th>\n      <td>5</td>\n      <td>the-business-intelligence-analyst-course-2018/</td>\n      <td>365 Careers</td>\n      <td>12.99</td>\n      <td>94.99</td>\n      <td>413</td>\n      <td>20.5</td>\n      <td>All Levels</td>\n      <td>136869.0</td>\n      <td>4.5</td>\n      <td>...</td>\n      <td>151.0</td>\n      <td>2020-11-01</td>\n      <td>365 Careers</td>\n      <td>Creating opportunities for Business &amp; Finance ...</td>\n      <td>365 Careers is the #1 best-selling provider of...</td>\n      <td>4.5</td>\n      <td>385370.0</td>\n      <td>1322640.0</td>\n      <td>68.0</td>\n      <td>[48, 49, 50, 51, 52, 53, 54, 55, 56, 57, 58, 59]</td>\n    </tr>\n  </tbody>\n</table>\n<p>5 rows × 27 columns</p>\n</div>"
     },
     "execution_count": 3,
     "metadata": {},
     "output_type": "execute_result"
    }
   ],
   "source": [
    "data.head()\n"
   ],
   "metadata": {
    "collapsed": false,
    "pycharm": {
     "name": "#%%\n"
    }
   }
  },
  {
   "cell_type": "code",
   "execution_count": 4,
   "outputs": [
    {
     "name": "stderr",
     "output_type": "stream",
     "text": [
      "C:\\Users\\zhipe\\Anaconda3\\envs\\glda\\lib\\site-packages\\ipykernel\\ipkernel.py:287: DeprecationWarning: `should_run_async` will not call `transform_cell` automatically in the future. Please pass the result to `transformed_cell` argument and any exception that happen during thetransform in `preprocessing_exc_tuple` in IPython 7.17 and above.\n",
      "  and should_run_async(code)\n"
     ]
    },
    {
     "name": "stdout",
     "output_type": "stream",
     "text": [
      "Index(['id', 'name', 'seller', 'price', 'original_price', 'lectures', 'hours',\n",
      "       'level', 'enrollment', 'rating', 'num_ratings', 'five_stars',\n",
      "       'four_stars', 'three_stars', 'two_stars', 'description',\n",
      "       'hours_ondemand_video', 'downloadable_resources', 'last_update_date',\n",
      "       'instructor_title', 'instructor_job_title', 'instructor_info',\n",
      "       'instructor_rating', 'instructor_no_reviews', 'instructor_no_students',\n",
      "       'instructor_no_courses', 'review_index'],\n",
      "      dtype='object')\n"
     ]
    }
   ],
   "source": [
    "print(data.columns)\n"
   ],
   "metadata": {
    "collapsed": false,
    "pycharm": {
     "name": "#%%\n"
    }
   }
  },
  {
   "cell_type": "code",
   "execution_count": 5,
   "outputs": [
    {
     "name": "stderr",
     "output_type": "stream",
     "text": [
      "C:\\Users\\zhipe\\Anaconda3\\envs\\glda\\lib\\site-packages\\ipykernel\\ipkernel.py:287: DeprecationWarning: `should_run_async` will not call `transform_cell` automatically in the future. Please pass the result to `transformed_cell` argument and any exception that happen during thetransform in `preprocessing_exc_tuple` in IPython 7.17 and above.\n",
      "  and should_run_async(code)\n"
     ]
    }
   ],
   "source": [
    "def preprocess_sent(text):\n",
    "    \"\"\"\n",
    "    Get sentence level preprocessed data from raw texts\n",
    "    :param rw: review to be processed\n",
    "    :return: sentence level pre-processed review\n",
    "    \"\"\"\n",
    "    # Add missing delimiter: xxxThis is a --> xxx.\n",
    "    s = re.sub(r'([a-z])([A-Z])', r'\\1\\. \\2', text)  # before lower case\n",
    "    # Make words all lower case.\n",
    "    s = s.lower()\n",
    "    # Remove < and >\n",
    "    s = re.sub(r'&gt|&lt', ' ', s)\n",
    "    # Remove letters that repeat more than 2 time.\n",
    "    s = re.sub(r'([a-z])\\1{2,}', r'\\1', s)\n",
    "    # Remove non-word characters that repeat more than 1 time.\n",
    "    s = re.sub(r'([\\W+])\\1{1,}', r'\\1', s)\n",
    "    # Use string * as delimiter\n",
    "    s = re.sub(r'\\*|\\W\\*|\\*\\W', '. ', s)\n",
    "    # Remove words in parenthesis, which are assumed less informal\n",
    "    s = re.sub(r'\\(.*?\\)', '. ', s)\n",
    "    # xxx[?!]. -- > xxx.\n",
    "    s = re.sub(r'\\W+?\\.', '.', s)\n",
    "    # [.?!]xxx --> [.?!] xxx\n",
    "    s = re.sub(r'(\\.|\\?|!)(\\w)', r'\\1 \\2', s)\n",
    "    return s.strip()\n"
   ],
   "metadata": {
    "collapsed": false,
    "pycharm": {
     "name": "#%%\n"
    }
   }
  },
  {
   "cell_type": "code",
   "execution_count": 6,
   "outputs": [
    {
     "name": "stderr",
     "output_type": "stream",
     "text": [
      "C:\\Users\\zhipe\\Anaconda3\\envs\\glda\\lib\\site-packages\\ipykernel\\ipkernel.py:287: DeprecationWarning: `should_run_async` will not call `transform_cell` automatically in the future. Please pass the result to `transformed_cell` argument and any exception that happen during thetransform in `preprocessing_exc_tuple` in IPython 7.17 and above.\n",
      "  and should_run_async(code)\n"
     ]
    }
   ],
   "source": [
    "# define stemmer\n",
    "\n",
    "p_stemmer = PorterStemmer()\n",
    "# create stop words list\n",
    "stop_words = (list(\n",
    "    set(get_stop_words('en'))\n",
    "    |set(get_stop_words('es'))\n",
    "    |set(get_stop_words('de'))\n",
    "    |set(get_stop_words('it'))\n",
    "    |set(get_stop_words('ca'))\n",
    "    |set(get_stop_words('pt'))\n",
    "    |set(get_stop_words('pl'))\n",
    "    |set(get_stop_words('da'))\n",
    "    |set(get_stop_words('ru'))\n",
    "    |set(get_stop_words('sv'))\n",
    "    |set(get_stop_words('sk'))\n",
    "    |set(get_stop_words('nl'))\n",
    "    |set([\"course\",\"data\"])\n",
    "))"
   ],
   "metadata": {
    "collapsed": false,
    "pycharm": {
     "name": "#%%\n"
    }
   }
  },
  {
   "cell_type": "code",
   "execution_count": 7,
   "outputs": [
    {
     "name": "stderr",
     "output_type": "stream",
     "text": [
      "C:\\Users\\zhipe\\Anaconda3\\envs\\glda\\lib\\site-packages\\ipykernel\\ipkernel.py:287: DeprecationWarning: `should_run_async` will not call `transform_cell` automatically in the future. Please pass the result to `transformed_cell` argument and any exception that happen during thetransform in `preprocessing_exc_tuple` in IPython 7.17 and above.\n",
      "  and should_run_async(code)\n"
     ]
    }
   ],
   "source": [
    "def preprocess_word(s):\n",
    "    \"\"\"\n",
    "    Get word level preprocessed data from preprocessed sentences\n",
    "    including: remove punctuation, select noun, stem, stop_words\n",
    "    :param s: sentence to be processed\n",
    "    :return: word level pre-processed documents\n",
    "    \"\"\"\n",
    "    if not s:\n",
    "        return []\n",
    "    w_list = word_tokenize(s)\n",
    "    w_list = [word for word in w_list if word.isalpha()]\n",
    "    w_list = [word for (word, pos) in nltk.pos_tag(w_list) if pos[:2] == 'NN']\n",
    "    w_list = [word for word in w_list if word not in stop_words]\n",
    "    w_list = [p_stemmer.stem(word) for word in w_list]\n",
    "\n",
    "    return w_list\n"
   ],
   "metadata": {
    "collapsed": false,
    "pycharm": {
     "name": "#%%\n"
    }
   }
  },
  {
   "cell_type": "code",
   "execution_count": 8,
   "outputs": [
    {
     "name": "stderr",
     "output_type": "stream",
     "text": [
      "C:\\Users\\zhipe\\Anaconda3\\envs\\glda\\lib\\site-packages\\ipykernel\\ipkernel.py:287: DeprecationWarning: `should_run_async` will not call `transform_cell` automatically in the future. Please pass the result to `transformed_cell` argument and any exception that happen during thetransform in `preprocessing_exc_tuple` in IPython 7.17 and above.\n",
      "  and should_run_async(code)\n"
     ]
    }
   ],
   "source": [
    "import codecs\n",
    "def lda_process(token_lists,output):\n",
    "    \"\"\"\n",
    "    # Normal LDA without seeding\n",
    "    :param token_lists:\n",
    "    :return:\n",
    "    \"\"\"\n",
    "    text_lists_clean = [ \" \".join(tl) for tl in token_lists ]\n",
    "    vocab=list(set(word_tokenize(\" \".join(text_lists_clean))))\n",
    "    vectorizer = CountVectorizer(ngram_range=(1,1),vocabulary=vocab)\n",
    "    X = vectorizer.fit_transform(text_lists_clean)\n",
    "    word2id = dict((v, idx) for idx, v in enumerate(vocab))\n",
    "    # from lda import glda_datasets as gldad\n",
    "    model = glda.GuidedLDA(n_topics=8, n_iter=1000, random_state=7, refresh=20)\n",
    "    model.fit(X)\n",
    "    topic_word = model.topic_word_\n",
    "    n_top_words = 8\n",
    "    f = codecs.open(output+\"_topic.txt\", \"w\", \"utf-8\")\n",
    "    for i, topic_dist in enumerate(topic_word):\n",
    "        topic_words = np.array(vocab)[np.argsort(topic_dist)][:-(n_top_words+1):-1]\n",
    "        f.write('Topic {}: {} \\n'.format(i, ' '.join(topic_words)))\n",
    "    f.close()\n",
    "\n",
    "    doc_topic = pd.DataFrame(model.doc_topic_)\n",
    "    doc_topic.to_csv(output+\"_doc_topic.csv\")"
   ],
   "metadata": {
    "collapsed": false,
    "pycharm": {
     "name": "#%%\n"
    }
   }
  },
  {
   "cell_type": "code",
   "execution_count": 9,
   "outputs": [
    {
     "name": "stderr",
     "output_type": "stream",
     "text": [
      "C:\\Users\\zhipe\\Anaconda3\\envs\\glda\\lib\\site-packages\\ipykernel\\ipkernel.py:287: DeprecationWarning: `should_run_async` will not call `transform_cell` automatically in the future. Please pass the result to `transformed_cell` argument and any exception that happen during thetransform in `preprocessing_exc_tuple` in IPython 7.17 and above.\n",
      "  and should_run_async(code)\n",
      "INFO:lda:n_documents: 1009\n",
      "INFO:lda:vocab_size: 8342\n",
      "INFO:lda:n_words: 64214\n",
      "INFO:lda:n_topics: 8\n",
      "INFO:lda:n_iter: 1000\n",
      "WARNING:lda:all zero row in document-term matrix found\n",
      "WARNING:lda:all zero column in document-term matrix found\n",
      "INFO:lda:<0> log likelihood: -679531\n",
      "INFO:lda:<20> log likelihood: -491894\n",
      "INFO:lda:<40> log likelihood: -480335\n",
      "INFO:lda:<60> log likelihood: -474530\n",
      "INFO:lda:<80> log likelihood: -472094\n",
      "INFO:lda:<100> log likelihood: -470101\n",
      "INFO:lda:<120> log likelihood: -467892\n",
      "INFO:lda:<140> log likelihood: -466022\n",
      "INFO:lda:<160> log likelihood: -464709\n",
      "INFO:lda:<180> log likelihood: -464565\n",
      "INFO:lda:<200> log likelihood: -464209\n",
      "INFO:lda:<220> log likelihood: -463859\n",
      "INFO:lda:<240> log likelihood: -463305\n",
      "INFO:lda:<260> log likelihood: -463081\n",
      "INFO:lda:<280> log likelihood: -463174\n",
      "INFO:lda:<300> log likelihood: -463015\n",
      "INFO:lda:<320> log likelihood: -462875\n",
      "INFO:lda:<340> log likelihood: -462611\n",
      "INFO:lda:<360> log likelihood: -462247\n",
      "INFO:lda:<380> log likelihood: -461893\n",
      "INFO:lda:<400> log likelihood: -462119\n",
      "INFO:lda:<420> log likelihood: -461717\n",
      "INFO:lda:<440> log likelihood: -461796\n",
      "INFO:lda:<460> log likelihood: -461751\n",
      "INFO:lda:<480> log likelihood: -461529\n",
      "INFO:lda:<500> log likelihood: -461529\n",
      "INFO:lda:<520> log likelihood: -461550\n",
      "INFO:lda:<540> log likelihood: -461284\n",
      "INFO:lda:<560> log likelihood: -461105\n",
      "INFO:lda:<580> log likelihood: -461438\n",
      "INFO:lda:<600> log likelihood: -461002\n",
      "INFO:lda:<620> log likelihood: -461382\n",
      "INFO:lda:<640> log likelihood: -461121\n",
      "INFO:lda:<660> log likelihood: -460819\n",
      "INFO:lda:<680> log likelihood: -460919\n",
      "INFO:lda:<700> log likelihood: -461144\n",
      "INFO:lda:<720> log likelihood: -461019\n",
      "INFO:lda:<740> log likelihood: -461225\n",
      "INFO:lda:<760> log likelihood: -460885\n",
      "INFO:lda:<780> log likelihood: -460983\n",
      "INFO:lda:<800> log likelihood: -460931\n",
      "INFO:lda:<820> log likelihood: -460831\n",
      "INFO:lda:<840> log likelihood: -460721\n",
      "INFO:lda:<860> log likelihood: -461016\n",
      "INFO:lda:<880> log likelihood: -460954\n",
      "INFO:lda:<900> log likelihood: -461005\n",
      "INFO:lda:<920> log likelihood: -461116\n",
      "INFO:lda:<940> log likelihood: -460962\n",
      "INFO:lda:<960> log likelihood: -460846\n",
      "INFO:lda:<980> log likelihood: -461054\n",
      "INFO:lda:<999> log likelihood: -461099\n"
     ]
    }
   ],
   "source": [
    "# LDA for course description\n",
    "data[\"description\"].fillna(\" \", inplace=True)\n",
    "docs = data[\"description\"].to_list()\n",
    "# print(len(docs), \"course descriptions are collected.\")\n",
    "\n",
    "text_lists = [preprocess_sent(text) for text in docs]\n",
    "token_lists = [preprocess_word(text) for text in text_lists]\n",
    "lda_process(token_lists,\"description\")"
   ],
   "metadata": {
    "collapsed": false,
    "pycharm": {
     "name": "#%%\n"
    }
   }
  },
  {
   "cell_type": "code",
   "execution_count": 10,
   "outputs": [
    {
     "name": "stderr",
     "output_type": "stream",
     "text": [
      "C:\\Users\\zhipe\\Anaconda3\\envs\\glda\\lib\\site-packages\\ipykernel\\ipkernel.py:287: DeprecationWarning: `should_run_async` will not call `transform_cell` automatically in the future. Please pass the result to `transformed_cell` argument and any exception that happen during thetransform in `preprocessing_exc_tuple` in IPython 7.17 and above.\n",
      "  and should_run_async(code)\n",
      "INFO:lda:n_documents: 1009\n",
      "INFO:lda:vocab_size: 3771\n",
      "INFO:lda:n_words: 26981\n",
      "INFO:lda:n_topics: 8\n",
      "INFO:lda:n_iter: 1000\n",
      "WARNING:lda:all zero row in document-term matrix found\n",
      "WARNING:lda:all zero column in document-term matrix found\n",
      "INFO:lda:<0> log likelihood: -291102\n",
      "INFO:lda:<20> log likelihood: -195083\n",
      "INFO:lda:<40> log likelihood: -190382\n",
      "INFO:lda:<60> log likelihood: -187529\n",
      "INFO:lda:<80> log likelihood: -186241\n",
      "INFO:lda:<100> log likelihood: -185322\n",
      "INFO:lda:<120> log likelihood: -185030\n",
      "INFO:lda:<140> log likelihood: -184731\n",
      "INFO:lda:<160> log likelihood: -184347\n",
      "INFO:lda:<180> log likelihood: -183883\n",
      "INFO:lda:<200> log likelihood: -183709\n",
      "INFO:lda:<220> log likelihood: -183494\n",
      "INFO:lda:<240> log likelihood: -183301\n",
      "INFO:lda:<260> log likelihood: -183270\n",
      "INFO:lda:<280> log likelihood: -183120\n",
      "INFO:lda:<300> log likelihood: -182921\n",
      "INFO:lda:<320> log likelihood: -182863\n",
      "INFO:lda:<340> log likelihood: -182844\n",
      "INFO:lda:<360> log likelihood: -182735\n",
      "INFO:lda:<380> log likelihood: -182694\n",
      "INFO:lda:<400> log likelihood: -182608\n",
      "INFO:lda:<420> log likelihood: -182743\n",
      "INFO:lda:<440> log likelihood: -182511\n",
      "INFO:lda:<460> log likelihood: -182640\n",
      "INFO:lda:<480> log likelihood: -182464\n",
      "INFO:lda:<500> log likelihood: -182440\n",
      "INFO:lda:<520> log likelihood: -182314\n",
      "INFO:lda:<540> log likelihood: -182344\n",
      "INFO:lda:<560> log likelihood: -182439\n",
      "INFO:lda:<580> log likelihood: -182322\n",
      "INFO:lda:<600> log likelihood: -182371\n",
      "INFO:lda:<620> log likelihood: -182029\n",
      "INFO:lda:<640> log likelihood: -182231\n",
      "INFO:lda:<660> log likelihood: -181993\n",
      "INFO:lda:<680> log likelihood: -182085\n",
      "INFO:lda:<700> log likelihood: -181885\n",
      "INFO:lda:<720> log likelihood: -181965\n",
      "INFO:lda:<740> log likelihood: -181740\n",
      "INFO:lda:<760> log likelihood: -182002\n",
      "INFO:lda:<780> log likelihood: -181823\n",
      "INFO:lda:<800> log likelihood: -181952\n",
      "INFO:lda:<820> log likelihood: -181857\n",
      "INFO:lda:<840> log likelihood: -181824\n",
      "INFO:lda:<860> log likelihood: -181954\n",
      "INFO:lda:<880> log likelihood: -181832\n",
      "INFO:lda:<900> log likelihood: -181783\n",
      "INFO:lda:<920> log likelihood: -181869\n",
      "INFO:lda:<940> log likelihood: -181911\n",
      "INFO:lda:<960> log likelihood: -181720\n",
      "INFO:lda:<980> log likelihood: -181985\n",
      "INFO:lda:<999> log likelihood: -181851\n"
     ]
    }
   ],
   "source": [
    "# LDA for instructor information\n",
    "data[\"instructor_info\"].fillna(\" \", inplace=True)\n",
    "docs = data[\"instructor_info\"].to_list()\n",
    "\n",
    "text_lists = [preprocess_sent(text) for text in docs]\n",
    "token_lists = [preprocess_word(text) for text in text_lists]\n",
    "lda_process(token_lists,\"instructor_info\")\n"
   ],
   "metadata": {
    "collapsed": false,
    "pycharm": {
     "name": "#%%\n"
    }
   }
  },
  {
   "cell_type": "code",
   "execution_count": 38,
   "outputs": [
    {
     "name": "stderr",
     "output_type": "stream",
     "text": [
      "C:\\Users\\zhipe\\Anaconda3\\envs\\glda\\lib\\site-packages\\ipykernel\\ipkernel.py:287: DeprecationWarning: `should_run_async` will not call `transform_cell` automatically in the future. Please pass the result to `transformed_cell` argument and any exception that happen during thetransform in `preprocessing_exc_tuple` in IPython 7.17 and above.\n",
      "  and should_run_async(code)\n"
     ]
    }
   ],
   "source": [
    "def glda_process(token_lists,seed_topic_list,output):\n",
    "    \"\"\"\n",
    "    # guided lda\n",
    "    :param token_lists:\n",
    "    :return:\n",
    "    \"\"\"\n",
    "    text_lists_clean = [ \" \".join(tl) for tl in token_lists ]\n",
    "    vocab=list(set(word_tokenize(\" \".join(text_lists_clean))))\n",
    "    vectorizer = CountVectorizer(ngram_range=(1,1),vocabulary=vocab)\n",
    "    X = vectorizer.fit_transform(text_lists_clean)\n",
    "    word2id = dict((v, idx) for idx, v in enumerate(vocab))\n",
    "    # from lda import glda_datasets as gldad\n",
    "    model = glda.GuidedLDA(n_topics=20, n_iter=1000, random_state=7, refresh=20)\n",
    "\n",
    "    seed_topics = {}\n",
    "    for t_id, st in enumerate(seed_topic_list):\n",
    "        for word in st:\n",
    "            seed_topics[word2id[word]] = t_id\n",
    "    model.fit(X, seed_topics=seed_topics, seed_confidence=100)\n",
    "    topic_word = model.topic_word_\n",
    "    n_top_words = 8\n",
    "    f = codecs.open(output+\"_topic_guidedlda.txt\", \"w\", \"utf-8\")\n",
    "    for i, topic_dist in enumerate(topic_word):\n",
    "        topic_words = np.array(vocab)[np.argsort(topic_dist)][:-(n_top_words+1):-1]\n",
    "        f.write('Topic {}: {} \\n'.format(i, ' '.join(topic_words)))\n",
    "    f.close()\n",
    "\n",
    "    doc_topic = pd.DataFrame(model.doc_topic_)\n",
    "    doc_topic.to_csv(output+\"_doc_topic_guidedlda.csv\")"
   ],
   "metadata": {
    "collapsed": false,
    "pycharm": {
     "name": "#%%\n"
    }
   }
  },
  {
   "cell_type": "code",
   "execution_count": 12,
   "outputs": [
    {
     "name": "stderr",
     "output_type": "stream",
     "text": [
      "C:\\Users\\zhipe\\Anaconda3\\envs\\glda\\lib\\site-packages\\ipykernel\\ipkernel.py:287: DeprecationWarning: `should_run_async` will not call `transform_cell` automatically in the future. Please pass the result to `transformed_cell` argument and any exception that happen during thetransform in `preprocessing_exc_tuple` in IPython 7.17 and above.\n",
      "  and should_run_async(code)\n",
      "INFO:lda:n_documents: 8720\n",
      "INFO:lda:vocab_size: 9882\n",
      "INFO:lda:n_words: 53278\n",
      "INFO:lda:n_topics: 8\n",
      "INFO:lda:n_iter: 1000\n",
      "WARNING:lda:all zero row in document-term matrix found\n",
      "WARNING:lda:all zero column in document-term matrix found\n",
      "INFO:lda:<0> log likelihood: -679557\n",
      "INFO:lda:<20> log likelihood: -436790\n",
      "INFO:lda:<40> log likelihood: -415952\n",
      "INFO:lda:<60> log likelihood: -411472\n",
      "INFO:lda:<80> log likelihood: -408671\n",
      "INFO:lda:<100> log likelihood: -407387\n",
      "INFO:lda:<120> log likelihood: -407135\n",
      "INFO:lda:<140> log likelihood: -407075\n",
      "INFO:lda:<160> log likelihood: -406566\n",
      "INFO:lda:<180> log likelihood: -406523\n",
      "INFO:lda:<200> log likelihood: -406434\n",
      "INFO:lda:<220> log likelihood: -406101\n",
      "INFO:lda:<240> log likelihood: -406026\n",
      "INFO:lda:<260> log likelihood: -405912\n",
      "INFO:lda:<280> log likelihood: -405702\n",
      "INFO:lda:<300> log likelihood: -405883\n",
      "INFO:lda:<320> log likelihood: -405700\n",
      "INFO:lda:<340> log likelihood: -405622\n",
      "INFO:lda:<360> log likelihood: -405224\n",
      "INFO:lda:<380> log likelihood: -405215\n",
      "INFO:lda:<400> log likelihood: -405120\n",
      "INFO:lda:<420> log likelihood: -405224\n",
      "INFO:lda:<440> log likelihood: -405417\n",
      "INFO:lda:<460> log likelihood: -405000\n",
      "INFO:lda:<480> log likelihood: -404957\n",
      "INFO:lda:<500> log likelihood: -405241\n",
      "INFO:lda:<520> log likelihood: -405043\n",
      "INFO:lda:<540> log likelihood: -404808\n",
      "INFO:lda:<560> log likelihood: -404994\n",
      "INFO:lda:<580> log likelihood: -405047\n",
      "INFO:lda:<600> log likelihood: -404731\n",
      "INFO:lda:<620> log likelihood: -405057\n",
      "INFO:lda:<640> log likelihood: -404927\n",
      "INFO:lda:<660> log likelihood: -404572\n",
      "INFO:lda:<680> log likelihood: -404807\n",
      "INFO:lda:<700> log likelihood: -404692\n",
      "INFO:lda:<720> log likelihood: -404805\n",
      "INFO:lda:<740> log likelihood: -404734\n",
      "INFO:lda:<760> log likelihood: -404551\n",
      "INFO:lda:<780> log likelihood: -404451\n",
      "INFO:lda:<800> log likelihood: -404304\n",
      "INFO:lda:<820> log likelihood: -404562\n",
      "INFO:lda:<840> log likelihood: -404592\n",
      "INFO:lda:<860> log likelihood: -404457\n",
      "INFO:lda:<880> log likelihood: -404471\n",
      "INFO:lda:<900> log likelihood: -404570\n",
      "INFO:lda:<920> log likelihood: -404274\n",
      "INFO:lda:<940> log likelihood: -404512\n",
      "INFO:lda:<960> log likelihood: -404194\n",
      "INFO:lda:<980> log likelihood: -404309\n",
      "INFO:lda:<999> log likelihood: -404402\n"
     ]
    }
   ],
   "source": [
    "# LDA for review_pd\n",
    "review_pd[\"review_text\"].fillna(\" \", inplace=True)\n",
    "docs = review_pd[\"review_text\"].to_list()\n",
    "\n",
    "text_lists = [preprocess_sent(text) for text in docs]\n",
    "token_lists = [preprocess_word(text) for text in text_lists]\n",
    "lda_process(token_lists,\"review\")"
   ],
   "metadata": {
    "collapsed": false,
    "pycharm": {
     "name": "#%%\n"
    }
   }
  },
  {
   "cell_type": "code",
   "execution_count": 39,
   "outputs": [
    {
     "name": "stderr",
     "output_type": "stream",
     "text": [
      "C:\\Users\\zhipe\\Anaconda3\\envs\\glda\\lib\\site-packages\\ipykernel\\ipkernel.py:287: DeprecationWarning: `should_run_async` will not call `transform_cell` automatically in the future. Please pass the result to `transformed_cell` argument and any exception that happen during thetransform in `preprocessing_exc_tuple` in IPython 7.17 and above.\n",
      "  and should_run_async(code)\n",
      "INFO:lda:n_documents: 8724\n",
      "INFO:lda:vocab_size: 9883\n",
      "INFO:lda:n_words: 53295\n",
      "INFO:lda:n_topics: 20\n",
      "INFO:lda:n_iter: 1000\n",
      "WARNING:lda:all zero row in document-term matrix found\n",
      "WARNING:lda:all zero column in document-term matrix found\n",
      "INFO:lda:<0> log likelihood: -745381\n",
      "INFO:lda:<20> log likelihood: -435103\n",
      "INFO:lda:<40> log likelihood: -420962\n",
      "INFO:lda:<60> log likelihood: -416393\n",
      "INFO:lda:<80> log likelihood: -414301\n",
      "INFO:lda:<100> log likelihood: -413365\n",
      "INFO:lda:<120> log likelihood: -412423\n",
      "INFO:lda:<140> log likelihood: -411643\n",
      "INFO:lda:<160> log likelihood: -411416\n",
      "INFO:lda:<180> log likelihood: -411041\n",
      "INFO:lda:<200> log likelihood: -410721\n",
      "INFO:lda:<220> log likelihood: -410365\n",
      "INFO:lda:<240> log likelihood: -410190\n",
      "INFO:lda:<260> log likelihood: -410194\n",
      "INFO:lda:<280> log likelihood: -409854\n",
      "INFO:lda:<300> log likelihood: -409881\n",
      "INFO:lda:<320> log likelihood: -409681\n",
      "INFO:lda:<340> log likelihood: -409853\n",
      "INFO:lda:<360> log likelihood: -409538\n",
      "INFO:lda:<380> log likelihood: -409421\n",
      "INFO:lda:<400> log likelihood: -409295\n",
      "INFO:lda:<420> log likelihood: -409243\n",
      "INFO:lda:<440> log likelihood: -409191\n",
      "INFO:lda:<460> log likelihood: -409160\n",
      "INFO:lda:<480> log likelihood: -409221\n",
      "INFO:lda:<500> log likelihood: -409029\n",
      "INFO:lda:<520> log likelihood: -408891\n",
      "INFO:lda:<540> log likelihood: -408631\n",
      "INFO:lda:<560> log likelihood: -408501\n",
      "INFO:lda:<580> log likelihood: -408498\n",
      "INFO:lda:<600> log likelihood: -408649\n",
      "INFO:lda:<620> log likelihood: -408691\n",
      "INFO:lda:<640> log likelihood: -408593\n",
      "INFO:lda:<660> log likelihood: -408644\n",
      "INFO:lda:<680> log likelihood: -408610\n",
      "INFO:lda:<700> log likelihood: -408445\n",
      "INFO:lda:<720> log likelihood: -408012\n",
      "INFO:lda:<740> log likelihood: -408037\n",
      "INFO:lda:<760> log likelihood: -408297\n",
      "INFO:lda:<780> log likelihood: -408263\n",
      "INFO:lda:<800> log likelihood: -407941\n",
      "INFO:lda:<820> log likelihood: -408144\n",
      "INFO:lda:<840> log likelihood: -407886\n",
      "INFO:lda:<860> log likelihood: -407998\n",
      "INFO:lda:<880> log likelihood: -408118\n",
      "INFO:lda:<900> log likelihood: -407985\n",
      "INFO:lda:<920> log likelihood: -408143\n",
      "INFO:lda:<940> log likelihood: -408049\n",
      "INFO:lda:<960> log likelihood: -407425\n",
      "INFO:lda:<980> log likelihood: -408144\n",
      "INFO:lda:<999> log likelihood: -407861\n"
     ]
    }
   ],
   "source": [
    "review_pd[\"review_text\"].fillna(\" \", inplace=True)\n",
    "docs = review_pd[\"review_text\"].to_list()\n",
    "seed_topic_list = [['curiosity', 'interest', 'discover', 'enthusiastic', 'question'],\n",
    "                   ['knowledge', 'wisdom', 'job', 'skills', 'demand'],\n",
    "                   ['credit', 'certificate', 'completion'],\n",
    "                   ['truth', 'genuine', 'goal', 'effort', 'challenge', 'time']]\n",
    "\n",
    "add_texts = [\" \".join(l)  for l in seed_topic_list]\n",
    "docs.extend(add_texts)\n",
    "text_lists = [preprocess_sent(text) for text in docs]\n",
    "token_lists = [preprocess_word(text) for text in text_lists]\n",
    "seed_topic_list = token_lists[-4:]\n",
    "glda_process(token_lists,seed_topic_list,\"review\")"
   ],
   "metadata": {
    "collapsed": false,
    "pycharm": {
     "name": "#%%\n"
    }
   }
  },
  {
   "cell_type": "code",
   "execution_count": 37,
   "outputs": [
    {
     "name": "stderr",
     "output_type": "stream",
     "text": [
      "C:\\Users\\zhipe\\Anaconda3\\envs\\glda\\lib\\site-packages\\ipykernel\\ipkernel.py:287: DeprecationWarning: `should_run_async` will not call `transform_cell` automatically in the future. Please pass the result to `transformed_cell` argument and any exception that happen during thetransform in `preprocessing_exc_tuple` in IPython 7.17 and above.\n",
      "  and should_run_async(code)\n"
     ]
    },
    {
     "data": {
      "text/plain": "[['curios', 'interest', 'discov', 'question'],\n ['knowledg', 'wisdom', 'job', 'skill', 'demand'],\n ['credit', 'certif', 'complet'],\n ['truth', 'goal', 'effort', 'challeng', 'time']]"
     },
     "execution_count": 37,
     "metadata": {},
     "output_type": "execute_result"
    }
   ],
   "source": [
    "seed_topic_list"
   ],
   "metadata": {
    "collapsed": false,
    "pycharm": {
     "name": "#%%\n"
    }
   }
  },
  {
   "cell_type": "code",
   "execution_count": 15,
   "outputs": [
    {
     "name": "stderr",
     "output_type": "stream",
     "text": [
      "C:\\Users\\zhipe\\Anaconda3\\envs\\glda\\lib\\site-packages\\ipykernel\\ipkernel.py:287: DeprecationWarning: `should_run_async` will not call `transform_cell` automatically in the future. Please pass the result to `transformed_cell` argument and any exception that happen during thetransform in `preprocessing_exc_tuple` in IPython 7.17 and above.\n",
      "  and should_run_async(code)\n"
     ]
    }
   ],
   "source": [
    "data.drop(['id', 'description','instructor_info'], axis=1,inplace = True)\n",
    "data.to_csv(\"final_data.csv\")"
   ],
   "metadata": {
    "collapsed": false,
    "pycharm": {
     "name": "#%%\n"
    }
   }
  },
  {
   "cell_type": "code",
   "execution_count": null,
   "outputs": [],
   "source": [],
   "metadata": {
    "collapsed": false,
    "pycharm": {
     "name": "#%%\n"
    }
   }
  }
 ],
 "metadata": {
  "kernelspec": {
   "display_name": "Python 3",
   "language": "python",
   "name": "python3"
  },
  "language_info": {
   "codemirror_mode": {
    "name": "ipython",
    "version": 2
   },
   "file_extension": ".py",
   "mimetype": "text/x-python",
   "name": "python",
   "nbconvert_exporter": "python",
   "pygments_lexer": "ipython2",
   "version": "2.7.6"
  }
 },
 "nbformat": 4,
 "nbformat_minor": 0
}