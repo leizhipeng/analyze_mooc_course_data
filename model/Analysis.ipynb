{
 "cells": [
  {
   "cell_type": "markdown",
   "metadata": {
    "collapsed": true,
    "pycharm": {
     "name": "#%% md\n"
    }
   },
   "source": [
    "# How Do We Design a Good Online Course for Business Analytics\n",
    "***\n",
    "* What are the features of Business Analytics online course?\n",
    "* How are the course content introduced?\n",
    "* How are the instructor introduced?\n",
    "* What are the factors impacting the enrollments of the Business Analytics online course?"
   ]
  },
  {
   "cell_type": "code",
   "execution_count": 1,
   "outputs": [],
   "source": [
    "import numpy as np\n",
    "import pandas as pd\n",
    "import math\n",
    "import matplotlib.pyplot as plt\n",
    "from sklearn.preprocessing import LabelEncoder, MinMaxScaler, StandardScaler\n",
    "%matplotlib inline"
   ],
   "metadata": {
    "collapsed": false,
    "pycharm": {
     "name": "#%%\n"
    }
   }
  },
  {
   "cell_type": "code",
   "execution_count": 2,
   "outputs": [
    {
     "data": {
      "text/plain": "   price  original_price  lectures  hours       level  enrollment  rating  \\\n0  25.99          179.99        83    9.0  All Levels    342288.0     4.7   \n1  16.99          124.99        82    9.0  All Levels    231631.0     4.6   \n2  12.99           94.99       275   23.5    Beginner    148077.0     4.6   \n3  19.99          139.99       117   11.0  All Levels    109303.0     4.6   \n4  12.99           94.99       413   20.5  All Levels    136869.0     4.5   \n\n   num_ratings  five_stars  four_stars  three_stars  two_stars  \\\n0      91772.0        0.60        0.33         0.06       0.01   \n1      61533.0        0.60        0.33         0.06       0.01   \n2      43339.0        0.54        0.38         0.07       0.01   \n3      30899.0        0.61        0.33         0.06       0.01   \n4      28595.0        0.52        0.37         0.10       0.01   \n\n   downloadable_resources  instructor_no_courses  descr_LDA_0  descr_LDA_1  \\\n0                    14.0                   31.0     0.034318     0.950584   \n1                     6.0                   48.0     0.078587     0.907617   \n2                    26.0                   35.0     0.986360     0.000000   \n3                    14.0                    3.0     0.036034     0.180143   \n4                   151.0                   68.0     0.436678     0.136041   \n\n   descr_LDA_2  descr_LDA_3  descr_LDA_4  descr_LDA_5  descr_LDA_6  \\\n0     0.000000     0.000000          0.0          0.0          0.0   \n1     0.000000     0.000000          0.0          0.0          0.0   \n2     0.000000     0.000000          0.0          0.0          0.0   \n3     0.774481     0.000000          0.0          0.0          0.0   \n4     0.194326     0.224129          0.0          0.0          0.0   \n\n   descr_LDA_7  descr_LDA_8  descr_LDA_9  instr_LDA_0  instr_LDA_1  \\\n0          0.0          0.0          0.0     0.140185     0.703021   \n1          0.0          0.0          0.0     0.943746     0.000000   \n2          0.0          0.0          0.0     0.130506     0.834705   \n3          0.0          0.0          0.0     0.233460     0.740728   \n4          0.0          0.0          0.0     0.978047     0.000000   \n\n   instr_LDA_2  instr_LDA_3  instr_LDA_4  instr_LDA_5  instr_LDA_6  \\\n0     0.073783     0.071684          0.0          0.0          0.0   \n1     0.000000     0.000000          0.0          0.0          0.0   \n2     0.000000     0.000000          0.0          0.0          0.0   \n3     0.000000     0.000000          0.0          0.0          0.0   \n4     0.000000     0.000000          0.0          0.0          0.0   \n\n   instr_LDA_7  instr_LDA_8  instr_LDA_9  \n0          0.0          0.0          0.0  \n1          0.0          0.0          0.0  \n2          0.0          0.0          0.0  \n3          0.0          0.0          0.0  \n4          0.0          0.0          0.0  ",
      "text/html": "<div>\n<style scoped>\n    .dataframe tbody tr th:only-of-type {\n        vertical-align: middle;\n    }\n\n    .dataframe tbody tr th {\n        vertical-align: top;\n    }\n\n    .dataframe thead th {\n        text-align: right;\n    }\n</style>\n<table border=\"1\" class=\"dataframe\">\n  <thead>\n    <tr style=\"text-align: right;\">\n      <th></th>\n      <th>price</th>\n      <th>original_price</th>\n      <th>lectures</th>\n      <th>hours</th>\n      <th>level</th>\n      <th>enrollment</th>\n      <th>rating</th>\n      <th>num_ratings</th>\n      <th>five_stars</th>\n      <th>four_stars</th>\n      <th>three_stars</th>\n      <th>two_stars</th>\n      <th>downloadable_resources</th>\n      <th>instructor_no_courses</th>\n      <th>descr_LDA_0</th>\n      <th>descr_LDA_1</th>\n      <th>descr_LDA_2</th>\n      <th>descr_LDA_3</th>\n      <th>descr_LDA_4</th>\n      <th>descr_LDA_5</th>\n      <th>descr_LDA_6</th>\n      <th>descr_LDA_7</th>\n      <th>descr_LDA_8</th>\n      <th>descr_LDA_9</th>\n      <th>instr_LDA_0</th>\n      <th>instr_LDA_1</th>\n      <th>instr_LDA_2</th>\n      <th>instr_LDA_3</th>\n      <th>instr_LDA_4</th>\n      <th>instr_LDA_5</th>\n      <th>instr_LDA_6</th>\n      <th>instr_LDA_7</th>\n      <th>instr_LDA_8</th>\n      <th>instr_LDA_9</th>\n    </tr>\n  </thead>\n  <tbody>\n    <tr>\n      <th>0</th>\n      <td>25.99</td>\n      <td>179.99</td>\n      <td>83</td>\n      <td>9.0</td>\n      <td>All Levels</td>\n      <td>342288.0</td>\n      <td>4.7</td>\n      <td>91772.0</td>\n      <td>0.60</td>\n      <td>0.33</td>\n      <td>0.06</td>\n      <td>0.01</td>\n      <td>14.0</td>\n      <td>31.0</td>\n      <td>0.034318</td>\n      <td>0.950584</td>\n      <td>0.000000</td>\n      <td>0.000000</td>\n      <td>0.0</td>\n      <td>0.0</td>\n      <td>0.0</td>\n      <td>0.0</td>\n      <td>0.0</td>\n      <td>0.0</td>\n      <td>0.140185</td>\n      <td>0.703021</td>\n      <td>0.073783</td>\n      <td>0.071684</td>\n      <td>0.0</td>\n      <td>0.0</td>\n      <td>0.0</td>\n      <td>0.0</td>\n      <td>0.0</td>\n      <td>0.0</td>\n    </tr>\n    <tr>\n      <th>1</th>\n      <td>16.99</td>\n      <td>124.99</td>\n      <td>82</td>\n      <td>9.0</td>\n      <td>All Levels</td>\n      <td>231631.0</td>\n      <td>4.6</td>\n      <td>61533.0</td>\n      <td>0.60</td>\n      <td>0.33</td>\n      <td>0.06</td>\n      <td>0.01</td>\n      <td>6.0</td>\n      <td>48.0</td>\n      <td>0.078587</td>\n      <td>0.907617</td>\n      <td>0.000000</td>\n      <td>0.000000</td>\n      <td>0.0</td>\n      <td>0.0</td>\n      <td>0.0</td>\n      <td>0.0</td>\n      <td>0.0</td>\n      <td>0.0</td>\n      <td>0.943746</td>\n      <td>0.000000</td>\n      <td>0.000000</td>\n      <td>0.000000</td>\n      <td>0.0</td>\n      <td>0.0</td>\n      <td>0.0</td>\n      <td>0.0</td>\n      <td>0.0</td>\n      <td>0.0</td>\n    </tr>\n    <tr>\n      <th>2</th>\n      <td>12.99</td>\n      <td>94.99</td>\n      <td>275</td>\n      <td>23.5</td>\n      <td>Beginner</td>\n      <td>148077.0</td>\n      <td>4.6</td>\n      <td>43339.0</td>\n      <td>0.54</td>\n      <td>0.38</td>\n      <td>0.07</td>\n      <td>0.01</td>\n      <td>26.0</td>\n      <td>35.0</td>\n      <td>0.986360</td>\n      <td>0.000000</td>\n      <td>0.000000</td>\n      <td>0.000000</td>\n      <td>0.0</td>\n      <td>0.0</td>\n      <td>0.0</td>\n      <td>0.0</td>\n      <td>0.0</td>\n      <td>0.0</td>\n      <td>0.130506</td>\n      <td>0.834705</td>\n      <td>0.000000</td>\n      <td>0.000000</td>\n      <td>0.0</td>\n      <td>0.0</td>\n      <td>0.0</td>\n      <td>0.0</td>\n      <td>0.0</td>\n      <td>0.0</td>\n    </tr>\n    <tr>\n      <th>3</th>\n      <td>19.99</td>\n      <td>139.99</td>\n      <td>117</td>\n      <td>11.0</td>\n      <td>All Levels</td>\n      <td>109303.0</td>\n      <td>4.6</td>\n      <td>30899.0</td>\n      <td>0.61</td>\n      <td>0.33</td>\n      <td>0.06</td>\n      <td>0.01</td>\n      <td>14.0</td>\n      <td>3.0</td>\n      <td>0.036034</td>\n      <td>0.180143</td>\n      <td>0.774481</td>\n      <td>0.000000</td>\n      <td>0.0</td>\n      <td>0.0</td>\n      <td>0.0</td>\n      <td>0.0</td>\n      <td>0.0</td>\n      <td>0.0</td>\n      <td>0.233460</td>\n      <td>0.740728</td>\n      <td>0.000000</td>\n      <td>0.000000</td>\n      <td>0.0</td>\n      <td>0.0</td>\n      <td>0.0</td>\n      <td>0.0</td>\n      <td>0.0</td>\n      <td>0.0</td>\n    </tr>\n    <tr>\n      <th>4</th>\n      <td>12.99</td>\n      <td>94.99</td>\n      <td>413</td>\n      <td>20.5</td>\n      <td>All Levels</td>\n      <td>136869.0</td>\n      <td>4.5</td>\n      <td>28595.0</td>\n      <td>0.52</td>\n      <td>0.37</td>\n      <td>0.10</td>\n      <td>0.01</td>\n      <td>151.0</td>\n      <td>68.0</td>\n      <td>0.436678</td>\n      <td>0.136041</td>\n      <td>0.194326</td>\n      <td>0.224129</td>\n      <td>0.0</td>\n      <td>0.0</td>\n      <td>0.0</td>\n      <td>0.0</td>\n      <td>0.0</td>\n      <td>0.0</td>\n      <td>0.978047</td>\n      <td>0.000000</td>\n      <td>0.000000</td>\n      <td>0.000000</td>\n      <td>0.0</td>\n      <td>0.0</td>\n      <td>0.0</td>\n      <td>0.0</td>\n      <td>0.0</td>\n      <td>0.0</td>\n    </tr>\n  </tbody>\n</table>\n</div>"
     },
     "execution_count": 2,
     "metadata": {},
     "output_type": "execute_result"
    }
   ],
   "source": [
    "pd.options.display.max_columns = None\n",
    "data = pd.read_pickle(\"../ETL/data_final.pkl\")\n",
    "data.head()"
   ],
   "metadata": {
    "collapsed": false,
    "pycharm": {
     "name": "#%%\n"
    }
   }
  },
  {
   "cell_type": "code",
   "execution_count": 3,
   "outputs": [
    {
     "data": {
      "text/plain": "             price  original_price     lectures        hours     enrollment  \\\ncount  1005.000000     1005.000000  1005.000000  1005.000000    1005.000000   \nmean     15.971403       66.950507    52.036816     5.485572    5784.926368   \nstd      17.074501       38.322610    50.944052     5.888027   21278.709134   \nmin       0.000000        0.000000     5.000000     1.000000       0.000000   \n25%      12.990000       24.990000    22.000000     2.000000     101.000000   \n50%      12.990000       79.990000    37.000000     3.500000     663.000000   \n75%      13.990000       94.990000    64.000000     6.500000    3145.000000   \nmax     199.990000      199.990000   525.000000    67.500000  342288.000000   \n\n            rating   num_ratings   five_stars   four_stars  three_stars  \\\ncount  1005.000000   1005.000000  1005.000000  1005.000000  1005.000000   \nmean      4.071940    805.666667     0.420139     0.308716     0.138448   \nstd       0.849577   4410.404111     0.203599     0.159422     0.116401   \nmin       0.000000      0.000000     0.000000     0.000000     0.000000   \n25%       3.900000     17.000000     0.320000     0.250000     0.070000   \n50%       4.300000     64.000000     0.440000     0.330000     0.120000   \n75%       4.500000    277.000000     0.540000     0.390000     0.190000   \nmax       5.000000  91772.000000     1.000000     1.000000     1.000000   \n\n         two_stars  downloadable_resources  instructor_no_courses  \\\ncount  1005.000000             1005.000000            1005.000000   \nmean      0.038736                7.475622             102.334328   \nstd       0.072657               14.553126             339.187340   \nmin       0.000000                0.000000               0.000000   \n25%       0.000000                1.000000               2.000000   \n50%       0.020000                3.000000               7.000000   \n75%       0.050000                8.000000              24.000000   \nmax       1.000000              154.000000            1420.000000   \n\n       descr_LDA_0  descr_LDA_1  descr_LDA_2  descr_LDA_3  descr_LDA_4  \\\ncount  1005.000000  1005.000000  1005.000000  1005.000000  1005.000000   \nmean      0.518564     0.313582     0.095021     0.018787     0.006306   \nstd       0.365521     0.313047     0.193330     0.085440     0.048661   \nmin       0.010004     0.000000     0.000000     0.000000     0.000000   \n25%       0.160904     0.000000     0.000000     0.000000     0.000000   \n50%       0.482334     0.220140     0.000000     0.000000     0.000000   \n75%       0.967842     0.558224     0.066409     0.000000     0.000000   \nmax       0.995311     0.977247     0.915600     0.871914     0.819914   \n\n       descr_LDA_5  descr_LDA_6  descr_LDA_7  descr_LDA_8  descr_LDA_9  \\\ncount  1005.000000  1005.000000  1005.000000  1005.000000  1005.000000   \nmean      0.004120     0.003920     0.021706     0.002288     0.003109   \nstd       0.036304     0.039994     0.109733     0.016074     0.029978   \nmin       0.000000     0.000000     0.000000     0.000000     0.000000   \n25%       0.000000     0.000000     0.000000     0.000000     0.000000   \n50%       0.000000     0.000000     0.000000     0.000000     0.000000   \n75%       0.000000     0.000000     0.000000     0.000000     0.000000   \nmax       0.774944     0.819959     0.887470     0.423173     0.699913   \n\n       instr_LDA_0  instr_LDA_1  instr_LDA_2  instr_LDA_3  instr_LDA_4  \\\ncount  1005.000000  1005.000000  1005.000000  1005.000000  1005.000000   \nmean      0.726618     0.141167     0.041422     0.019147     0.007411   \nstd       0.336015     0.235873     0.116980     0.086771     0.046049   \nmin       0.011118     0.000000     0.000000     0.000000     0.000000   \n25%       0.439308     0.000000     0.000000     0.000000     0.000000   \n50%       0.957128     0.000000     0.000000     0.000000     0.000000   \n75%       0.969991     0.214471     0.000000     0.000000     0.000000   \nmax       0.992436     0.935048     0.773070     0.887480     0.871393   \n\n       instr_LDA_5  instr_LDA_6  instr_LDA_7  instr_LDA_8  instr_LDA_9  \ncount  1005.000000  1005.000000  1005.000000  1005.000000  1005.000000  \nmean      0.005788     0.006010     0.005528     0.010371     0.006542  \nstd       0.033199     0.032669     0.026474     0.059923     0.036541  \nmin       0.000000     0.000000     0.000000     0.000000     0.000000  \n25%       0.000000     0.000000     0.000000     0.000000     0.000000  \n50%       0.000000     0.000000     0.000000     0.000000     0.000000  \n75%       0.000000     0.000000     0.000000     0.000000     0.000000  \nmax       0.849961     0.628528     0.549750     0.549992     0.819829  ",
      "text/html": "<div>\n<style scoped>\n    .dataframe tbody tr th:only-of-type {\n        vertical-align: middle;\n    }\n\n    .dataframe tbody tr th {\n        vertical-align: top;\n    }\n\n    .dataframe thead th {\n        text-align: right;\n    }\n</style>\n<table border=\"1\" class=\"dataframe\">\n  <thead>\n    <tr style=\"text-align: right;\">\n      <th></th>\n      <th>price</th>\n      <th>original_price</th>\n      <th>lectures</th>\n      <th>hours</th>\n      <th>enrollment</th>\n      <th>rating</th>\n      <th>num_ratings</th>\n      <th>five_stars</th>\n      <th>four_stars</th>\n      <th>three_stars</th>\n      <th>two_stars</th>\n      <th>downloadable_resources</th>\n      <th>instructor_no_courses</th>\n      <th>descr_LDA_0</th>\n      <th>descr_LDA_1</th>\n      <th>descr_LDA_2</th>\n      <th>descr_LDA_3</th>\n      <th>descr_LDA_4</th>\n      <th>descr_LDA_5</th>\n      <th>descr_LDA_6</th>\n      <th>descr_LDA_7</th>\n      <th>descr_LDA_8</th>\n      <th>descr_LDA_9</th>\n      <th>instr_LDA_0</th>\n      <th>instr_LDA_1</th>\n      <th>instr_LDA_2</th>\n      <th>instr_LDA_3</th>\n      <th>instr_LDA_4</th>\n      <th>instr_LDA_5</th>\n      <th>instr_LDA_6</th>\n      <th>instr_LDA_7</th>\n      <th>instr_LDA_8</th>\n      <th>instr_LDA_9</th>\n    </tr>\n  </thead>\n  <tbody>\n    <tr>\n      <th>count</th>\n      <td>1005.000000</td>\n      <td>1005.000000</td>\n      <td>1005.000000</td>\n      <td>1005.000000</td>\n      <td>1005.000000</td>\n      <td>1005.000000</td>\n      <td>1005.000000</td>\n      <td>1005.000000</td>\n      <td>1005.000000</td>\n      <td>1005.000000</td>\n      <td>1005.000000</td>\n      <td>1005.000000</td>\n      <td>1005.000000</td>\n      <td>1005.000000</td>\n      <td>1005.000000</td>\n      <td>1005.000000</td>\n      <td>1005.000000</td>\n      <td>1005.000000</td>\n      <td>1005.000000</td>\n      <td>1005.000000</td>\n      <td>1005.000000</td>\n      <td>1005.000000</td>\n      <td>1005.000000</td>\n      <td>1005.000000</td>\n      <td>1005.000000</td>\n      <td>1005.000000</td>\n      <td>1005.000000</td>\n      <td>1005.000000</td>\n      <td>1005.000000</td>\n      <td>1005.000000</td>\n      <td>1005.000000</td>\n      <td>1005.000000</td>\n      <td>1005.000000</td>\n    </tr>\n    <tr>\n      <th>mean</th>\n      <td>15.971403</td>\n      <td>66.950507</td>\n      <td>52.036816</td>\n      <td>5.485572</td>\n      <td>5784.926368</td>\n      <td>4.071940</td>\n      <td>805.666667</td>\n      <td>0.420139</td>\n      <td>0.308716</td>\n      <td>0.138448</td>\n      <td>0.038736</td>\n      <td>7.475622</td>\n      <td>102.334328</td>\n      <td>0.518564</td>\n      <td>0.313582</td>\n      <td>0.095021</td>\n      <td>0.018787</td>\n      <td>0.006306</td>\n      <td>0.004120</td>\n      <td>0.003920</td>\n      <td>0.021706</td>\n      <td>0.002288</td>\n      <td>0.003109</td>\n      <td>0.726618</td>\n      <td>0.141167</td>\n      <td>0.041422</td>\n      <td>0.019147</td>\n      <td>0.007411</td>\n      <td>0.005788</td>\n      <td>0.006010</td>\n      <td>0.005528</td>\n      <td>0.010371</td>\n      <td>0.006542</td>\n    </tr>\n    <tr>\n      <th>std</th>\n      <td>17.074501</td>\n      <td>38.322610</td>\n      <td>50.944052</td>\n      <td>5.888027</td>\n      <td>21278.709134</td>\n      <td>0.849577</td>\n      <td>4410.404111</td>\n      <td>0.203599</td>\n      <td>0.159422</td>\n      <td>0.116401</td>\n      <td>0.072657</td>\n      <td>14.553126</td>\n      <td>339.187340</td>\n      <td>0.365521</td>\n      <td>0.313047</td>\n      <td>0.193330</td>\n      <td>0.085440</td>\n      <td>0.048661</td>\n      <td>0.036304</td>\n      <td>0.039994</td>\n      <td>0.109733</td>\n      <td>0.016074</td>\n      <td>0.029978</td>\n      <td>0.336015</td>\n      <td>0.235873</td>\n      <td>0.116980</td>\n      <td>0.086771</td>\n      <td>0.046049</td>\n      <td>0.033199</td>\n      <td>0.032669</td>\n      <td>0.026474</td>\n      <td>0.059923</td>\n      <td>0.036541</td>\n    </tr>\n    <tr>\n      <th>min</th>\n      <td>0.000000</td>\n      <td>0.000000</td>\n      <td>5.000000</td>\n      <td>1.000000</td>\n      <td>0.000000</td>\n      <td>0.000000</td>\n      <td>0.000000</td>\n      <td>0.000000</td>\n      <td>0.000000</td>\n      <td>0.000000</td>\n      <td>0.000000</td>\n      <td>0.000000</td>\n      <td>0.000000</td>\n      <td>0.010004</td>\n      <td>0.000000</td>\n      <td>0.000000</td>\n      <td>0.000000</td>\n      <td>0.000000</td>\n      <td>0.000000</td>\n      <td>0.000000</td>\n      <td>0.000000</td>\n      <td>0.000000</td>\n      <td>0.000000</td>\n      <td>0.011118</td>\n      <td>0.000000</td>\n      <td>0.000000</td>\n      <td>0.000000</td>\n      <td>0.000000</td>\n      <td>0.000000</td>\n      <td>0.000000</td>\n      <td>0.000000</td>\n      <td>0.000000</td>\n      <td>0.000000</td>\n    </tr>\n    <tr>\n      <th>25%</th>\n      <td>12.990000</td>\n      <td>24.990000</td>\n      <td>22.000000</td>\n      <td>2.000000</td>\n      <td>101.000000</td>\n      <td>3.900000</td>\n      <td>17.000000</td>\n      <td>0.320000</td>\n      <td>0.250000</td>\n      <td>0.070000</td>\n      <td>0.000000</td>\n      <td>1.000000</td>\n      <td>2.000000</td>\n      <td>0.160904</td>\n      <td>0.000000</td>\n      <td>0.000000</td>\n      <td>0.000000</td>\n      <td>0.000000</td>\n      <td>0.000000</td>\n      <td>0.000000</td>\n      <td>0.000000</td>\n      <td>0.000000</td>\n      <td>0.000000</td>\n      <td>0.439308</td>\n      <td>0.000000</td>\n      <td>0.000000</td>\n      <td>0.000000</td>\n      <td>0.000000</td>\n      <td>0.000000</td>\n      <td>0.000000</td>\n      <td>0.000000</td>\n      <td>0.000000</td>\n      <td>0.000000</td>\n    </tr>\n    <tr>\n      <th>50%</th>\n      <td>12.990000</td>\n      <td>79.990000</td>\n      <td>37.000000</td>\n      <td>3.500000</td>\n      <td>663.000000</td>\n      <td>4.300000</td>\n      <td>64.000000</td>\n      <td>0.440000</td>\n      <td>0.330000</td>\n      <td>0.120000</td>\n      <td>0.020000</td>\n      <td>3.000000</td>\n      <td>7.000000</td>\n      <td>0.482334</td>\n      <td>0.220140</td>\n      <td>0.000000</td>\n      <td>0.000000</td>\n      <td>0.000000</td>\n      <td>0.000000</td>\n      <td>0.000000</td>\n      <td>0.000000</td>\n      <td>0.000000</td>\n      <td>0.000000</td>\n      <td>0.957128</td>\n      <td>0.000000</td>\n      <td>0.000000</td>\n      <td>0.000000</td>\n      <td>0.000000</td>\n      <td>0.000000</td>\n      <td>0.000000</td>\n      <td>0.000000</td>\n      <td>0.000000</td>\n      <td>0.000000</td>\n    </tr>\n    <tr>\n      <th>75%</th>\n      <td>13.990000</td>\n      <td>94.990000</td>\n      <td>64.000000</td>\n      <td>6.500000</td>\n      <td>3145.000000</td>\n      <td>4.500000</td>\n      <td>277.000000</td>\n      <td>0.540000</td>\n      <td>0.390000</td>\n      <td>0.190000</td>\n      <td>0.050000</td>\n      <td>8.000000</td>\n      <td>24.000000</td>\n      <td>0.967842</td>\n      <td>0.558224</td>\n      <td>0.066409</td>\n      <td>0.000000</td>\n      <td>0.000000</td>\n      <td>0.000000</td>\n      <td>0.000000</td>\n      <td>0.000000</td>\n      <td>0.000000</td>\n      <td>0.000000</td>\n      <td>0.969991</td>\n      <td>0.214471</td>\n      <td>0.000000</td>\n      <td>0.000000</td>\n      <td>0.000000</td>\n      <td>0.000000</td>\n      <td>0.000000</td>\n      <td>0.000000</td>\n      <td>0.000000</td>\n      <td>0.000000</td>\n    </tr>\n    <tr>\n      <th>max</th>\n      <td>199.990000</td>\n      <td>199.990000</td>\n      <td>525.000000</td>\n      <td>67.500000</td>\n      <td>342288.000000</td>\n      <td>5.000000</td>\n      <td>91772.000000</td>\n      <td>1.000000</td>\n      <td>1.000000</td>\n      <td>1.000000</td>\n      <td>1.000000</td>\n      <td>154.000000</td>\n      <td>1420.000000</td>\n      <td>0.995311</td>\n      <td>0.977247</td>\n      <td>0.915600</td>\n      <td>0.871914</td>\n      <td>0.819914</td>\n      <td>0.774944</td>\n      <td>0.819959</td>\n      <td>0.887470</td>\n      <td>0.423173</td>\n      <td>0.699913</td>\n      <td>0.992436</td>\n      <td>0.935048</td>\n      <td>0.773070</td>\n      <td>0.887480</td>\n      <td>0.871393</td>\n      <td>0.849961</td>\n      <td>0.628528</td>\n      <td>0.549750</td>\n      <td>0.549992</td>\n      <td>0.819829</td>\n    </tr>\n  </tbody>\n</table>\n</div>"
     },
     "execution_count": 3,
     "metadata": {},
     "output_type": "execute_result"
    }
   ],
   "source": [
    "data.describe()\n"
   ],
   "metadata": {
    "collapsed": false,
    "pycharm": {
     "name": "#%%\n"
    }
   }
  },
  {
   "cell_type": "markdown",
   "source": [
    "* Define dependent variable and independent variables"
   ],
   "metadata": {
    "collapsed": false,
    "pycharm": {
     "name": "#%% md\n"
    }
   }
  },
  {
   "cell_type": "markdown",
   "source": [
    "## Data Exploration\n",
    "* Enrollment"
   ],
   "metadata": {
    "collapsed": false
   }
  },
  {
   "cell_type": "code",
   "execution_count": 4,
   "outputs": [
    {
     "data": {
      "text/plain": "Text(0.5, 0, 'Enrolloment')"
     },
     "execution_count": 4,
     "metadata": {},
     "output_type": "execute_result"
    },
    {
     "data": {
      "text/plain": "<Figure size 432x288 with 1 Axes>",
      "image/png": "[encoded data removed]"
     },
     "metadata": {
      "needs_background": "light"
     },
     "output_type": "display_data"
    }
   ],
   "source": [
    "plt.hist(data[\"enrollment\"],  bins=10)\n",
    "plt.ylabel(\"Number of courses\")\n",
    "plt.xlabel('Enrolloment')"
   ],
   "metadata": {
    "collapsed": false,
    "pycharm": {
     "name": "#%%\n"
    }
   }
  },
  {
   "cell_type": "code",
   "execution_count": 5,
   "outputs": [
    {
     "data": {
      "text/plain": "Text(0.5, 0, 'Enrollments (Log-transformed)')"
     },
     "execution_count": 5,
     "metadata": {},
     "output_type": "execute_result"
    },
    {
     "data": {
      "text/plain": "<Figure size 432x288 with 1 Axes>",
      "image/png": "[encoded data removed]"
     },
     "metadata": {
      "needs_background": "light"
     },
     "output_type": "display_data"
    }
   ],
   "source": [
    "data[\"enrollment\"] = data[\"enrollment\"].apply(lambda x: np.log(x+1))\n",
    "# enrollment_scaler = MinMaxScaler(feature_range=(-1, 1))\n",
    "# data[\"enrollment\"] = enrollment_scaler.fit_transform(data[\"enrollment\"].values.reshape(-1,1))\n",
    "plt.hist(data[\"enrollment\"], bins=10)\n",
    "plt.ylabel('Number of courses')\n",
    "plt.xlabel('Enrollments (Log-transformed)')"
   ],
   "metadata": {
    "collapsed": false,
    "pycharm": {
     "name": "#%%\n"
    }
   }
  },
  {
   "cell_type": "markdown",
   "source": [
    "* Price"
   ],
   "metadata": {
    "collapsed": false
   }
  },
  {
   "cell_type": "code",
   "execution_count": 6,
   "outputs": [
    {
     "data": {
      "text/plain": "(array([959.,  19.,   8.,   3.,   8.,   0.,   2.,   1.,   1.,   4.]),\n array([  0.   ,  19.999,  39.998,  59.997,  79.996,  99.995, 119.994,\n        139.993, 159.992, 179.991, 199.99 ]),\n <BarContainer object of 10 artists>)"
     },
     "execution_count": 6,
     "metadata": {},
     "output_type": "execute_result"
    },
    {
     "data": {
      "text/plain": "<Figure size 432x288 with 1 Axes>",
      "image/png": "[encoded data removed]"
     },
     "metadata": {
      "needs_background": "light"
     },
     "output_type": "display_data"
    }
   ],
   "source": [
    "plt.hist(data[\"price\"],  bins=10)"
   ],
   "metadata": {
    "collapsed": false,
    "pycharm": {
     "name": "#%%\n"
    }
   }
  },
  {
   "cell_type": "code",
   "execution_count": 7,
   "outputs": [
    {
     "data": {
      "text/plain": "(array([ 31.,   0.,   0.,   0., 687., 244.,  14.,  11.,  10.,   8.]),\n array([-1. , -0.8, -0.6, -0.4, -0.2,  0. ,  0.2,  0.4,  0.6,  0.8,  1. ]),\n <BarContainer object of 10 artists>)"
     },
     "execution_count": 7,
     "metadata": {},
     "output_type": "execute_result"
    },
    {
     "data": {
      "text/plain": "<Figure size 432x288 with 1 Axes>",
      "image/png": "[encoded data removed]"
     },
     "metadata": {
      "needs_background": "light"
     },
     "output_type": "display_data"
    }
   ],
   "source": [
    "data[\"price\"] = data[\"price\"].apply(lambda x: np.log(x+1))\n",
    "data[\"price\"] = MinMaxScaler(feature_range=(-1, 1)).fit_transform(data[\"price\"].values.reshape(-1,1))\n",
    "plt.hist(data[\"price\"], bins=10)"
   ],
   "metadata": {
    "collapsed": false,
    "pycharm": {
     "name": "#%%\n"
    }
   }
  },
  {
   "cell_type": "markdown",
   "source": [
    "* Original_price"
   ],
   "metadata": {
    "collapsed": false
   }
  },
  {
   "cell_type": "code",
   "execution_count": 8,
   "outputs": [
    {
     "data": {
      "text/plain": "(array([211., 143., 105.,  51., 375.,  73.,  37.,   4.,   2.,   4.]),\n array([  0.   ,  19.999,  39.998,  59.997,  79.996,  99.995, 119.994,\n        139.993, 159.992, 179.991, 199.99 ]),\n <BarContainer object of 10 artists>)"
     },
     "execution_count": 8,
     "metadata": {},
     "output_type": "execute_result"
    },
    {
     "data": {
      "text/plain": "<Figure size 432x288 with 1 Axes>",
      "image/png": "[encoded data removed]"
     },
     "metadata": {
      "needs_background": "light"
     },
     "output_type": "display_data"
    }
   ],
   "source": [
    "plt.hist(data[\"original_price\"],  bins=10)"
   ],
   "metadata": {
    "collapsed": false,
    "pycharm": {
     "name": "#%%\n"
    }
   }
  },
  {
   "cell_type": "code",
   "execution_count": 9,
   "outputs": [
    {
     "data": {
      "text/plain": "(array([ 31.,   0.,   0.,   0., 687., 244.,  14.,  11.,  10.,   8.]),\n array([-1. , -0.8, -0.6, -0.4, -0.2,  0. ,  0.2,  0.4,  0.6,  0.8,  1. ]),\n <BarContainer object of 10 artists>)"
     },
     "execution_count": 9,
     "metadata": {},
     "output_type": "execute_result"
    },
    {
     "data": {
      "text/plain": "<Figure size 432x288 with 1 Axes>",
      "image/png": "[encoded data removed]"
     },
     "metadata": {
      "needs_background": "light"
     },
     "output_type": "display_data"
    }
   ],
   "source": [
    "# data[\"original_price\"] = data[\"original_price\"].apply(lambda x: np.log(x+1))\n",
    "data[\"original_price\"] = MinMaxScaler(feature_range=(-1, 1)).fit_transform(data[\"original_price\"].values.reshape(-1,1))\n",
    "plt.hist(data[\"price\"], bins=10)"
   ],
   "metadata": {
    "collapsed": false,
    "pycharm": {
     "name": "#%%\n"
    }
   }
  },
  {
   "cell_type": "markdown",
   "source": [
    "* lectures"
   ],
   "metadata": {
    "collapsed": false,
    "pycharm": {
     "name": "#%% md\n"
    }
   }
  },
  {
   "cell_type": "code",
   "execution_count": 10,
   "outputs": [
    {
     "data": {
      "text/plain": "(array([701., 213.,  56.,  16.,   8.,   6.,   1.,   2.,   1.,   1.]),\n array([  5.,  57., 109., 161., 213., 265., 317., 369., 421., 473., 525.]),\n <BarContainer object of 10 artists>)"
     },
     "execution_count": 10,
     "metadata": {},
     "output_type": "execute_result"
    },
    {
     "data": {
      "text/plain": "<Figure size 432x288 with 1 Axes>",
      "image/png": "[encoded data removed]"
     },
     "metadata": {
      "needs_background": "light"
     },
     "output_type": "display_data"
    }
   ],
   "source": [
    "plt.hist(data[\"lectures\"],  bins=10)"
   ],
   "metadata": {
    "collapsed": false,
    "pycharm": {
     "name": "#%%\n"
    }
   }
  },
  {
   "cell_type": "code",
   "execution_count": 11,
   "outputs": [
    {
     "data": {
      "text/plain": "(array([ 31.,  73., 138., 211., 243., 160.,  95.,  35.,  14.,   5.]),\n array([-1. , -0.8, -0.6, -0.4, -0.2,  0. ,  0.2,  0.4,  0.6,  0.8,  1. ]),\n <BarContainer object of 10 artists>)"
     },
     "execution_count": 11,
     "metadata": {},
     "output_type": "execute_result"
    },
    {
     "data": {
      "text/plain": "<Figure size 432x288 with 1 Axes>",
      "image/png": "[encoded data removed]"
     },
     "metadata": {
      "needs_background": "light"
     },
     "output_type": "display_data"
    }
   ],
   "source": [
    "data[\"lectures\"] = data[\"lectures\"].apply(lambda x: np.log(x+1))\n",
    "data[\"lectures\"] = MinMaxScaler(feature_range=(-1, 1)).fit_transform(data[\"lectures\"].values.reshape(-1,1))\n",
    "plt.hist(data[\"lectures\"], bins=10)\n"
   ],
   "metadata": {
    "collapsed": false,
    "pycharm": {
     "name": "#%%\n"
    }
   }
  },
  {
   "cell_type": "markdown",
   "source": [
    "* hours"
   ],
   "metadata": {
    "collapsed": false
   }
  },
  {
   "cell_type": "code",
   "execution_count": 12,
   "outputs": [
    {
     "data": {
      "text/plain": "(array([802., 135.,  45.,  10.,   6.,   4.,   1.,   1.,   0.,   1.]),\n array([ 1.  ,  7.65, 14.3 , 20.95, 27.6 , 34.25, 40.9 , 47.55, 54.2 ,\n        60.85, 67.5 ]),\n <BarContainer object of 10 artists>)"
     },
     "execution_count": 12,
     "metadata": {},
     "output_type": "execute_result"
    },
    {
     "data": {
      "text/plain": "<Figure size 432x288 with 1 Axes>",
      "image/png": "[encoded data removed]"
     },
     "metadata": {
      "needs_background": "light"
     },
     "output_type": "display_data"
    }
   ],
   "source": [
    "plt.hist(data[\"hours\"],  bins=10)"
   ],
   "metadata": {
    "collapsed": false,
    "pycharm": {
     "name": "#%%\n"
    }
   }
  },
  {
   "cell_type": "code",
   "execution_count": 13,
   "outputs": [
    {
     "data": {
      "text/plain": "(array([193., 266., 156., 164., 115.,  55.,  37.,  12.,   5.,   2.]),\n array([-1.00000000e+00, -8.00000000e-01, -6.00000000e-01, -4.00000000e-01,\n        -2.00000000e-01, -1.11022302e-16,  2.00000000e-01,  4.00000000e-01,\n         6.00000000e-01,  8.00000000e-01,  1.00000000e+00]),\n <BarContainer object of 10 artists>)"
     },
     "execution_count": 13,
     "metadata": {},
     "output_type": "execute_result"
    },
    {
     "data": {
      "text/plain": "<Figure size 432x288 with 1 Axes>",
      "image/png": "[encoded data removed]"
     },
     "metadata": {
      "needs_background": "light"
     },
     "output_type": "display_data"
    }
   ],
   "source": [
    "data[\"hours\"] = data[\"hours\"].apply(lambda x: np.log(x+1))\n",
    "data[\"hours\"] = MinMaxScaler(feature_range=(-1, 1)).fit_transform(data[\"hours\"].values.reshape(-1,1))\n",
    "plt.hist(data[\"hours\"], bins=10)"
   ],
   "metadata": {
    "collapsed": false,
    "pycharm": {
     "name": "#%%\n"
    }
   }
  },
  {
   "cell_type": "markdown",
   "source": [
    "* rating"
   ],
   "metadata": {
    "collapsed": false
   }
  },
  {
   "cell_type": "code",
   "execution_count": 14,
   "outputs": [
    {
     "data": {
      "text/plain": "(array([ 30.,   0.,   0.,   3.,   2.,  18.,  43., 172., 417., 320.]),\n array([0. , 0.5, 1. , 1.5, 2. , 2.5, 3. , 3.5, 4. , 4.5, 5. ]),\n <BarContainer object of 10 artists>)"
     },
     "execution_count": 14,
     "metadata": {},
     "output_type": "execute_result"
    },
    {
     "data": {
      "text/plain": "<Figure size 432x288 with 1 Axes>",
      "image/png": "[encoded data removed]"
     },
     "metadata": {
      "needs_background": "light"
     },
     "output_type": "display_data"
    }
   ],
   "source": [
    "plt.hist(data[\"rating\"],  bins=10)"
   ],
   "metadata": {
    "collapsed": false,
    "pycharm": {
     "name": "#%%\n"
    }
   }
  },
  {
   "cell_type": "code",
   "execution_count": 15,
   "outputs": [
    {
     "data": {
      "text/plain": "(array([ 30.,   0.,   0.,   3.,   2.,  18.,  43., 172., 417., 320.]),\n array([-1. , -0.8, -0.6, -0.4, -0.2,  0. ,  0.2,  0.4,  0.6,  0.8,  1. ]),\n <BarContainer object of 10 artists>)"
     },
     "execution_count": 15,
     "metadata": {},
     "output_type": "execute_result"
    },
    {
     "data": {
      "text/plain": "<Figure size 432x288 with 1 Axes>",
      "image/png": "[encoded data removed]"
     },
     "metadata": {
      "needs_background": "light"
     },
     "output_type": "display_data"
    }
   ],
   "source": [
    "# data[\"rating\"] = data[\"rating\"].apply(lambda x: np.log(x+1))\n",
    "data[\"rating\"] = MinMaxScaler(feature_range=(-1, 1)).fit_transform(data[\"rating\"].values.reshape(-1,1))\n",
    "plt.hist(data[\"rating\"], bins=10)"
   ],
   "metadata": {
    "collapsed": false,
    "pycharm": {
     "name": "#%%\n"
    }
   }
  },
  {
   "cell_type": "markdown",
   "source": [
    "* downloadable_resources"
   ],
   "metadata": {
    "collapsed": false
   }
  },
  {
   "cell_type": "code",
   "execution_count": 16,
   "outputs": [
    {
     "data": {
      "text/plain": "(array([877.,  78.,  31.,   7.,   2.,   2.,   4.,   0.,   2.,   2.]),\n array([  0. ,  15.4,  30.8,  46.2,  61.6,  77. ,  92.4, 107.8, 123.2,\n        138.6, 154. ]),\n <BarContainer object of 10 artists>)"
     },
     "execution_count": 16,
     "metadata": {},
     "output_type": "execute_result"
    },
    {
     "data": {
      "text/plain": "<Figure size 432x288 with 1 Axes>",
      "image/png": "[encoded data removed]"
     },
     "metadata": {
      "needs_background": "light"
     },
     "output_type": "display_data"
    }
   ],
   "source": [
    "plt.hist(data[\"downloadable_resources\"],  bins=10)"
   ],
   "metadata": {
    "collapsed": false,
    "pycharm": {
     "name": "#%%\n"
    }
   }
  },
  {
   "cell_type": "code",
   "execution_count": 17,
   "outputs": [
    {
     "data": {
      "text/plain": "(array([155., 231., 179., 147., 102.,  94.,  61.,  24.,   4.,   8.]),\n array([-1. , -0.8, -0.6, -0.4, -0.2,  0. ,  0.2,  0.4,  0.6,  0.8,  1. ]),\n <BarContainer object of 10 artists>)"
     },
     "execution_count": 17,
     "metadata": {},
     "output_type": "execute_result"
    },
    {
     "data": {
      "text/plain": "<Figure size 432x288 with 1 Axes>",
      "image/png": "[encoded data removed]"
     },
     "metadata": {
      "needs_background": "light"
     },
     "output_type": "display_data"
    }
   ],
   "source": [
    "data[\"downloadable_resources\"] = data[\"downloadable_resources\"].apply(lambda x: np.log(x+1))\n",
    "data[\"downloadable_resources\"] = MinMaxScaler(feature_range=(-1, 1)).fit_transform(data[\"downloadable_resources\"].values.reshape(-1,1))\n",
    "plt.hist(data[\"downloadable_resources\"], bins=10)"
   ],
   "metadata": {
    "collapsed": false,
    "pycharm": {
     "name": "#%%\n"
    }
   }
  },
  {
   "cell_type": "markdown",
   "source": [
    "* instructor_no_courses"
   ],
   "metadata": {
    "collapsed": false
   }
  },
  {
   "cell_type": "code",
   "execution_count": 18,
   "outputs": [
    {
     "data": {
      "text/plain": "(array([937.,   1.,   5.,   0.,   0.,   0.,   0.,   0.,   0.,  62.]),\n array([   0.,  142.,  284.,  426.,  568.,  710.,  852.,  994., 1136.,\n        1278., 1420.]),\n <BarContainer object of 10 artists>)"
     },
     "execution_count": 18,
     "metadata": {},
     "output_type": "execute_result"
    },
    {
     "data": {
      "text/plain": "<Figure size 432x288 with 1 Axes>",
      "image/png": "[encoded data removed]"
     },
     "metadata": {
      "needs_background": "light"
     },
     "output_type": "display_data"
    }
   ],
   "source": [
    "plt.hist(data[\"instructor_no_courses\"],  bins=10)"
   ],
   "metadata": {
    "collapsed": false,
    "pycharm": {
     "name": "#%%\n"
    }
   }
  },
  {
   "cell_type": "code",
   "execution_count": 19,
   "outputs": [
    {
     "data": {
      "text/plain": "(array([192., 156., 188., 174., 117.,  93.,  17.,   6.,   0.,  62.]),\n array([-1. , -0.8, -0.6, -0.4, -0.2,  0. ,  0.2,  0.4,  0.6,  0.8,  1. ]),\n <BarContainer object of 10 artists>)"
     },
     "execution_count": 19,
     "metadata": {},
     "output_type": "execute_result"
    },
    {
     "data": {
      "text/plain": "<Figure size 432x288 with 1 Axes>",
      "image/png": "[encoded data removed]"
     },
     "metadata": {
      "needs_background": "light"
     },
     "output_type": "display_data"
    }
   ],
   "source": [
    "data[\"instructor_no_courses\"] = data[\"instructor_no_courses\"].apply(lambda x: np.log(x+1))\n",
    "data[\"instructor_no_courses\"] = MinMaxScaler(feature_range=(-1, 1)).fit_transform(data[\"instructor_no_courses\"].values.reshape(-1,1))\n",
    "plt.hist(data[\"instructor_no_courses\"], bins=10)"
   ],
   "metadata": {
    "collapsed": false,
    "pycharm": {
     "name": "#%%\n"
    }
   }
  },
  {
   "cell_type": "markdown",
   "source": [
    "* Process categorical data\n"
   ],
   "metadata": {
    "collapsed": false,
    "pycharm": {
     "name": "#%% md\n"
    }
   }
  },
  {
   "cell_type": "code",
   "execution_count": 20,
   "outputs": [],
   "source": [
    "dummy = pd.get_dummies(data[\"level\"])"
   ],
   "metadata": {
    "collapsed": false,
    "pycharm": {
     "name": "#%%\n"
    }
   }
  },
  {
   "cell_type": "code",
   "execution_count": 21,
   "outputs": [],
   "source": [
    "data = pd.concat([data,dummy],axis = 1)\n",
    "data.drop([\"level\"],axis = 1, inplace=True)\n"
   ],
   "metadata": {
    "collapsed": false,
    "pycharm": {
     "name": "#%%\n"
    }
   }
  },
  {
   "cell_type": "code",
   "execution_count": 22,
   "outputs": [],
   "source": [
    "y = data[\"enrollment\"]\n",
    "X = data.drop([\"enrollment\",\"num_ratings\"],axis = 1)"
   ],
   "metadata": {
    "collapsed": false,
    "pycharm": {
     "name": "#%%\n"
    }
   }
  },
  {
   "cell_type": "markdown",
   "source": [
    "## Regression Models"
   ],
   "metadata": {
    "collapsed": false,
    "pycharm": {
     "name": "#%% md\n"
    }
   }
  },
  {
   "cell_type": "code",
   "execution_count": 23,
   "outputs": [],
   "source": [
    "from sklearn.model_selection import train_test_split\n",
    "X_train, X_test, y_train, y_test = train_test_split(X, y, test_size=0.2, random_state=99)"
   ],
   "metadata": {
    "collapsed": false,
    "pycharm": {
     "name": "#%%\n"
    }
   }
  },
  {
   "cell_type": "markdown",
   "source": [
    "* A function to calculate Root Mean Squared Logarithmic Error (RMSLE)\n"
   ],
   "metadata": {
    "collapsed": false,
    "pycharm": {
     "name": "#%% md\n"
    }
   }
  },
  {
   "cell_type": "code",
   "execution_count": 24,
   "outputs": [],
   "source": [
    "def rmsle(y, y_pred):\n",
    "    assert len(y) == len(y_pred)\n",
    "    to_sum = [(math.log(y_pred[i] + 1) - math.log(y[i] + 1)) ** 2.0 for i,pred in enumerate(y_pred)]\n",
    "    return (sum(to_sum) * (1.0/len(y))) ** 0.5"
   ],
   "metadata": {
    "collapsed": false,
    "pycharm": {
     "name": "#%%\n"
    }
   }
  },
  {
   "cell_type": "markdown",
   "source": [
    "### Ridge Regression"
   ],
   "metadata": {
    "collapsed": false,
    "pycharm": {
     "name": "#%% md\n"
    }
   }
  },
  {
   "cell_type": "code",
   "execution_count": 25,
   "outputs": [
    {
     "data": {
      "text/plain": "Ridge(alpha=0.9, max_iter=1000, random_state=666, tol=1e-05)"
     },
     "execution_count": 25,
     "metadata": {},
     "output_type": "execute_result"
    }
   ],
   "source": [
    "from sklearn.linear_model import Ridge, Lasso\n",
    "model = Ridge(alpha=0.9, fit_intercept=True, max_iter=1000,\n",
    "   normalize=False, random_state=666, tol=0.00001)\n",
    "model.fit(X_train, y_train)"
   ],
   "metadata": {
    "collapsed": false,
    "pycharm": {
     "name": "#%%\n"
    }
   }
  },
  {
   "cell_type": "code",
   "execution_count": 26,
   "outputs": [
    {
     "name": "stdout",
     "output_type": "stream",
     "text": [
      "Ridge- RMSLE error on test dataset: 2.021496763033342\n"
     ]
    }
   ],
   "source": [
    "y_pred = model.predict(X=X_test)\n",
    "y_pred = np.expm1(y_pred)\n",
    "y_true = np.expm1(y_test)\n",
    "v_rmsle = rmsle(y_true.values, y_pred)\n",
    "print(\"Ridge- RMSLE error on test dataset: \"+str(v_rmsle))"
   ],
   "metadata": {
    "collapsed": false,
    "pycharm": {
     "name": "#%%\n"
    }
   }
  },
  {
   "cell_type": "markdown",
   "source": [
    "### Lasso Regression"
   ],
   "metadata": {
    "collapsed": false
   }
  },
  {
   "cell_type": "code",
   "execution_count": 27,
   "outputs": [
    {
     "data": {
      "text/plain": "Lasso(alpha=0.1, max_iter=10000, random_state=666, selection='random',\n      tol=1e-05)"
     },
     "execution_count": 27,
     "metadata": {},
     "output_type": "execute_result"
    }
   ],
   "source": [
    "from sklearn.linear_model import Ridge, Lasso\n",
    "model = Lasso(alpha=0.1, fit_intercept=True, max_iter=10000,\n",
    "   normalize=False, precompute=False, random_state=666,\n",
    "   selection='random', tol=0.00001)\n",
    "model.fit(X_train, y_train)"
   ],
   "metadata": {
    "collapsed": false,
    "pycharm": {
     "name": "#%%\n"
    }
   }
  },
  {
   "cell_type": "code",
   "execution_count": 28,
   "outputs": [
    {
     "name": "stdout",
     "output_type": "stream",
     "text": [
      "Lasso- RMSLE error on test dataset: 2.1557520099377787\n"
     ]
    }
   ],
   "source": [
    "y_pred = model.predict(X=X_test)\n",
    "y_pred = np.expm1(y_pred)\n",
    "y_true = np.expm1(y_test)\n",
    "v_rmsle = rmsle(y_true.values, y_pred)\n",
    "print(\"Lasso- RMSLE error on test dataset: \"+str(v_rmsle))"
   ],
   "metadata": {
    "collapsed": false,
    "pycharm": {
     "name": "#%%\n"
    }
   }
  },
  {
   "cell_type": "markdown",
   "source": [
    "### Decision Tree Regression"
   ],
   "metadata": {
    "collapsed": false
   }
  },
  {
   "cell_type": "code",
   "execution_count": 34,
   "outputs": [
    {
     "data": {
      "text/plain": "DecisionTreeRegressor(max_depth=4)"
     },
     "execution_count": 34,
     "metadata": {},
     "output_type": "execute_result"
    }
   ],
   "source": [
    "from sklearn.tree import DecisionTreeRegressor\n",
    "model = DecisionTreeRegressor(max_depth=4)\n",
    "model.fit(X_train, y_train)"
   ],
   "metadata": {
    "collapsed": false,
    "pycharm": {
     "name": "#%%\n"
    }
   }
  },
  {
   "cell_type": "code",
   "execution_count": 35,
   "outputs": [
    {
     "name": "stdout",
     "output_type": "stream",
     "text": [
      "Decision Tree Regression- RMSLE error on test dataset: 1.5875228458514534\n"
     ]
    }
   ],
   "source": [
    "y_pred = model.predict(X=X_test)\n",
    "y_pred = np.expm1(y_pred)\n",
    "y_true = np.expm1(y_test)\n",
    "v_rmsle = rmsle(y_true.values, y_pred)\n",
    "print(\"Decision Tree Regression- RMSLE error on test dataset: \"+str(v_rmsle))"
   ],
   "metadata": {
    "collapsed": false,
    "pycharm": {
     "name": "#%%\n"
    }
   }
  },
  {
   "cell_type": "code",
   "execution_count": 36,
   "outputs": [
    {
     "name": "stdout",
     "output_type": "stream",
     "text": [
      "price 0.0\n",
      "original_price 0.0\n",
      "lectures 0.029141031020865786\n",
      "hours 0.0\n",
      "rating 0.0\n",
      "five_stars 0.06699101518945245\n",
      "four_stars 0.006111870442173712\n",
      "three_stars 0.6356907963109855\n",
      "two_stars 0.22888016127689442\n",
      "downloadable_resources 0.005563376492538135\n",
      "instructor_no_courses 0.004834080150089627\n",
      "descr_LDA_0 0.0\n",
      "descr_LDA_1 0.00012595410699399616\n",
      "descr_LDA_2 0.001318428927052879\n",
      "descr_LDA_3 0.0\n",
      "descr_LDA_4 0.0\n",
      "descr_LDA_5 0.0\n",
      "descr_LDA_6 0.0\n",
      "descr_LDA_7 0.0\n",
      "descr_LDA_8 0.0\n",
      "descr_LDA_9 0.0\n",
      "instr_LDA_0 0.017114488277306418\n",
      "instr_LDA_1 0.0\n",
      "instr_LDA_2 0.0\n",
      "instr_LDA_3 0.0\n",
      "instr_LDA_4 0.0\n",
      "instr_LDA_5 0.0\n",
      "instr_LDA_6 0.0\n",
      "instr_LDA_7 0.0\n",
      "instr_LDA_8 0.004228797805647043\n",
      "instr_LDA_9 0.0\n",
      "All Levels 0.0\n",
      "Beginner 0.0\n",
      "Expert 0.0\n",
      "Intermediate 0.0\n"
     ]
    }
   ],
   "source": [
    "for feature, importance in zip(X.columns,model.feature_importances_):\n",
    "    print(feature, importance)"
   ],
   "metadata": {
    "collapsed": false,
    "pycharm": {
     "name": "#%%\n"
    }
   }
  },
  {
   "cell_type": "markdown",
   "source": [
    "***\n",
    "Discussion:\n",
    "* Among the three regressions used in this study, the decision tree regression model shows the high accuracy.\n",
    "* The variables that have importance in the regression are lectures, five_stars, four_stars, three_stars, two stars, downloadable_resources, instructor_no_courses, descr_LDA_1, descr_LDA_2, instr_LDA_0, and instr_LDA_8.\n",
    "* Key words of descr_LDA 1: custom, inform, descript, interview, market, requir, analyt, show, chain, insur\n",
    "* Key words of descr_LDA 2: curso, power, bi, descript, requir, show, dato, aprend, b, sico\n",
    "* Key words of instr_LDA_0: scienc, cours, univers, show, market, technolog, analyt, experi, team, year\n",
    "* Key words of instr_LDA_8: jeff, year, step, program, technolog, workforc, industri, null, analyt, time\n",
    "* The above four topics can be interpreted as: job market and customer, spanish, instructor in university, and many years of experience of instructor.   \n",
    "***"
   ],
   "metadata": {
    "collapsed": false,
    "pycharm": {
     "name": "#%% md\n"
    }
   }
  },
  {
   "cell_type": "markdown",
   "source": [
    "### OLS Regression\n",
    "* Use OLS model to check the impacts of independent variables on the dependent variable (enrollment number)."
   ],
   "metadata": {
    "collapsed": false,
    "pycharm": {
     "name": "#%% md\n"
    }
   }
  },
  {
   "cell_type": "code",
   "execution_count": 37,
   "outputs": [],
   "source": [
    "import statsmodels.api as sm"
   ],
   "metadata": {
    "collapsed": false,
    "pycharm": {
     "name": "#%%\n"
    }
   }
  },
  {
   "cell_type": "code",
   "execution_count": 38,
   "outputs": [],
   "source": [
    "mod = sm.OLS(y,X)\n",
    "fii = mod.fit()\n",
    "p_values = fii.summary2().tables[1]['P>|t|']"
   ],
   "metadata": {
    "collapsed": false,
    "pycharm": {
     "name": "#%%\n"
    }
   }
  },
  {
   "cell_type": "code",
   "execution_count": 40,
   "outputs": [
    {
     "name": "stdout",
     "output_type": "stream",
     "text": [
      "                                 OLS Regression Results                                \n",
      "=======================================================================================\n",
      "Dep. Variable:             enrollment   R-squared (uncentered):                   0.916\n",
      "Model:                            OLS   Adj. R-squared (uncentered):              0.913\n",
      "Method:                 Least Squares   F-statistic:                              302.8\n",
      "Date:                Fri, 26 Feb 2021   Prob (F-statistic):                        0.00\n",
      "Time:                        19:12:25   Log-Likelihood:                         -2100.1\n",
      "No. Observations:                1005   AIC:                                      4270.\n",
      "Df Residuals:                     970   BIC:                                      4442.\n",
      "Df Model:                          35                                                  \n",
      "Covariance Type:            nonrobust                                                  \n",
      "==========================================================================================\n",
      "                             coef    std err          t      P>|t|      [0.025      0.975]\n",
      "------------------------------------------------------------------------------------------\n",
      "price                      0.3253      0.447      0.728      0.467      -0.552       1.203\n",
      "original_price             0.7203      0.196      3.667      0.000       0.335       1.106\n",
      "lectures                   1.0378      0.322      3.225      0.001       0.406       1.669\n",
      "hours                      0.4318      0.304      1.422      0.155      -0.164       1.028\n",
      "rating                    -0.0630      0.424     -0.149      0.882      -0.894       0.768\n",
      "five_stars                 4.6049      0.833      5.529      0.000       2.971       6.239\n",
      "four_stars                 5.6287      0.746      7.545      0.000       4.165       7.093\n",
      "three_stars                4.1758      0.755      5.531      0.000       2.694       5.657\n",
      "two_stars                  2.9373      0.968      3.035      0.002       1.038       4.836\n",
      "downloadable_resources     0.4690      0.162      2.887      0.004       0.150       0.788\n",
      "instructor_no_courses     -0.0540      0.153     -0.352      0.725      -0.355       0.247\n",
      "descr_LDA_0               -1.3861      5.253     -0.264      0.792     -11.694       8.922\n",
      "descr_LDA_1               -1.3013      5.247     -0.248      0.804     -11.598       8.995\n",
      "descr_LDA_2               -1.1933      5.254     -0.227      0.820     -11.503       9.117\n",
      "descr_LDA_3               -0.9871      5.245     -0.188      0.851     -11.280       9.306\n",
      "descr_LDA_4               -1.7431      5.417     -0.322      0.748     -12.374       8.888\n",
      "descr_LDA_5                0.6868      5.990      0.115      0.909     -11.068      12.442\n",
      "descr_LDA_6               -1.8470      5.405     -0.342      0.733     -12.453       8.759\n",
      "descr_LDA_7               -0.8322      5.204     -0.160      0.873     -11.045       9.380\n",
      "descr_LDA_8               -6.7721      7.681     -0.882      0.378     -21.845       8.301\n",
      "descr_LDA_9               -1.8502      5.818     -0.318      0.751     -13.268       9.567\n",
      "instr_LDA_0                5.8226      5.082      1.146      0.252      -4.151      15.797\n",
      "instr_LDA_1                5.4793      5.058      1.083      0.279      -4.447      15.406\n",
      "instr_LDA_2                5.0639      5.052      1.002      0.316      -4.850      14.978\n",
      "instr_LDA_3                6.3189      4.950      1.276      0.202      -3.396      16.033\n",
      "instr_LDA_4                6.3052      5.148      1.225      0.221      -3.798      16.408\n",
      "instr_LDA_5                0.5951      5.170      0.115      0.908      -9.550      10.740\n",
      "instr_LDA_6                4.8494      5.248      0.924      0.356      -5.449      15.147\n",
      "instr_LDA_7                2.3840      7.084      0.337      0.737     -11.517      16.285\n",
      "instr_LDA_8                6.7312      5.108      1.318      0.188      -3.292      16.755\n",
      "instr_LDA_9                7.6769      5.541      1.386      0.166      -3.196      18.550\n",
      "All Levels                -1.3892      1.962     -0.708      0.479      -5.240       2.462\n",
      "Beginner                  -1.6165      1.962     -0.824      0.410      -5.467       2.234\n",
      "Expert                    -1.8671      2.018     -0.925      0.355      -5.827       2.092\n",
      "Intermediate              -1.7813      1.967     -0.905      0.365      -5.642       2.079\n",
      "==============================================================================\n",
      "Omnibus:                        2.208   Durbin-Watson:                   1.013\n",
      "Prob(Omnibus):                  0.332   Jarque-Bera (JB):                2.268\n",
      "Skew:                          -0.017   Prob(JB):                        0.322\n",
      "Kurtosis:                       3.230   Cond. No.                         585.\n",
      "==============================================================================\n",
      "\n",
      "Notes:\n",
      "[1] R² is computed without centering (uncentered) since the model does not contain a constant.\n",
      "[2] Standard Errors assume that the covariance matrix of the errors is correctly specified.\n"
     ]
    }
   ],
   "source": [
    "print(fii.summary())"
   ],
   "metadata": {
    "collapsed": false,
    "pycharm": {
     "name": "#%%\n"
    }
   }
  },
  {
   "cell_type": "markdown",
   "source": [
    "***\n",
    "Discussion\n",
    "* The variables, including original_price, lectures, five_stars, four_stars, three_stars, two stars, and downloadable_resources, show significant impact on the dependent variable.\n",
    "* The significant variables are partially different from the important variables in the decision tree regression model.\n",
    "* From the coefficients of the independent variables, the original_price, lectures, five_stars, four_stars, three_stars, two stars, and downloadable_resources all have positive impact on the enrollment number.\n",
    "* Hence, We can increase the original price, lecture numbers, and downloadable resources to promote the enrollment of the course.\n",
    "\n",
    "***\n",
    "\n"
   ],
   "metadata": {
    "collapsed": false,
    "pycharm": {
     "name": "#%% md\n"
    }
   }
  }
 ],
 "metadata": {
  "kernelspec": {
   "display_name": "Python 3",
   "language": "python",
   "name": "python3"
  },
  "language_info": {
   "codemirror_mode": {
    "name": "ipython",
    "version": 2
   },
   "file_extension": ".py",
   "mimetype": "text/x-python",
   "name": "python",
   "nbconvert_exporter": "python",
   "pygments_lexer": "ipython2",
   "version": "2.7.6"
  }
 },
 "nbformat": 4,
 "nbformat_minor": 0
}