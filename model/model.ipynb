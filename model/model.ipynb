{
 "cells": [
  {
   "cell_type": "code",
   "execution_count": 1,
   "metadata": {
    "collapsed": true
   },
   "outputs": [
    {
     "name": "stderr",
     "output_type": "stream",
     "text": [
      "C:\\Users\\zhipe\\Anaconda3\\envs\\glda\\lib\\site-packages\\scipy\\sparse\\sparsetools.py:21: DeprecationWarning: `scipy.sparse.sparsetools` is deprecated!\n",
      "scipy.sparse.sparsetools is a private module for scipy.sparse, and should not be used.\n",
      "  _deprecated()\n"
     ]
    }
   ],
   "source": [
    "import pandas as pd\n",
    "import matplotlib.pyplot as plt\n",
    "import pyLDAvis.gensim\n",
    "import re\n",
    "import nltk\n",
    "from nltk.stem.porter import *\n",
    "from stop_words import get_stop_words\n",
    "from nltk.tokenize import word_tokenize\n",
    "from wordcloud import WordCloud\n",
    "import gensim\n",
    "from gensim import corpora, models\n",
    "import pickle\n",
    "from sklearn.feature_extraction.text import CountVectorizer\n",
    "from lda import guidedlda as glda\n",
    "import numpy as np\n",
    "%matplotlib inline\n"
   ]
  },
  {
   "cell_type": "code",
   "execution_count": 2,
   "outputs": [
    {
     "name": "stderr",
     "output_type": "stream",
     "text": [
      "C:\\Users\\zhipe\\Anaconda3\\envs\\glda\\lib\\site-packages\\ipykernel\\ipkernel.py:287: DeprecationWarning: `should_run_async` will not call `transform_cell` automatically in the future. Please pass the result to `transformed_cell` argument and any exception that happen during thetransform in `preprocessing_exc_tuple` in IPython 7.17 and above.\n",
      "  and should_run_async(code)\n"
     ]
    }
   ],
   "source": [
    "data = pd.read_pickle(\"../ETL/data.pkl\")\n",
    "data.head()"
   ],
   "metadata": {
    "collapsed": false,
    "pycharm": {
     "name": "#%%\n"
    }
   }
  },
  {
   "cell_type": "code",
   "execution_count": 5,
   "outputs": [
    {
     "name": "stderr",
     "output_type": "stream",
     "text": [
      "C:\\Users\\zhipe\\Anaconda3\\envs\\glda\\lib\\site-packages\\ipykernel\\ipkernel.py:287: DeprecationWarning: `should_run_async` will not call `transform_cell` automatically in the future. Please pass the result to `transformed_cell` argument and any exception that happen during thetransform in `preprocessing_exc_tuple` in IPython 7.17 and above.\n",
      "  and should_run_async(code)\n"
     ]
    }
   ],
   "source": [
    "def preprocess_sent(text):\n",
    "    \"\"\"\n",
    "    Get sentence level preprocessed data from raw texts\n",
    "    :param rw: review to be processed\n",
    "    :return: sentence level pre-processed review\n",
    "    \"\"\"\n",
    "    # Add missing delimiter: xxxThis is a --> xxx.\n",
    "    s = re.sub(r'([a-z])([A-Z])', r'\\1\\. \\2', text)  # before lower case\n",
    "    # Make words all lower case.\n",
    "    s = s.lower()\n",
    "    # Remove < and >\n",
    "    s = re.sub(r'&gt|&lt', ' ', s)\n",
    "    # Remove letters that repeat more than 2 time.\n",
    "    s = re.sub(r'([a-z])\\1{2,}', r'\\1', s)\n",
    "    # Remove non-word characters that repeat more than 1 time.\n",
    "    s = re.sub(r'([\\W+])\\1{1,}', r'\\1', s)\n",
    "    # Use string * as delimiter\n",
    "    s = re.sub(r'\\*|\\W\\*|\\*\\W', '. ', s)\n",
    "    # Remove words in parenthesis, which are assumed less informal\n",
    "    s = re.sub(r'\\(.*?\\)', '. ', s)\n",
    "    # xxx[?!]. -- > xxx.\n",
    "    s = re.sub(r'\\W+?\\.', '.', s)\n",
    "    # [.?!]xxx --> [.?!] xxx\n",
    "    s = re.sub(r'(\\.|\\?|!)(\\w)', r'\\1 \\2', s)\n",
    "    return s.strip()\n"
   ],
   "metadata": {
    "collapsed": false,
    "pycharm": {
     "name": "#%%\n"
    }
   }
  },
  {
   "cell_type": "code",
   "execution_count": 6,
   "outputs": [
    {
     "name": "stderr",
     "output_type": "stream",
     "text": [
      "C:\\Users\\zhipe\\Anaconda3\\envs\\glda\\lib\\site-packages\\ipykernel\\ipkernel.py:287: DeprecationWarning: `should_run_async` will not call `transform_cell` automatically in the future. Please pass the result to `transformed_cell` argument and any exception that happen during thetransform in `preprocessing_exc_tuple` in IPython 7.17 and above.\n",
      "  and should_run_async(code)\n"
     ]
    }
   ],
   "source": [
    "# define stemmer\n",
    "\n",
    "p_stemmer = PorterStemmer()\n",
    "# create stop words list\n",
    "stop_words = (list(\n",
    "    set(get_stop_words('en'))\n",
    "    |set(get_stop_words('es'))\n",
    "    |set(get_stop_words('de'))\n",
    "    |set(get_stop_words('it'))\n",
    "    |set(get_stop_words('ca'))\n",
    "    |set(get_stop_words('pt'))\n",
    "    |set(get_stop_words('pl'))\n",
    "    |set(get_stop_words('da'))\n",
    "    |set(get_stop_words('ru'))\n",
    "    |set(get_stop_words('sv'))\n",
    "    |set(get_stop_words('sk'))\n",
    "    |set(get_stop_words('nl'))\n",
    "    |set([\"course\",\"data\"])\n",
    "))"
   ],
   "metadata": {
    "collapsed": false,
    "pycharm": {
     "name": "#%%\n"
    }
   }
  },
  {
   "cell_type": "code",
   "execution_count": 7,
   "outputs": [
    {
     "name": "stderr",
     "output_type": "stream",
     "text": [
      "C:\\Users\\zhipe\\Anaconda3\\envs\\glda\\lib\\site-packages\\ipykernel\\ipkernel.py:287: DeprecationWarning: `should_run_async` will not call `transform_cell` automatically in the future. Please pass the result to `transformed_cell` argument and any exception that happen during thetransform in `preprocessing_exc_tuple` in IPython 7.17 and above.\n",
      "  and should_run_async(code)\n"
     ]
    }
   ],
   "source": [
    "def preprocess_word(s):\n",
    "    \"\"\"\n",
    "    Get word level preprocessed data from preprocessed sentences\n",
    "    including: remove punctuation, select noun, stem, stop_words\n",
    "    :param s: sentence to be processed\n",
    "    :return: word level pre-processed documents\n",
    "    \"\"\"\n",
    "    if not s:\n",
    "        return []\n",
    "    w_list = word_tokenize(s)\n",
    "    w_list = [word for word in w_list if word.isalpha()]\n",
    "    w_list = [word for (word, pos) in nltk.pos_tag(w_list) if pos[:2] == 'NN']\n",
    "    w_list = [word for word in w_list if word not in stop_words]\n",
    "    w_list = [p_stemmer.stem(word) for word in w_list]\n",
    "\n",
    "    return w_list\n"
   ],
   "metadata": {
    "collapsed": false,
    "pycharm": {
     "name": "#%%\n"
    }
   }
  },
  {
   "cell_type": "code",
   "execution_count": 8,
   "outputs": [
    {
     "name": "stderr",
     "output_type": "stream",
     "text": [
      "C:\\Users\\zhipe\\Anaconda3\\envs\\glda\\lib\\site-packages\\ipykernel\\ipkernel.py:287: DeprecationWarning: `should_run_async` will not call `transform_cell` automatically in the future. Please pass the result to `transformed_cell` argument and any exception that happen during thetransform in `preprocessing_exc_tuple` in IPython 7.17 and above.\n",
      "  and should_run_async(code)\n"
     ]
    }
   ],
   "source": [
    "import codecs\n",
    "def lda_process(token_lists,output):\n",
    "    \"\"\"\n",
    "    # Normal LDA without seeding\n",
    "    :param token_lists:\n",
    "    :return:\n",
    "    \"\"\"\n",
    "    text_lists_clean = [ \" \".join(tl) for tl in token_lists ]\n",
    "    vocab=list(set(word_tokenize(\" \".join(text_lists_clean))))\n",
    "    vectorizer = CountVectorizer(ngram_range=(1,1),vocabulary=vocab)\n",
    "    X = vectorizer.fit_transform(text_lists_clean)\n",
    "    word2id = dict((v, idx) for idx, v in enumerate(vocab))\n",
    "    model = glda.GuidedLDA(n_topics=8, n_iter=1000, random_state=7, refresh=20)\n",
    "    model.fit(X)\n",
    "    topic_word = model.topic_word_\n",
    "    n_top_words = 8\n",
    "    f = codecs.open(output+\"_topic.txt\", \"w\", \"utf-8\")\n",
    "    for i, topic_dist in enumerate(topic_word):\n",
    "        topic_words = np.array(vocab)[np.argsort(topic_dist)][:-(n_top_words+1):-1]\n",
    "        f.write('Topic {}: {} \\n'.format(i, ' '.join(topic_words)))\n",
    "    f.close()\n",
    "\n",
    "    doc_topic = pd.DataFrame(model.doc_topic_)\n",
    "    doc_topic.to_csv(output+\"_doc_topic.csv\")"
   ],
   "metadata": {
    "collapsed": false,
    "pycharm": {
     "name": "#%%\n"
    }
   }
  },
  {
   "cell_type": "code",
   "execution_count": 9,
   "outputs": [
    {
     "name": "stderr",
     "output_type": "stream",
     "text": [
      "C:\\Users\\zhipe\\Anaconda3\\envs\\glda\\lib\\site-packages\\ipykernel\\ipkernel.py:287: DeprecationWarning: `should_run_async` will not call `transform_cell` automatically in the future. Please pass the result to `transformed_cell` argument and any exception that happen during thetransform in `preprocessing_exc_tuple` in IPython 7.17 and above.\n",
      "  and should_run_async(code)\n",
      "INFO:lda:n_documents: 1009\n",
      "INFO:lda:vocab_size: 8342\n",
      "INFO:lda:n_words: 64214\n",
      "INFO:lda:n_topics: 8\n",
      "INFO:lda:n_iter: 1000\n",
      "WARNING:lda:all zero row in document-term matrix found\n",
      "WARNING:lda:all zero column in document-term matrix found\n",
      "INFO:lda:<0> log likelihood: -679531\n",
      "INFO:lda:<20> log likelihood: -491894\n",
      "INFO:lda:<40> log likelihood: -480335\n",
      "INFO:lda:<60> log likelihood: -474530\n",
      "INFO:lda:<80> log likelihood: -472094\n",
      "INFO:lda:<100> log likelihood: -470101\n",
      "INFO:lda:<120> log likelihood: -467892\n",
      "INFO:lda:<140> log likelihood: -466022\n",
      "INFO:lda:<160> log likelihood: -464709\n",
      "INFO:lda:<180> log likelihood: -464565\n",
      "INFO:lda:<200> log likelihood: -464209\n",
      "INFO:lda:<220> log likelihood: -463859\n",
      "INFO:lda:<240> log likelihood: -463305\n",
      "INFO:lda:<260> log likelihood: -463081\n",
      "INFO:lda:<280> log likelihood: -463174\n",
      "INFO:lda:<300> log likelihood: -463015\n",
      "INFO:lda:<320> log likelihood: -462875\n",
      "INFO:lda:<340> log likelihood: -462611\n",
      "INFO:lda:<360> log likelihood: -462247\n",
      "INFO:lda:<380> log likelihood: -461893\n",
      "INFO:lda:<400> log likelihood: -462119\n",
      "INFO:lda:<420> log likelihood: -461717\n",
      "INFO:lda:<440> log likelihood: -461796\n",
      "INFO:lda:<460> log likelihood: -461751\n",
      "INFO:lda:<480> log likelihood: -461529\n",
      "INFO:lda:<500> log likelihood: -461529\n",
      "INFO:lda:<520> log likelihood: -461550\n",
      "INFO:lda:<540> log likelihood: -461284\n",
      "INFO:lda:<560> log likelihood: -461105\n",
      "INFO:lda:<580> log likelihood: -461438\n",
      "INFO:lda:<600> log likelihood: -461002\n",
      "INFO:lda:<620> log likelihood: -461382\n",
      "INFO:lda:<640> log likelihood: -461121\n",
      "INFO:lda:<660> log likelihood: -460819\n",
      "INFO:lda:<680> log likelihood: -460919\n",
      "INFO:lda:<700> log likelihood: -461144\n",
      "INFO:lda:<720> log likelihood: -461019\n",
      "INFO:lda:<740> log likelihood: -461225\n",
      "INFO:lda:<760> log likelihood: -460885\n",
      "INFO:lda:<780> log likelihood: -460983\n",
      "INFO:lda:<800> log likelihood: -460931\n",
      "INFO:lda:<820> log likelihood: -460831\n",
      "INFO:lda:<840> log likelihood: -460721\n",
      "INFO:lda:<860> log likelihood: -461016\n",
      "INFO:lda:<880> log likelihood: -460954\n",
      "INFO:lda:<900> log likelihood: -461005\n",
      "INFO:lda:<920> log likelihood: -461116\n",
      "INFO:lda:<940> log likelihood: -460962\n",
      "INFO:lda:<960> log likelihood: -460846\n",
      "INFO:lda:<980> log likelihood: -461054\n",
      "INFO:lda:<999> log likelihood: -461099\n"
     ]
    }
   ],
   "source": [
    "# LDA for course description\n",
    "data[\"description\"].fillna(\" \", inplace=True)\n",
    "docs = data[\"description\"].to_list()\n",
    "\n",
    "text_lists = [preprocess_sent(text) for text in docs]\n",
    "token_lists = [preprocess_word(text) for text in text_lists]\n",
    "lda_process(token_lists,\"description\")"
   ],
   "metadata": {
    "collapsed": false,
    "pycharm": {
     "name": "#%%\n"
    }
   }
  },
  {
   "cell_type": "code",
   "execution_count": 10,
   "outputs": [
    {
     "name": "stderr",
     "output_type": "stream",
     "text": [
      "C:\\Users\\zhipe\\Anaconda3\\envs\\glda\\lib\\site-packages\\ipykernel\\ipkernel.py:287: DeprecationWarning: `should_run_async` will not call `transform_cell` automatically in the future. Please pass the result to `transformed_cell` argument and any exception that happen during thetransform in `preprocessing_exc_tuple` in IPython 7.17 and above.\n",
      "  and should_run_async(code)\n",
      "INFO:lda:n_documents: 1009\n",
      "INFO:lda:vocab_size: 3771\n",
      "INFO:lda:n_words: 26981\n",
      "INFO:lda:n_topics: 8\n",
      "INFO:lda:n_iter: 1000\n",
      "WARNING:lda:all zero row in document-term matrix found\n",
      "WARNING:lda:all zero column in document-term matrix found\n",
      "INFO:lda:<0> log likelihood: -291102\n",
      "INFO:lda:<20> log likelihood: -195083\n",
      "INFO:lda:<40> log likelihood: -190382\n",
      "INFO:lda:<60> log likelihood: -187529\n",
      "INFO:lda:<80> log likelihood: -186241\n",
      "INFO:lda:<100> log likelihood: -185322\n",
      "INFO:lda:<120> log likelihood: -185030\n",
      "INFO:lda:<140> log likelihood: -184731\n",
      "INFO:lda:<160> log likelihood: -184347\n",
      "INFO:lda:<180> log likelihood: -183883\n",
      "INFO:lda:<200> log likelihood: -183709\n",
      "INFO:lda:<220> log likelihood: -183494\n",
      "INFO:lda:<240> log likelihood: -183301\n",
      "INFO:lda:<260> log likelihood: -183270\n",
      "INFO:lda:<280> log likelihood: -183120\n",
      "INFO:lda:<300> log likelihood: -182921\n",
      "INFO:lda:<320> log likelihood: -182863\n",
      "INFO:lda:<340> log likelihood: -182844\n",
      "INFO:lda:<360> log likelihood: -182735\n",
      "INFO:lda:<380> log likelihood: -182694\n",
      "INFO:lda:<400> log likelihood: -182608\n",
      "INFO:lda:<420> log likelihood: -182743\n",
      "INFO:lda:<440> log likelihood: -182511\n",
      "INFO:lda:<460> log likelihood: -182640\n",
      "INFO:lda:<480> log likelihood: -182464\n",
      "INFO:lda:<500> log likelihood: -182440\n",
      "INFO:lda:<520> log likelihood: -182314\n",
      "INFO:lda:<540> log likelihood: -182344\n",
      "INFO:lda:<560> log likelihood: -182439\n",
      "INFO:lda:<580> log likelihood: -182322\n",
      "INFO:lda:<600> log likelihood: -182371\n",
      "INFO:lda:<620> log likelihood: -182029\n",
      "INFO:lda:<640> log likelihood: -182231\n",
      "INFO:lda:<660> log likelihood: -181993\n",
      "INFO:lda:<680> log likelihood: -182085\n",
      "INFO:lda:<700> log likelihood: -181885\n",
      "INFO:lda:<720> log likelihood: -181965\n",
      "INFO:lda:<740> log likelihood: -181740\n",
      "INFO:lda:<760> log likelihood: -182002\n",
      "INFO:lda:<780> log likelihood: -181823\n",
      "INFO:lda:<800> log likelihood: -181952\n",
      "INFO:lda:<820> log likelihood: -181857\n",
      "INFO:lda:<840> log likelihood: -181824\n",
      "INFO:lda:<860> log likelihood: -181954\n",
      "INFO:lda:<880> log likelihood: -181832\n",
      "INFO:lda:<900> log likelihood: -181783\n",
      "INFO:lda:<920> log likelihood: -181869\n",
      "INFO:lda:<940> log likelihood: -181911\n",
      "INFO:lda:<960> log likelihood: -181720\n",
      "INFO:lda:<980> log likelihood: -181985\n",
      "INFO:lda:<999> log likelihood: -181851\n"
     ]
    }
   ],
   "source": [
    "# LDA for instructor information\n",
    "data[\"instructor_info\"].fillna(\" \", inplace=True)\n",
    "docs = data[\"instructor_info\"].to_list()\n",
    "\n",
    "text_lists = [preprocess_sent(text) for text in docs]\n",
    "token_lists = [preprocess_word(text) for text in text_lists]\n",
    "lda_process(token_lists,\"instructor_info\")\n"
   ],
   "metadata": {
    "collapsed": false,
    "pycharm": {
     "name": "#%%\n"
    }
   }
  },
  {
   "cell_type": "code",
   "execution_count": 15,
   "outputs": [
    {
     "name": "stderr",
     "output_type": "stream",
     "text": [
      "C:\\Users\\zhipe\\Anaconda3\\envs\\glda\\lib\\site-packages\\ipykernel\\ipkernel.py:287: DeprecationWarning: `should_run_async` will not call `transform_cell` automatically in the future. Please pass the result to `transformed_cell` argument and any exception that happen during thetransform in `preprocessing_exc_tuple` in IPython 7.17 and above.\n",
      "  and should_run_async(code)\n"
     ]
    }
   ],
   "source": [
    "data.drop(['id', 'description','instructor_info'], axis=1,inplace = True)\n",
    "data.to_csv(\"final_data.csv\")"
   ],
   "metadata": {
    "collapsed": false,
    "pycharm": {
     "name": "#%%\n"
    }
   }
  },
  {
   "cell_type": "code",
   "execution_count": null,
   "outputs": [],
   "source": [],
   "metadata": {
    "collapsed": false,
    "pycharm": {
     "name": "#%%\n"
    }
   }
  }
 ],
 "metadata": {
  "kernelspec": {
   "display_name": "Python 3",
   "language": "python",
   "name": "python3"
  },
  "language_info": {
   "codemirror_mode": {
    "name": "ipython",
    "version": 2
   },
   "file_extension": ".py",
   "mimetype": "text/x-python",
   "name": "python",
   "nbconvert_exporter": "python",
   "pygments_lexer": "ipython2",
   "version": "2.7.6"
  }
 },
 "nbformat": 4,
 "nbformat_minor": 0
}