{
 "cells": [
  {
   "cell_type": "code",
   "execution_count": 1,
   "metadata": {
    "collapsed": true
   },
   "outputs": [],
   "source": [
    "import numpy as np\n",
    "import pandas as pd\n",
    "import math\n",
    "import matplotlib.pyplot as plt"
   ]
  },
  {
   "cell_type": "code",
   "execution_count": 2,
   "outputs": [],
   "source": [
    "data = pd.read_table(\"../data/course_list.tsv\",encoding='utf-8')\n",
    "data = data.iloc[:, :-1]\n",
    "data = data.drop(columns=['link'])"
   ],
   "metadata": {
    "collapsed": false,
    "pycharm": {
     "name": "#%%\n"
    }
   }
  },
  {
   "cell_type": "code",
   "execution_count": 3,
   "outputs": [
    {
     "name": "stdout",
     "output_type": "stream",
     "text": [
      "Index(['id', 'name', 'seller', 'price', 'original_price', 'lectures', 'hours',\n",
      "       'level'],\n",
      "      dtype='object')\n",
      "(1013, 8)\n"
     ]
    }
   ],
   "source": [
    "print(data.columns)\n",
    "print(data.shape)"
   ],
   "metadata": {
    "collapsed": false,
    "pycharm": {
     "name": "#%%\n"
    }
   }
  },
  {
   "cell_type": "code",
   "execution_count": 4,
   "outputs": [],
   "source": [
    "data['lectures'].fillna(value=\"All Levels\", inplace=True)"
   ],
   "metadata": {
    "collapsed": false,
    "pycharm": {
     "name": "#%%\n"
    }
   }
  },
  {
   "cell_type": "code",
   "execution_count": 5,
   "outputs": [],
   "source": [
    "data[\"price\"].replace(\"Free\",\"0.0\", inplace=True)\n",
    "data[\"price\"] = data[\"price\"].astype(float)\n",
    "index = data.index[data[\"original_price\"].isna()]\n",
    "data.loc[index,\"original_price\"] = pd.Series(data.loc[index][\"price\"])"
   ],
   "metadata": {
    "collapsed": false,
    "pycharm": {
     "name": "#%%\n"
    }
   }
  },
  {
   "cell_type": "code",
   "execution_count": 6,
   "outputs": [
    {
     "data": {
      "text/plain": "   id                                               name  \\\n0   1                         the-complete-sql-bootcamp/   \n1   2                                         tableau10/   \n2   3                     powerbi-complete-introduction/   \n3   4  microsoft-power-bi-up-running-with-power-bi-de...   \n4   5     the-business-intelligence-analyst-course-2018/   \n\n                                              seller  price  original_price  \\\n0                                      Jose Portilla  25.99          179.99   \n1             Kirill Eremenko  SuperDataScience Team  16.99          124.99   \n2  Manuel Lorenz  Academind by Maximilian Schwarz...  12.99           94.99   \n3         Maven Analytics  Chris Dutton  Aaron Parry  19.99          139.99   \n4                                        365 Careers  12.99           94.99   \n\n   lectures  hours       level  \n0        83    9.0  All Levels  \n1        82    9.0  All Levels  \n2       275   23.5    Beginner  \n3       117   11.0  All Levels  \n4       413   20.5  All Levels  ",
      "text/html": "<div>\n<style scoped>\n    .dataframe tbody tr th:only-of-type {\n        vertical-align: middle;\n    }\n\n    .dataframe tbody tr th {\n        vertical-align: top;\n    }\n\n    .dataframe thead th {\n        text-align: right;\n    }\n</style>\n<table border=\"1\" class=\"dataframe\">\n  <thead>\n    <tr style=\"text-align: right;\">\n      <th></th>\n      <th>id</th>\n      <th>name</th>\n      <th>seller</th>\n      <th>price</th>\n      <th>original_price</th>\n      <th>lectures</th>\n      <th>hours</th>\n      <th>level</th>\n    </tr>\n  </thead>\n  <tbody>\n    <tr>\n      <th>0</th>\n      <td>1</td>\n      <td>the-complete-sql-bootcamp/</td>\n      <td>Jose Portilla</td>\n      <td>25.99</td>\n      <td>179.99</td>\n      <td>83</td>\n      <td>9.0</td>\n      <td>All Levels</td>\n    </tr>\n    <tr>\n      <th>1</th>\n      <td>2</td>\n      <td>tableau10/</td>\n      <td>Kirill Eremenko  SuperDataScience Team</td>\n      <td>16.99</td>\n      <td>124.99</td>\n      <td>82</td>\n      <td>9.0</td>\n      <td>All Levels</td>\n    </tr>\n    <tr>\n      <th>2</th>\n      <td>3</td>\n      <td>powerbi-complete-introduction/</td>\n      <td>Manuel Lorenz  Academind by Maximilian Schwarz...</td>\n      <td>12.99</td>\n      <td>94.99</td>\n      <td>275</td>\n      <td>23.5</td>\n      <td>Beginner</td>\n    </tr>\n    <tr>\n      <th>3</th>\n      <td>4</td>\n      <td>microsoft-power-bi-up-running-with-power-bi-de...</td>\n      <td>Maven Analytics  Chris Dutton  Aaron Parry</td>\n      <td>19.99</td>\n      <td>139.99</td>\n      <td>117</td>\n      <td>11.0</td>\n      <td>All Levels</td>\n    </tr>\n    <tr>\n      <th>4</th>\n      <td>5</td>\n      <td>the-business-intelligence-analyst-course-2018/</td>\n      <td>365 Careers</td>\n      <td>12.99</td>\n      <td>94.99</td>\n      <td>413</td>\n      <td>20.5</td>\n      <td>All Levels</td>\n    </tr>\n  </tbody>\n</table>\n</div>"
     },
     "execution_count": 6,
     "metadata": {},
     "output_type": "execute_result"
    }
   ],
   "source": [
    "data.head()"
   ],
   "metadata": {
    "collapsed": false,
    "pycharm": {
     "name": "#%%\n"
    }
   }
  },
  {
   "cell_type": "code",
   "execution_count": 7,
   "outputs": [
    {
     "name": "stdout",
     "output_type": "stream",
     "text": [
      "[372, 494, 868, 914]\n"
     ]
    }
   ],
   "source": [
    "import os.path\n",
    "total_num = data.shape[0]\n",
    "miss_course = []\n",
    "for i in range(total_num):\n",
    "    if not os.path.exists('../data/raw/'+str(i+1)+'_info.txt'):\n",
    "        miss_course.append(i)\n",
    "print(miss_course)\n",
    "data = data.drop(data.index[miss_course])\n",
    "# data = data.reset_index(drop=True)"
   ],
   "metadata": {
    "collapsed": false,
    "pycharm": {
     "name": "#%%\n"
    }
   }
  },
  {
   "cell_type": "code",
   "execution_count": 8,
   "outputs": [],
   "source": [
    "title = []\n",
    "headline = []\n",
    "enrollment = []\n",
    "rating = []\n",
    "num_ratings = []\n",
    "last_update_date = []\n",
    "# requirements = []\n",
    "description = []\n",
    "five_stars = []\n",
    "four_stars = []\n",
    "three_stars = []\n",
    "two_stars = []\n",
    "hours_ondemand_video = []\n",
    "downloadable_resources = []"
   ],
   "metadata": {
    "collapsed": false,
    "pycharm": {
     "name": "#%%\n"
    }
   }
  },
  {
   "cell_type": "code",
   "execution_count": 9,
   "outputs": [],
   "source": [
    "import codecs\n",
    "import re\n",
    "for i in range(total_num):\n",
    "    fname = '../data/raw/'+str(i+1)+'_info.txt'\n",
    "    if i not in miss_course:\n",
    "        with codecs.open(fname,encoding=\"utf8\") as f:\n",
    "            content = f.readlines()\n",
    "        title.append(content[1].replace('\\n',''))\n",
    "        headline.append(content[2].replace('\\n',''))\n",
    "        enrollment.append(content[3].replace('\\n',''))\n",
    "        rating.append(content[4].replace('\\n',''))\n",
    "        num_ratings.append(content[5].replace('\\n',''))\n",
    "        last_update_date.append(content[6].replace('\\n',''))\n",
    "        description.append(content[7].replace('\\n','') + \" \"+content[8].replace('\\n','')+ \" \"+content[9].replace('\\n',''))\n",
    "        five_stars.append(content[10].replace('\\n',''))\n",
    "        four_stars.append(content[11].replace('\\n',''))\n",
    "        three_stars.append(content[12].replace('\\n',''))\n",
    "        two_stars.append(content[13].replace('\\n',''))\n",
    "        try:\n",
    "            hours_ondemand_video.append(re.findall(r\"[-+]?\\d*\\.\\d+|\\d+\", content[16])[0])\n",
    "        except:\n",
    "            hours_ondemand_video.append(0)\n",
    "        try:\n",
    "            downloadable_resources.append(re.findall(r'\\d+', content[17])[0])\n",
    "        except:\n",
    "            downloadable_resources.append(0)"
   ],
   "metadata": {
    "collapsed": false,
    "pycharm": {
     "name": "#%%\n"
    }
   }
  },
  {
   "cell_type": "code",
   "execution_count": 10,
   "outputs": [],
   "source": [
    "def convert_star(d):\n",
    "    tmp = re.findall(r'\\d+', d)\n",
    "    if len(tmp)>0:\n",
    "        return float(tmp[0])/100\n",
    "    else:\n",
    "        return 0"
   ],
   "metadata": {
    "collapsed": false,
    "pycharm": {
     "name": "#%%\n"
    }
   }
  },
  {
   "cell_type": "code",
   "execution_count": 11,
   "outputs": [],
   "source": [
    "data['enrollment'] = pd.Series(enrollment).replace(\"NULL\",\"0\").replace(\"\",\"0\").astype(int)\n",
    "data['rating'] = pd.Series(rating).replace(\"NULL\",\"0\").astype(float)\n",
    "data['num_ratings'] = pd.Series(num_ratings).replace(\"NULL\",\"0\").astype(float)\n",
    "data['five_stars'] = pd.Series(five_stars).apply(convert_star)\n",
    "data['four_stars'] = pd.Series(four_stars).apply(convert_star)\n",
    "data['three_stars'] = pd.Series(three_stars).apply(convert_star)\n",
    "data['two_stars'] = pd.Series(two_stars).apply(convert_star)\n",
    "data['description'] = pd.Series(description)\n",
    "data['hours_ondemand_video'] = pd.Series(hours_ondemand_video).astype(float)\n",
    "data['downloadable_resources'] = pd.Series(downloadable_resources).astype(int)\n",
    "data['description'] = pd.Series(description)"
   ],
   "metadata": {
    "collapsed": false,
    "pycharm": {
     "name": "#%%\n"
    }
   }
  },
  {
   "cell_type": "code",
   "execution_count": 12,
   "outputs": [],
   "source": [
    "import datetime as dt\n",
    "def to_DT(date):\n",
    "    date = date.replace(\"Published \",\"\")\n",
    "    date = date.replace(\" \",\"\")\n",
    "    date = date.strip()\n",
    "    if date == \"NULL\":\n",
    "        date = \"1/1900\"\n",
    "    DT = dt.datetime.strptime(date, '%m/%Y') # 11/2018\n",
    "    return DT\n",
    "data['last_update_date'] = pd.Series([to_DT(date) for date in last_update_date])"
   ],
   "metadata": {
    "collapsed": false,
    "pycharm": {
     "name": "#%%\n"
    }
   }
  },
  {
   "cell_type": "code",
   "execution_count": 13,
   "outputs": [],
   "source": [
    "instructor_title = []\n",
    "instructor_job_title = []\n",
    "instructor_rating = []\n",
    "instructor_no_reviews = []\n",
    "instructor_no_students = []\n",
    "instructor_no_courses = []\n",
    "instructor_info = []"
   ],
   "metadata": {
    "collapsed": false,
    "pycharm": {
     "name": "#%%\n"
    }
   }
  },
  {
   "cell_type": "code",
   "execution_count": 14,
   "outputs": [],
   "source": [
    "def convert_rating(d):\n",
    "    tmp = re.findall(r\"[-+]?\\d*\\.\\d+|\\d+\", d)\n",
    "    if len(tmp)>0:\n",
    "        return tmp[0]\n",
    "    else:\n",
    "        return 0\n",
    "\n",
    "def convert_number(d):\n",
    "    d = d.replace(\",\", \"\")\n",
    "    tmp = re.findall(r'\\d+', d)\n",
    "    if len(tmp)>0:\n",
    "        return tmp[0]\n",
    "    else:\n",
    "        return 0\n"
   ],
   "metadata": {
    "collapsed": false,
    "pycharm": {
     "name": "#%%\n"
    }
   }
  },
  {
   "cell_type": "code",
   "execution_count": 15,
   "outputs": [],
   "source": [
    "for i in range(total_num):\n",
    "    fname = '../data/raw/'+str(i+1)+'_instructor.txt'\n",
    "    if i not in miss_course:\n",
    "        with codecs.open(fname,encoding=\"utf8\") as f:\n",
    "            content = f.readlines()\n",
    "        instructor_title.append(content[0].replace('\\n',''))\n",
    "        instructor_job_title.append(content[1].replace('\\n',''))\n",
    "        instructor_rating.append(convert_rating(content[2]))\n",
    "        instructor_no_courses.append(convert_number(content[3]))\n",
    "        instructor_no_reviews.append(convert_number(content[4]))\n",
    "        instructor_no_students.append(convert_number(content[5]))\n",
    "        instructor_info.append(content[6].replace('\\n',''))"
   ],
   "metadata": {
    "collapsed": false,
    "pycharm": {
     "name": "#%%\n"
    }
   }
  },
  {
   "cell_type": "code",
   "execution_count": 16,
   "outputs": [],
   "source": [
    "data['instructor_title'] = pd.Series(instructor_title)\n",
    "data['instructor_job_title'] = pd.Series(instructor_job_title)\n",
    "data['instructor_info'] = pd.Series(instructor_info)\n",
    "data['instructor_rating'] = pd.Series(instructor_rating).astype(float)\n",
    "data['instructor_no_reviews'] = pd.Series(instructor_no_reviews).astype(int)\n",
    "data['instructor_no_students'] = pd.Series(instructor_no_students).astype(int)\n",
    "data['instructor_no_courses'] = pd.Series(instructor_no_courses).astype(int)"
   ],
   "metadata": {
    "collapsed": false,
    "pycharm": {
     "name": "#%%\n"
    }
   }
  },
  {
   "cell_type": "code",
   "execution_count": 17,
   "outputs": [
    {
     "data": {
      "text/plain": "   id                                               name  \\\n0   1                         the-complete-sql-bootcamp/   \n1   2                                         tableau10/   \n2   3                     powerbi-complete-introduction/   \n3   4  microsoft-power-bi-up-running-with-power-bi-de...   \n4   5     the-business-intelligence-analyst-course-2018/   \n\n                                              seller  price  original_price  \\\n0                                      Jose Portilla  25.99          179.99   \n1             Kirill Eremenko  SuperDataScience Team  16.99          124.99   \n2  Manuel Lorenz  Academind by Maximilian Schwarz...  12.99           94.99   \n3         Maven Analytics  Chris Dutton  Aaron Parry  19.99          139.99   \n4                                        365 Careers  12.99           94.99   \n\n   lectures  hours       level  enrollment  rating  ...  hours_ondemand_video  \\\n0        83    9.0  All Levels    342288.0     4.7  ...                   9.0   \n1        82    9.0  All Levels    231631.0     4.6  ...                   9.0   \n2       275   23.5    Beginner    148077.0     4.6  ...                  23.5   \n3       117   11.0  All Levels    109303.0     4.6  ...                  10.5   \n4       413   20.5  All Levels    136869.0     4.5  ...                  20.0   \n\n   downloadable_resources  last_update_date          instructor_title  \\\n0                    14.0        2020-10-01             Jose Portilla   \n1                     6.0        2021-02-01              Ligency Team   \n2                    26.0        2020-11-01  Maximilian Schwarzmüller   \n3                    14.0        2021-02-01               Aaron Parry   \n4                   151.0        2020-11-01               365 Careers   \n\n                                instructor_job_title  \\\n0            Head of Data Science, Pierian Data Inc.   \n1                    Helping Data Scientists Succeed   \n2          Professional Web Developer and Instructor   \n3  Professional Business Intelligence Trainer & C...   \n4  Creating opportunities for Business & Finance ...   \n\n                                     instructor_info  instructor_rating  \\\n0    Jose Marcial Portilla has a BS and MS in Mec...                4.6   \n1  Hi there, We are the Ligency PR and Marketing ...                4.5   \n2  Experience as (Web) Developer Starting out at ...                4.6   \n3  Aaron is a professional analytics consultant a...                4.6   \n4  365 Careers is the #1 best-selling provider of...                4.5   \n\n   instructor_no_reviews instructor_no_students instructor_no_courses  \n0               712729.0              2179902.0                  31.0  \n1               429183.0              1472140.0                  48.0  \n2               564184.0              1335299.0                  35.0  \n3                34377.0               438163.0                   3.0  \n4               385370.0              1322640.0                  68.0  \n\n[5 rows x 26 columns]",
      "text/html": "<div>\n<style scoped>\n    .dataframe tbody tr th:only-of-type {\n        vertical-align: middle;\n    }\n\n    .dataframe tbody tr th {\n        vertical-align: top;\n    }\n\n    .dataframe thead th {\n        text-align: right;\n    }\n</style>\n<table border=\"1\" class=\"dataframe\">\n  <thead>\n    <tr style=\"text-align: right;\">\n      <th></th>\n      <th>id</th>\n      <th>name</th>\n      <th>seller</th>\n      <th>price</th>\n      <th>original_price</th>\n      <th>lectures</th>\n      <th>hours</th>\n      <th>level</th>\n      <th>enrollment</th>\n      <th>rating</th>\n      <th>...</th>\n      <th>hours_ondemand_video</th>\n      <th>downloadable_resources</th>\n      <th>last_update_date</th>\n      <th>instructor_title</th>\n      <th>instructor_job_title</th>\n      <th>instructor_info</th>\n      <th>instructor_rating</th>\n      <th>instructor_no_reviews</th>\n      <th>instructor_no_students</th>\n      <th>instructor_no_courses</th>\n    </tr>\n  </thead>\n  <tbody>\n    <tr>\n      <th>0</th>\n      <td>1</td>\n      <td>the-complete-sql-bootcamp/</td>\n      <td>Jose Portilla</td>\n      <td>25.99</td>\n      <td>179.99</td>\n      <td>83</td>\n      <td>9.0</td>\n      <td>All Levels</td>\n      <td>342288.0</td>\n      <td>4.7</td>\n      <td>...</td>\n      <td>9.0</td>\n      <td>14.0</td>\n      <td>2020-10-01</td>\n      <td>Jose Portilla</td>\n      <td>Head of Data Science, Pierian Data Inc.</td>\n      <td>Jose Marcial Portilla has a BS and MS in Mec...</td>\n      <td>4.6</td>\n      <td>712729.0</td>\n      <td>2179902.0</td>\n      <td>31.0</td>\n    </tr>\n    <tr>\n      <th>1</th>\n      <td>2</td>\n      <td>tableau10/</td>\n      <td>Kirill Eremenko  SuperDataScience Team</td>\n      <td>16.99</td>\n      <td>124.99</td>\n      <td>82</td>\n      <td>9.0</td>\n      <td>All Levels</td>\n      <td>231631.0</td>\n      <td>4.6</td>\n      <td>...</td>\n      <td>9.0</td>\n      <td>6.0</td>\n      <td>2021-02-01</td>\n      <td>Ligency Team</td>\n      <td>Helping Data Scientists Succeed</td>\n      <td>Hi there, We are the Ligency PR and Marketing ...</td>\n      <td>4.5</td>\n      <td>429183.0</td>\n      <td>1472140.0</td>\n      <td>48.0</td>\n    </tr>\n    <tr>\n      <th>2</th>\n      <td>3</td>\n      <td>powerbi-complete-introduction/</td>\n      <td>Manuel Lorenz  Academind by Maximilian Schwarz...</td>\n      <td>12.99</td>\n      <td>94.99</td>\n      <td>275</td>\n      <td>23.5</td>\n      <td>Beginner</td>\n      <td>148077.0</td>\n      <td>4.6</td>\n      <td>...</td>\n      <td>23.5</td>\n      <td>26.0</td>\n      <td>2020-11-01</td>\n      <td>Maximilian Schwarzmüller</td>\n      <td>Professional Web Developer and Instructor</td>\n      <td>Experience as (Web) Developer Starting out at ...</td>\n      <td>4.6</td>\n      <td>564184.0</td>\n      <td>1335299.0</td>\n      <td>35.0</td>\n    </tr>\n    <tr>\n      <th>3</th>\n      <td>4</td>\n      <td>microsoft-power-bi-up-running-with-power-bi-de...</td>\n      <td>Maven Analytics  Chris Dutton  Aaron Parry</td>\n      <td>19.99</td>\n      <td>139.99</td>\n      <td>117</td>\n      <td>11.0</td>\n      <td>All Levels</td>\n      <td>109303.0</td>\n      <td>4.6</td>\n      <td>...</td>\n      <td>10.5</td>\n      <td>14.0</td>\n      <td>2021-02-01</td>\n      <td>Aaron Parry</td>\n      <td>Professional Business Intelligence Trainer &amp; C...</td>\n      <td>Aaron is a professional analytics consultant a...</td>\n      <td>4.6</td>\n      <td>34377.0</td>\n      <td>438163.0</td>\n      <td>3.0</td>\n    </tr>\n    <tr>\n      <th>4</th>\n      <td>5</td>\n      <td>the-business-intelligence-analyst-course-2018/</td>\n      <td>365 Careers</td>\n      <td>12.99</td>\n      <td>94.99</td>\n      <td>413</td>\n      <td>20.5</td>\n      <td>All Levels</td>\n      <td>136869.0</td>\n      <td>4.5</td>\n      <td>...</td>\n      <td>20.0</td>\n      <td>151.0</td>\n      <td>2020-11-01</td>\n      <td>365 Careers</td>\n      <td>Creating opportunities for Business &amp; Finance ...</td>\n      <td>365 Careers is the #1 best-selling provider of...</td>\n      <td>4.5</td>\n      <td>385370.0</td>\n      <td>1322640.0</td>\n      <td>68.0</td>\n    </tr>\n  </tbody>\n</table>\n<p>5 rows × 26 columns</p>\n</div>"
     },
     "execution_count": 17,
     "metadata": {},
     "output_type": "execute_result"
    }
   ],
   "source": [
    "data.head()\n"
   ],
   "metadata": {
    "collapsed": false,
    "pycharm": {
     "name": "#%%\n"
    }
   }
  },
  {
   "cell_type": "code",
   "execution_count": 25,
   "outputs": [],
   "source": [
    "review_index = []\n",
    "review_rating = []\n",
    "review_text = []\n",
    "r_i = 0"
   ],
   "metadata": {
    "collapsed": false,
    "pycharm": {
     "name": "#%%\n"
    }
   }
  },
  {
   "cell_type": "code",
   "execution_count": 26,
   "outputs": [],
   "source": [
    "for i in range(total_num):\n",
    "    fname = '../data/raw/'+str(i+1)+'_review.txt'\n",
    "    if i not in miss_course:\n",
    "        with codecs.open(fname,encoding=\"utf8\") as f:\n",
    "            content = f.readlines()\n",
    "        tmp = []\n",
    "        if len(content) == 0:\n",
    "            review_index.append(tmp)\n",
    "            continue\n",
    "        for i in range(len(content)//2):\n",
    "            review_rating.append(content[i*2].replace('\\n','').replace(\"NULL\",\"0\"))\n",
    "            review_text.append(content[i*2+1].replace('\\n',''))\n",
    "            tmp.append(r_i)\n",
    "            r_i += 1\n",
    "        review_index.append(tmp)\n"
   ],
   "metadata": {
    "collapsed": false,
    "pycharm": {
     "name": "#%%\n"
    }
   }
  },
  {
   "cell_type": "code",
   "execution_count": 28,
   "outputs": [],
   "source": [
    "review_pd = pd.DataFrame(list(zip(review_rating, review_text)), columns =['review_rating', 'review_text'])\n",
    "review_pd[\"review_rating\"] = review_pd[\"review_rating\"].astype(float)\n",
    "data['review_index'] = pd.Series(review_index)"
   ],
   "metadata": {
    "collapsed": false,
    "pycharm": {
     "name": "#%%\n"
    }
   }
  },
  {
   "cell_type": "code",
   "execution_count": 29,
   "outputs": [
    {
     "data": {
      "text/plain": "   id                                               name  \\\n0   1                         the-complete-sql-bootcamp/   \n1   2                                         tableau10/   \n2   3                     powerbi-complete-introduction/   \n3   4  microsoft-power-bi-up-running-with-power-bi-de...   \n4   5     the-business-intelligence-analyst-course-2018/   \n\n                                              seller  price  original_price  \\\n0                                      Jose Portilla  25.99          179.99   \n1             Kirill Eremenko  SuperDataScience Team  16.99          124.99   \n2  Manuel Lorenz  Academind by Maximilian Schwarz...  12.99           94.99   \n3         Maven Analytics  Chris Dutton  Aaron Parry  19.99          139.99   \n4                                        365 Careers  12.99           94.99   \n\n   lectures  hours       level  enrollment  rating  ...  \\\n0        83    9.0  All Levels    342288.0     4.7  ...   \n1        82    9.0  All Levels    231631.0     4.6  ...   \n2       275   23.5    Beginner    148077.0     4.6  ...   \n3       117   11.0  All Levels    109303.0     4.6  ...   \n4       413   20.5  All Levels    136869.0     4.5  ...   \n\n   downloadable_resources  last_update_date          instructor_title  \\\n0                    14.0        2020-10-01             Jose Portilla   \n1                     6.0        2021-02-01              Ligency Team   \n2                    26.0        2020-11-01  Maximilian Schwarzmüller   \n3                    14.0        2021-02-01               Aaron Parry   \n4                   151.0        2020-11-01               365 Careers   \n\n                                instructor_job_title  \\\n0            Head of Data Science, Pierian Data Inc.   \n1                    Helping Data Scientists Succeed   \n2          Professional Web Developer and Instructor   \n3  Professional Business Intelligence Trainer & C...   \n4  Creating opportunities for Business & Finance ...   \n\n                                     instructor_info instructor_rating  \\\n0    Jose Marcial Portilla has a BS and MS in Mec...               4.6   \n1  Hi there, We are the Ligency PR and Marketing ...               4.5   \n2  Experience as (Web) Developer Starting out at ...               4.6   \n3  Aaron is a professional analytics consultant a...               4.6   \n4  365 Careers is the #1 best-selling provider of...               4.5   \n\n   instructor_no_reviews  instructor_no_students instructor_no_courses  \\\n0               712729.0               2179902.0                  31.0   \n1               429183.0               1472140.0                  48.0   \n2               564184.0               1335299.0                  35.0   \n3                34377.0                438163.0                   3.0   \n4               385370.0               1322640.0                  68.0   \n\n                                       review_index  \n0            [0, 1, 2, 3, 4, 5, 6, 7, 8, 9, 10, 11]  \n1  [12, 13, 14, 15, 16, 17, 18, 19, 20, 21, 22, 23]  \n2  [24, 25, 26, 27, 28, 29, 30, 31, 32, 33, 34, 35]  \n3  [36, 37, 38, 39, 40, 41, 42, 43, 44, 45, 46, 47]  \n4  [48, 49, 50, 51, 52, 53, 54, 55, 56, 57, 58, 59]  \n\n[5 rows x 27 columns]",
      "text/html": "<div>\n<style scoped>\n    .dataframe tbody tr th:only-of-type {\n        vertical-align: middle;\n    }\n\n    .dataframe tbody tr th {\n        vertical-align: top;\n    }\n\n    .dataframe thead th {\n        text-align: right;\n    }\n</style>\n<table border=\"1\" class=\"dataframe\">\n  <thead>\n    <tr style=\"text-align: right;\">\n      <th></th>\n      <th>id</th>\n      <th>name</th>\n      <th>seller</th>\n      <th>price</th>\n      <th>original_price</th>\n      <th>lectures</th>\n      <th>hours</th>\n      <th>level</th>\n      <th>enrollment</th>\n      <th>rating</th>\n      <th>...</th>\n      <th>downloadable_resources</th>\n      <th>last_update_date</th>\n      <th>instructor_title</th>\n      <th>instructor_job_title</th>\n      <th>instructor_info</th>\n      <th>instructor_rating</th>\n      <th>instructor_no_reviews</th>\n      <th>instructor_no_students</th>\n      <th>instructor_no_courses</th>\n      <th>review_index</th>\n    </tr>\n  </thead>\n  <tbody>\n    <tr>\n      <th>0</th>\n      <td>1</td>\n      <td>the-complete-sql-bootcamp/</td>\n      <td>Jose Portilla</td>\n      <td>25.99</td>\n      <td>179.99</td>\n      <td>83</td>\n      <td>9.0</td>\n      <td>All Levels</td>\n      <td>342288.0</td>\n      <td>4.7</td>\n      <td>...</td>\n      <td>14.0</td>\n      <td>2020-10-01</td>\n      <td>Jose Portilla</td>\n      <td>Head of Data Science, Pierian Data Inc.</td>\n      <td>Jose Marcial Portilla has a BS and MS in Mec...</td>\n      <td>4.6</td>\n      <td>712729.0</td>\n      <td>2179902.0</td>\n      <td>31.0</td>\n      <td>[0, 1, 2, 3, 4, 5, 6, 7, 8, 9, 10, 11]</td>\n    </tr>\n    <tr>\n      <th>1</th>\n      <td>2</td>\n      <td>tableau10/</td>\n      <td>Kirill Eremenko  SuperDataScience Team</td>\n      <td>16.99</td>\n      <td>124.99</td>\n      <td>82</td>\n      <td>9.0</td>\n      <td>All Levels</td>\n      <td>231631.0</td>\n      <td>4.6</td>\n      <td>...</td>\n      <td>6.0</td>\n      <td>2021-02-01</td>\n      <td>Ligency Team</td>\n      <td>Helping Data Scientists Succeed</td>\n      <td>Hi there, We are the Ligency PR and Marketing ...</td>\n      <td>4.5</td>\n      <td>429183.0</td>\n      <td>1472140.0</td>\n      <td>48.0</td>\n      <td>[12, 13, 14, 15, 16, 17, 18, 19, 20, 21, 22, 23]</td>\n    </tr>\n    <tr>\n      <th>2</th>\n      <td>3</td>\n      <td>powerbi-complete-introduction/</td>\n      <td>Manuel Lorenz  Academind by Maximilian Schwarz...</td>\n      <td>12.99</td>\n      <td>94.99</td>\n      <td>275</td>\n      <td>23.5</td>\n      <td>Beginner</td>\n      <td>148077.0</td>\n      <td>4.6</td>\n      <td>...</td>\n      <td>26.0</td>\n      <td>2020-11-01</td>\n      <td>Maximilian Schwarzmüller</td>\n      <td>Professional Web Developer and Instructor</td>\n      <td>Experience as (Web) Developer Starting out at ...</td>\n      <td>4.6</td>\n      <td>564184.0</td>\n      <td>1335299.0</td>\n      <td>35.0</td>\n      <td>[24, 25, 26, 27, 28, 29, 30, 31, 32, 33, 34, 35]</td>\n    </tr>\n    <tr>\n      <th>3</th>\n      <td>4</td>\n      <td>microsoft-power-bi-up-running-with-power-bi-de...</td>\n      <td>Maven Analytics  Chris Dutton  Aaron Parry</td>\n      <td>19.99</td>\n      <td>139.99</td>\n      <td>117</td>\n      <td>11.0</td>\n      <td>All Levels</td>\n      <td>109303.0</td>\n      <td>4.6</td>\n      <td>...</td>\n      <td>14.0</td>\n      <td>2021-02-01</td>\n      <td>Aaron Parry</td>\n      <td>Professional Business Intelligence Trainer &amp; C...</td>\n      <td>Aaron is a professional analytics consultant a...</td>\n      <td>4.6</td>\n      <td>34377.0</td>\n      <td>438163.0</td>\n      <td>3.0</td>\n      <td>[36, 37, 38, 39, 40, 41, 42, 43, 44, 45, 46, 47]</td>\n    </tr>\n    <tr>\n      <th>4</th>\n      <td>5</td>\n      <td>the-business-intelligence-analyst-course-2018/</td>\n      <td>365 Careers</td>\n      <td>12.99</td>\n      <td>94.99</td>\n      <td>413</td>\n      <td>20.5</td>\n      <td>All Levels</td>\n      <td>136869.0</td>\n      <td>4.5</td>\n      <td>...</td>\n      <td>151.0</td>\n      <td>2020-11-01</td>\n      <td>365 Careers</td>\n      <td>Creating opportunities for Business &amp; Finance ...</td>\n      <td>365 Careers is the #1 best-selling provider of...</td>\n      <td>4.5</td>\n      <td>385370.0</td>\n      <td>1322640.0</td>\n      <td>68.0</td>\n      <td>[48, 49, 50, 51, 52, 53, 54, 55, 56, 57, 58, 59]</td>\n    </tr>\n  </tbody>\n</table>\n<p>5 rows × 27 columns</p>\n</div>"
     },
     "execution_count": 29,
     "metadata": {},
     "output_type": "execute_result"
    }
   ],
   "source": [
    "data.head()"
   ],
   "metadata": {
    "collapsed": false,
    "pycharm": {
     "name": "#%%\n"
    }
   }
  },
  {
   "cell_type": "code",
   "execution_count": 30,
   "outputs": [],
   "source": [
    "data.to_pickle(\"data.pkl\")\n",
    "review_pd.to_pickle(\"review_pd.pkl\")\n"
   ],
   "metadata": {
    "collapsed": false,
    "pycharm": {
     "name": "#%%\n"
    }
   }
  },
  {
   "cell_type": "code",
   "execution_count": null,
   "outputs": [],
   "source": [],
   "metadata": {
    "collapsed": false,
    "pycharm": {
     "name": "#%%\n"
    }
   }
  }
 ],
 "metadata": {
  "kernelspec": {
   "name": "python3",
   "language": "python",
   "display_name": "Python 3"
  },
  "language_info": {
   "codemirror_mode": {
    "name": "ipython",
    "version": 2
   },
   "file_extension": ".py",
   "mimetype": "text/x-python",
   "name": "python",
   "nbconvert_exporter": "python",
   "pygments_lexer": "ipython2",
   "version": "2.7.6"
  }
 },
 "nbformat": 4,
 "nbformat_minor": 0
}