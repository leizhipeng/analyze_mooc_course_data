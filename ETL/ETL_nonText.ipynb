{
 "cells": [
  {
   "cell_type": "markdown",
   "metadata": {
    "pycharm": {
     "name": "#%% md\n"
    }
   },
   "source": [
    "# ETL for Non-Text data of Udemy Course Dataset\n",
    "***\n",
    "* The raw Udemy course dataset includes (1) a course list of business analytics web crapped from Udemy's business analytics webpages, and (2) detailed information of each course web crapped from course webpage.\n",
    "* The course information includes non-text data, such as enrollment numbers and ratings, and text data of course description and instruction introduction.  \n",
    "* This notebook aims to perform the extract, transform, and load (ETL) procedure on the non-text data of the raw dataset. The text data is processed in a seperate notebook. \n",
    "***"
   ]
  },
  {
   "cell_type": "code",
   "execution_count": 1,
   "metadata": {
    "collapsed": true
   },
   "outputs": [],
   "source": [
    "import pandas as pd\n",
    "import os.path\n",
    "import codecs\n",
    "import re"
   ]
  },
  {
   "cell_type": "markdown",
   "metadata": {
    "pycharm": {
     "name": "#%% md\n"
    }
   },
   "source": [
    "## 1. Process the Dataset of Course List."
   ]
  },
  {
   "cell_type": "code",
   "execution_count": 2,
   "metadata": {
    "pycharm": {
     "name": "#%%\n"
    }
   },
   "outputs": [
    {
     "name": "stdout",
     "output_type": "stream",
     "text": [
      "Index(['id', 'name', 'seller', 'price', 'original_price', 'lectures', 'hours',\n",
      "       'level'],\n",
      "      dtype='object')\n",
      "(1013, 8)\n"
     ]
    }
   ],
   "source": [
    "data = pd.read_table(\"../data/course_list.tsv\",encoding='utf-8')\n",
    "data = data.iloc[:, :-1]\n",
    "data = data.drop(columns=['link'])\n",
    "print(data.columns)\n",
    "print(data.shape)"
   ]
  },
  {
   "cell_type": "markdown",
   "metadata": {
    "pycharm": {
     "name": "#%% md\n"
    }
   },
   "source": [
    "### Handle Missing data"
   ]
  },
  {
   "cell_type": "code",
   "execution_count": 3,
   "metadata": {
    "pycharm": {
     "name": "#%%\n"
    }
   },
   "outputs": [],
   "source": [
    "data['lectures'].fillna(value=\"All Levels\", inplace=True)\n",
    "data[\"price\"].replace(\"Free\",\"0.0\", inplace=True)\n",
    "data[\"price\"] = data[\"price\"].astype(float)\n",
    "index = data.index[data[\"original_price\"].isna()]\n",
    "data.loc[index,\"original_price\"] = pd.Series(data.loc[index][\"price\"])\n",
    "data[\"level\"] = data[\"level\"].astype('category')"
   ]
  },
  {
   "cell_type": "code",
   "execution_count": 4,
   "metadata": {
    "pycharm": {
     "name": "#%%\n"
    }
   },
   "outputs": [
    {
     "name": "stdout",
     "output_type": "stream",
     "text": [
      "[372, 494, 868, 914]\n"
     ]
    }
   ],
   "source": [
    "total_num = data.shape[0]\n",
    "miss_course = []\n",
    "for i in range(total_num):\n",
    "    if not os.path.exists('../data/raw/'+str(i+1)+'_info.txt'):\n",
    "        miss_course.append(i)\n",
    "print(miss_course)\n",
    "data = data.drop(data.index[miss_course])\n",
    "# data = data.reset_index(drop=True)"
   ]
  },
  {
   "cell_type": "markdown",
   "metadata": {
    "pycharm": {
     "name": "#%% md\n"
    }
   },
   "source": [
    "## 2. Process the Dataset Scrapped from Course Webpage"
   ]
  },
  {
   "cell_type": "code",
   "execution_count": 5,
   "metadata": {
    "pycharm": {
     "name": "#%%\n"
    }
   },
   "outputs": [],
   "source": [
    "title = []\n",
    "enrollment = []\n",
    "rating = []\n",
    "num_ratings = []\n",
    "description = []\n",
    "five_stars = []\n",
    "four_stars = []\n",
    "three_stars = []\n",
    "two_stars = []\n",
    "downloadable_resources = []"
   ]
  },
  {
   "cell_type": "markdown",
   "metadata": {
    "pycharm": {
     "name": "#%% md\n"
    }
   },
   "source": [
    "### Parse variables"
   ]
  },
  {
   "cell_type": "code",
   "execution_count": 6,
   "metadata": {
    "pycharm": {
     "name": "#%%\n"
    }
   },
   "outputs": [],
   "source": [
    "for i in range(total_num):\n",
    "    fname = '../data/raw/'+str(i+1)+'_info.txt'\n",
    "    if i not in miss_course:\n",
    "        with codecs.open(fname,encoding=\"utf8\") as f:\n",
    "            content = f.readlines()\n",
    "        title.append(content[1].replace('\\n',''))\n",
    "        enrollment.append(content[3].replace('\\n',''))\n",
    "        rating.append(content[4].replace('\\n',''))\n",
    "        num_ratings.append(content[5].replace('\\n',''))\n",
    "        description.append(content[7].replace('\\n','') + \" \"+content[8].replace('\\n','')+ \" \"+content[9].replace('\\n',''))\n",
    "        five_stars.append(content[10].replace('\\n',''))\n",
    "        four_stars.append(content[11].replace('\\n',''))\n",
    "        three_stars.append(content[12].replace('\\n',''))\n",
    "        two_stars.append(content[13].replace('\\n',''))\n",
    "        try:\n",
    "            downloadable_resources.append(re.findall(r'\\d+', content[17])[0])\n",
    "        except:\n",
    "            downloadable_resources.append(0)\n",
    "        f.close()"
   ]
  },
  {
   "cell_type": "code",
   "execution_count": 7,
   "metadata": {
    "pycharm": {
     "name": "#%%\n"
    }
   },
   "outputs": [],
   "source": [
    "def convert_star(d):\n",
    "    \"\"\"\n",
    "    Extract percentage value from a string.\n",
    "    :param d: A string have percentage.\n",
    "    :return: A percentage value between 0 and 1.\n",
    "    \"\"\"\n",
    "    tmp = re.findall(r'\\d+', d)\n",
    "    if len(tmp)>0:\n",
    "        return float(tmp[0])/100\n",
    "    else:\n",
    "        return 0"
   ]
  },
  {
   "cell_type": "code",
   "execution_count": 8,
   "metadata": {
    "pycharm": {
     "name": "#%%\n"
    }
   },
   "outputs": [],
   "source": [
    "data['enrollment'] = pd.Series(enrollment).replace(\"NULL\",\"0\").replace(\"\",\"0\").astype(int)\n",
    "data['rating'] = pd.Series(rating).replace(\"NULL\",\"0\").astype(float)\n",
    "data['num_ratings'] = pd.Series(num_ratings).replace(\"NULL\",\"0\").astype(float)\n",
    "data['five_stars'] = pd.Series(five_stars).apply(convert_star)\n",
    "data['four_stars'] = pd.Series(four_stars).apply(convert_star)\n",
    "data['three_stars'] = pd.Series(three_stars).apply(convert_star)\n",
    "data['two_stars'] = pd.Series(two_stars).apply(convert_star)\n",
    "data['description'] = pd.Series(description)\n",
    "data['downloadable_resources'] = pd.Series(downloadable_resources).astype(int)\n",
    "data['description'] = pd.Series(description)\n"
   ]
  },
  {
   "cell_type": "markdown",
   "metadata": {
    "pycharm": {
     "name": "#%% md\n"
    }
   },
   "source": [
    "### Parse intructor information."
   ]
  },
  {
   "cell_type": "code",
   "execution_count": 9,
   "metadata": {
    "pycharm": {
     "name": "#%%\n"
    }
   },
   "outputs": [],
   "source": [
    "instructor_no_courses = []\n",
    "instructor_info = []"
   ]
  },
  {
   "cell_type": "code",
   "execution_count": 10,
   "metadata": {
    "pycharm": {
     "name": "#%%\n"
    }
   },
   "outputs": [],
   "source": [
    "def convert_number(d):\n",
    "    \"\"\"\n",
    "    Extract int value from a string.\n",
    "    :param d: A string with integer.\n",
    "    :return: The integer value.\n",
    "    \"\"\"\n",
    "    d = d.replace(\",\", \"\")\n",
    "    tmp = re.findall(r'\\d+', d)\n",
    "    if len(tmp)>0:\n",
    "        return tmp[0]\n",
    "    else:\n",
    "        return 0"
   ]
  },
  {
   "cell_type": "code",
   "execution_count": 11,
   "metadata": {
    "pycharm": {
     "name": "#%%\n"
    }
   },
   "outputs": [],
   "source": [
    "for i in range(total_num):\n",
    "    fname = '../data/raw/'+str(i+1)+'_instructor.txt'\n",
    "    if i not in miss_course:\n",
    "        with codecs.open(fname,encoding=\"utf8\") as f:\n",
    "            content = f.readlines()\n",
    "        instructor_no_courses.append(convert_number(content[3]))\n",
    "        instructor_info.append(content[6].replace('\\n',''))"
   ]
  },
  {
   "cell_type": "code",
   "execution_count": 12,
   "metadata": {
    "pycharm": {
     "name": "#%%\n"
    }
   },
   "outputs": [],
   "source": [
    "data['instructor_info'] = pd.Series(instructor_info)\n",
    "data['instructor_no_courses'] = pd.Series(instructor_no_courses).astype(int)"
   ]
  },
  {
   "cell_type": "code",
   "execution_count": 13,
   "metadata": {
    "pycharm": {
     "name": "#%%\n"
    }
   },
   "outputs": [
    {
     "data": {
      "text/html": [
       "<div>\n",
       "<style scoped>\n",
       "    .dataframe tbody tr th:only-of-type {\n",
       "        vertical-align: middle;\n",
       "    }\n",
       "\n",
       "    .dataframe tbody tr th {\n",
       "        vertical-align: top;\n",
       "    }\n",
       "\n",
       "    .dataframe thead th {\n",
       "        text-align: right;\n",
       "    }\n",
       "</style>\n",
       "<table border=\"1\" class=\"dataframe\">\n",
       "  <thead>\n",
       "    <tr style=\"text-align: right;\">\n",
       "      <th></th>\n",
       "      <th>id</th>\n",
       "      <th>name</th>\n",
       "      <th>seller</th>\n",
       "      <th>price</th>\n",
       "      <th>original_price</th>\n",
       "      <th>lectures</th>\n",
       "      <th>hours</th>\n",
       "      <th>level</th>\n",
       "      <th>enrollment</th>\n",
       "      <th>rating</th>\n",
       "      <th>num_ratings</th>\n",
       "      <th>five_stars</th>\n",
       "      <th>four_stars</th>\n",
       "      <th>three_stars</th>\n",
       "      <th>two_stars</th>\n",
       "      <th>description</th>\n",
       "      <th>downloadable_resources</th>\n",
       "      <th>instructor_info</th>\n",
       "      <th>instructor_no_courses</th>\n",
       "    </tr>\n",
       "  </thead>\n",
       "  <tbody>\n",
       "    <tr>\n",
       "      <th>0</th>\n",
       "      <td>1</td>\n",
       "      <td>the-complete-sql-bootcamp/</td>\n",
       "      <td>Jose Portilla</td>\n",
       "      <td>25.99</td>\n",
       "      <td>179.99</td>\n",
       "      <td>83</td>\n",
       "      <td>9.0</td>\n",
       "      <td>All Levels</td>\n",
       "      <td>342288.0</td>\n",
       "      <td>4.7</td>\n",
       "      <td>91772.0</td>\n",
       "      <td>0.60</td>\n",
       "      <td>0.33</td>\n",
       "      <td>0.06</td>\n",
       "      <td>0.01</td>\n",
       "      <td>Use SQL to query a database Use SQL to perform...</td>\n",
       "      <td>14.0</td>\n",
       "      <td>Jose Marcial Portilla has a BS and MS in Mec...</td>\n",
       "      <td>31.0</td>\n",
       "    </tr>\n",
       "    <tr>\n",
       "      <th>1</th>\n",
       "      <td>2</td>\n",
       "      <td>tableau10/</td>\n",
       "      <td>Kirill Eremenko  SuperDataScience Team</td>\n",
       "      <td>16.99</td>\n",
       "      <td>124.99</td>\n",
       "      <td>82</td>\n",
       "      <td>9.0</td>\n",
       "      <td>All Levels</td>\n",
       "      <td>231631.0</td>\n",
       "      <td>4.6</td>\n",
       "      <td>61533.0</td>\n",
       "      <td>0.60</td>\n",
       "      <td>0.33</td>\n",
       "      <td>0.06</td>\n",
       "      <td>0.01</td>\n",
       "      <td>Install Tableau Desktop 2020 Connect Tableau t...</td>\n",
       "      <td>6.0</td>\n",
       "      <td>Hi there, We are the Ligency PR and Marketing ...</td>\n",
       "      <td>48.0</td>\n",
       "    </tr>\n",
       "    <tr>\n",
       "      <th>2</th>\n",
       "      <td>3</td>\n",
       "      <td>powerbi-complete-introduction/</td>\n",
       "      <td>Manuel Lorenz  Academind by Maximilian Schwarz...</td>\n",
       "      <td>12.99</td>\n",
       "      <td>94.99</td>\n",
       "      <td>275</td>\n",
       "      <td>23.5</td>\n",
       "      <td>Beginner</td>\n",
       "      <td>148077.0</td>\n",
       "      <td>4.6</td>\n",
       "      <td>43339.0</td>\n",
       "      <td>0.54</td>\n",
       "      <td>0.38</td>\n",
       "      <td>0.07</td>\n",
       "      <td>0.01</td>\n",
       "      <td>At the end of this course students will be abl...</td>\n",
       "      <td>26.0</td>\n",
       "      <td>Experience as (Web) Developer Starting out at ...</td>\n",
       "      <td>35.0</td>\n",
       "    </tr>\n",
       "    <tr>\n",
       "      <th>3</th>\n",
       "      <td>4</td>\n",
       "      <td>microsoft-power-bi-up-running-with-power-bi-de...</td>\n",
       "      <td>Maven Analytics  Chris Dutton  Aaron Parry</td>\n",
       "      <td>19.99</td>\n",
       "      <td>139.99</td>\n",
       "      <td>117</td>\n",
       "      <td>11.0</td>\n",
       "      <td>All Levels</td>\n",
       "      <td>109303.0</td>\n",
       "      <td>4.6</td>\n",
       "      <td>30899.0</td>\n",
       "      <td>0.61</td>\n",
       "      <td>0.33</td>\n",
       "      <td>0.06</td>\n",
       "      <td>0.01</td>\n",
       "      <td>Build professional quality business intelligen...</td>\n",
       "      <td>14.0</td>\n",
       "      <td>Aaron is a professional analytics consultant a...</td>\n",
       "      <td>3.0</td>\n",
       "    </tr>\n",
       "    <tr>\n",
       "      <th>4</th>\n",
       "      <td>5</td>\n",
       "      <td>the-business-intelligence-analyst-course-2018/</td>\n",
       "      <td>365 Careers</td>\n",
       "      <td>12.99</td>\n",
       "      <td>94.99</td>\n",
       "      <td>413</td>\n",
       "      <td>20.5</td>\n",
       "      <td>All Levels</td>\n",
       "      <td>136869.0</td>\n",
       "      <td>4.5</td>\n",
       "      <td>28595.0</td>\n",
       "      <td>0.52</td>\n",
       "      <td>0.37</td>\n",
       "      <td>0.10</td>\n",
       "      <td>0.01</td>\n",
       "      <td>Become an expert in Statistics  SQL  Tableau  ...</td>\n",
       "      <td>151.0</td>\n",
       "      <td>365 Careers is the #1 best-selling provider of...</td>\n",
       "      <td>68.0</td>\n",
       "    </tr>\n",
       "  </tbody>\n",
       "</table>\n",
       "</div>"
      ],
      "text/plain": [
       "   id                                               name  \\\n",
       "0   1                         the-complete-sql-bootcamp/   \n",
       "1   2                                         tableau10/   \n",
       "2   3                     powerbi-complete-introduction/   \n",
       "3   4  microsoft-power-bi-up-running-with-power-bi-de...   \n",
       "4   5     the-business-intelligence-analyst-course-2018/   \n",
       "\n",
       "                                              seller  price  original_price  \\\n",
       "0                                      Jose Portilla  25.99          179.99   \n",
       "1             Kirill Eremenko  SuperDataScience Team  16.99          124.99   \n",
       "2  Manuel Lorenz  Academind by Maximilian Schwarz...  12.99           94.99   \n",
       "3         Maven Analytics  Chris Dutton  Aaron Parry  19.99          139.99   \n",
       "4                                        365 Careers  12.99           94.99   \n",
       "\n",
       "   lectures  hours       level  enrollment  rating  num_ratings  five_stars  \\\n",
       "0        83    9.0  All Levels    342288.0     4.7      91772.0        0.60   \n",
       "1        82    9.0  All Levels    231631.0     4.6      61533.0        0.60   \n",
       "2       275   23.5    Beginner    148077.0     4.6      43339.0        0.54   \n",
       "3       117   11.0  All Levels    109303.0     4.6      30899.0        0.61   \n",
       "4       413   20.5  All Levels    136869.0     4.5      28595.0        0.52   \n",
       "\n",
       "   four_stars  three_stars  two_stars  \\\n",
       "0        0.33         0.06       0.01   \n",
       "1        0.33         0.06       0.01   \n",
       "2        0.38         0.07       0.01   \n",
       "3        0.33         0.06       0.01   \n",
       "4        0.37         0.10       0.01   \n",
       "\n",
       "                                         description  downloadable_resources  \\\n",
       "0  Use SQL to query a database Use SQL to perform...                    14.0   \n",
       "1  Install Tableau Desktop 2020 Connect Tableau t...                     6.0   \n",
       "2  At the end of this course students will be abl...                    26.0   \n",
       "3  Build professional quality business intelligen...                    14.0   \n",
       "4  Become an expert in Statistics  SQL  Tableau  ...                   151.0   \n",
       "\n",
       "                                     instructor_info  instructor_no_courses  \n",
       "0    Jose Marcial Portilla has a BS and MS in Mec...                   31.0  \n",
       "1  Hi there, We are the Ligency PR and Marketing ...                   48.0  \n",
       "2  Experience as (Web) Developer Starting out at ...                   35.0  \n",
       "3  Aaron is a professional analytics consultant a...                    3.0  \n",
       "4  365 Careers is the #1 best-selling provider of...                   68.0  "
      ]
     },
     "execution_count": 13,
     "metadata": {},
     "output_type": "execute_result"
    }
   ],
   "source": [
    "data = data.drop([1009,1010,1011,1012])\n",
    "data.head()"
   ]
  },
  {
   "cell_type": "markdown",
   "metadata": {
    "pycharm": {
     "name": "#%% md\n"
    }
   },
   "source": [
    "## 3. Save the Clean Dataset"
   ]
  },
  {
   "cell_type": "code",
   "execution_count": 14,
   "metadata": {
    "pycharm": {
     "name": "#%%\n"
    }
   },
   "outputs": [],
   "source": [
    "data.to_pickle(\"data.pkl\")"
   ]
  },
  {
   "cell_type": "code",
   "execution_count": 14,
   "metadata": {
    "pycharm": {
     "name": "#%%\n"
    }
   },
   "outputs": [],
   "source": []
  }
 ],
 "metadata": {
  "kernelspec": {
   "display_name": "Python 3",
   "language": "python",
   "name": "python3"
  },
  "language_info": {
   "codemirror_mode": {
    "name": "ipython",
    "version": 3
   },
   "file_extension": ".py",
   "mimetype": "text/x-python",
   "name": "python",
   "nbconvert_exporter": "python",
   "pygments_lexer": "ipython3",
   "version": "3.8.5"
  }
 },
 "nbformat": 4,
 "nbformat_minor": 1
}
